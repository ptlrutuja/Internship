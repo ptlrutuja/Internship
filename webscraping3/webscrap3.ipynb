{
 "cells": [
  {
   "cell_type": "code",
   "execution_count": 8,
   "id": "07cb2d1d",
   "metadata": {},
   "outputs": [
    {
     "name": "stderr",
     "output_type": "stream",
     "text": [
      "<ipython-input-8-16feb5d1a9d4>:5: DeprecationWarning: executable_path has been deprecated, please pass in a Service object\n",
      "  driver = webdriver.Chrome(r\"C:\\Users\\Rutuja\\Downloads\\chromedriver_win32\\chromedriver.exe\")\n",
      "<ipython-input-8-16feb5d1a9d4>:9: DeprecationWarning: find_element_by_* commands are deprecated. Please use find_element() instead\n",
      "  search_item = driver.find_element_by_xpath(\"//input[@class='_3704LK']\")\n",
      "<ipython-input-8-16feb5d1a9d4>:12: DeprecationWarning: find_element_by_* commands are deprecated. Please use find_element() instead\n",
      "  search_btn = driver.find_element_by_xpath(\"(//button[@type ='submit'])[1]\")\n"
     ]
    }
   ],
   "source": [
    "#Q4\n",
    "\n",
    "import selenium\n",
    "import pandas as pd\n",
    "from selenium import webdriver\n",
    "\n",
    "driver = webdriver.Chrome(r\"C:\\Users\\Rutuja\\Downloads\\chromedriver_win32\\chromedriver.exe\")\n",
    "\n",
    "driver.get('https://www.flipkart.com/')\n",
    "\n",
    "search_item = driver.find_element_by_xpath(\"//input[@class='_3704LK']\")\n",
    "search_item.send_keys(\"smartphones\")\n",
    "\n",
    "search_btn = driver.find_element_by_xpath(\"(//button[@type ='submit'])[1]\")\n",
    "#search_btn.send_keys(\"smartphones\")\n",
    "search_btn.submit()\n"
   ]
  },
  {
   "cell_type": "code",
   "execution_count": 9,
   "id": "fd4540b9",
   "metadata": {},
   "outputs": [],
   "source": [
    "url = \"https://www.flipkart.com/search?q=smartphones&otracker=search&otracker1=search&marketplace=FLIPKART&as-show=on&as=off\"\n",
    "\n",
    "\n",
    "driver.get(url)\n",
    "\n",
    "product_name = []\n",
    "product_price = []\n",
    "product_ram = []\n",
    "camera_details = []\n",
    "\n"
   ]
  },
  {
   "cell_type": "code",
   "execution_count": 10,
   "id": "15f7a53f",
   "metadata": {},
   "outputs": [
    {
     "name": "stderr",
     "output_type": "stream",
     "text": [
      "<ipython-input-10-8a96859723a1>:1: DeprecationWarning: find_elements_by_* commands are deprecated. Please use find_elements() instead\n",
      "  titles_tags = driver.find_elements_by_xpath(\"//div[@class='_4rR01T']\")\n"
     ]
    },
    {
     "data": {
      "text/plain": [
       "[<selenium.webdriver.remote.webelement.WebElement (session=\"8992ef13bac377c2136070b0efd53bda\", element=\"979d4bc0-45b0-45ca-a6ba-59bf50a11407\")>,\n",
       " <selenium.webdriver.remote.webelement.WebElement (session=\"8992ef13bac377c2136070b0efd53bda\", element=\"e4b10559-6e10-4292-8eda-89f3aba67f5b\")>,\n",
       " <selenium.webdriver.remote.webelement.WebElement (session=\"8992ef13bac377c2136070b0efd53bda\", element=\"30368148-b3fc-42cd-bb05-fb492c079874\")>,\n",
       " <selenium.webdriver.remote.webelement.WebElement (session=\"8992ef13bac377c2136070b0efd53bda\", element=\"9f71e347-c7e5-4079-95aa-c76cf7a6f5e7\")>,\n",
       " <selenium.webdriver.remote.webelement.WebElement (session=\"8992ef13bac377c2136070b0efd53bda\", element=\"3b5b5315-c3fb-422c-9dd0-71fb5ba6755d\")>,\n",
       " <selenium.webdriver.remote.webelement.WebElement (session=\"8992ef13bac377c2136070b0efd53bda\", element=\"61dc04b9-e15a-47c0-bbc6-816594d0b400\")>,\n",
       " <selenium.webdriver.remote.webelement.WebElement (session=\"8992ef13bac377c2136070b0efd53bda\", element=\"9b32ce88-b035-4137-b124-ed2c5a9fbbf7\")>,\n",
       " <selenium.webdriver.remote.webelement.WebElement (session=\"8992ef13bac377c2136070b0efd53bda\", element=\"f5a8dba5-63d4-44ba-bbdb-a0dbb37dcb95\")>,\n",
       " <selenium.webdriver.remote.webelement.WebElement (session=\"8992ef13bac377c2136070b0efd53bda\", element=\"0a97df46-ec25-4959-b94d-35bbefc65f7c\")>,\n",
       " <selenium.webdriver.remote.webelement.WebElement (session=\"8992ef13bac377c2136070b0efd53bda\", element=\"ef107c10-8627-4c67-a829-f52133793367\")>]"
      ]
     },
     "execution_count": 10,
     "metadata": {},
     "output_type": "execute_result"
    }
   ],
   "source": [
    "titles_tags = driver.find_elements_by_xpath(\"//div[@class='_4rR01T']\")\n",
    "titles_tags[0:10]"
   ]
  },
  {
   "cell_type": "code",
   "execution_count": 11,
   "id": "05a7f198",
   "metadata": {},
   "outputs": [
    {
     "data": {
      "text/plain": [
       "['realme C25Y (Glacier Blue, 64 GB)',\n",
       " 'realme Narzo 50A (Oxygen Blue, 128 GB)',\n",
       " 'realme C25Y (Metal Grey, 64 GB)',\n",
       " 'GIONEE Max Pro (Red, 32 GB)',\n",
       " 'realme 8i (Space Purple, 64 GB)',\n",
       " 'realme 8i (Space Purple, 128 GB)',\n",
       " 'realme 8i (Space Black, 128 GB)',\n",
       " 'realme Narzo 50A (Oxygen Green, 128 GB)',\n",
       " 'realme Narzo 50A (Oxygen Green, 64 GB)',\n",
       " 'realme Narzo 50A (Oxygen Blue, 64 GB)']"
      ]
     },
     "execution_count": 11,
     "metadata": {},
     "output_type": "execute_result"
    }
   ],
   "source": [
    "for i in titles_tags:\n",
    "    title=i.text\n",
    "    product_name.append(title)\n",
    "product_name[0:10]"
   ]
  },
  {
   "cell_type": "code",
   "execution_count": 12,
   "id": "3c95d653",
   "metadata": {},
   "outputs": [
    {
     "name": "stderr",
     "output_type": "stream",
     "text": [
      "<ipython-input-12-54d248399563>:1: DeprecationWarning: find_elements_by_* commands are deprecated. Please use find_elements() instead\n",
      "  price_tags = driver.find_elements_by_xpath(\"//div[@class='_30jeq3 _1_WHN1']\")\n"
     ]
    },
    {
     "data": {
      "text/plain": [
       "[<selenium.webdriver.remote.webelement.WebElement (session=\"8992ef13bac377c2136070b0efd53bda\", element=\"0475b939-ad16-4828-bced-9c3d3232a0ca\")>,\n",
       " <selenium.webdriver.remote.webelement.WebElement (session=\"8992ef13bac377c2136070b0efd53bda\", element=\"911cf306-87fb-424f-a62a-afdfd5bec4e8\")>,\n",
       " <selenium.webdriver.remote.webelement.WebElement (session=\"8992ef13bac377c2136070b0efd53bda\", element=\"f1e0395e-d66f-4346-b23c-ad54aae35154\")>,\n",
       " <selenium.webdriver.remote.webelement.WebElement (session=\"8992ef13bac377c2136070b0efd53bda\", element=\"b95a9903-da34-48ae-9081-ac4f529eb2fc\")>,\n",
       " <selenium.webdriver.remote.webelement.WebElement (session=\"8992ef13bac377c2136070b0efd53bda\", element=\"298ec6f9-abbd-41a3-bca5-546b8ee1bd12\")>,\n",
       " <selenium.webdriver.remote.webelement.WebElement (session=\"8992ef13bac377c2136070b0efd53bda\", element=\"60e6e4a0-83f7-413b-a2a5-23e76ae6ae22\")>,\n",
       " <selenium.webdriver.remote.webelement.WebElement (session=\"8992ef13bac377c2136070b0efd53bda\", element=\"206ebc4a-c6c0-4958-88bb-031518023e4a\")>,\n",
       " <selenium.webdriver.remote.webelement.WebElement (session=\"8992ef13bac377c2136070b0efd53bda\", element=\"4f8527b8-aa45-4780-a878-563ed09ae1c5\")>,\n",
       " <selenium.webdriver.remote.webelement.WebElement (session=\"8992ef13bac377c2136070b0efd53bda\", element=\"8abeb4dd-6487-4476-b793-8b64552d6618\")>,\n",
       " <selenium.webdriver.remote.webelement.WebElement (session=\"8992ef13bac377c2136070b0efd53bda\", element=\"b84747ec-5d66-4c76-9262-2f260b061df0\")>]"
      ]
     },
     "execution_count": 12,
     "metadata": {},
     "output_type": "execute_result"
    }
   ],
   "source": [
    "price_tags = driver.find_elements_by_xpath(\"//div[@class='_30jeq3 _1_WHN1']\")\n",
    "price_tags[0:10]"
   ]
  },
  {
   "cell_type": "code",
   "execution_count": 13,
   "id": "120240e6",
   "metadata": {},
   "outputs": [
    {
     "data": {
      "text/plain": [
       "['₹10,999',\n",
       " '₹12,499',\n",
       " '₹10,999',\n",
       " '₹9,999',\n",
       " '₹13,999',\n",
       " '₹15,999',\n",
       " '₹15,999',\n",
       " '₹12,499',\n",
       " '₹11,499',\n",
       " '₹11,499']"
      ]
     },
     "execution_count": 13,
     "metadata": {},
     "output_type": "execute_result"
    }
   ],
   "source": [
    "for i in price_tags:\n",
    "    prices=i.text\n",
    "    product_price.append(prices)\n",
    "product_price[0:10]"
   ]
  },
  {
   "cell_type": "code",
   "execution_count": 14,
   "id": "3dd3b92d",
   "metadata": {},
   "outputs": [
    {
     "name": "stderr",
     "output_type": "stream",
     "text": [
      "<ipython-input-14-18074554aecb>:1: DeprecationWarning: find_elements_by_* commands are deprecated. Please use find_elements() instead\n",
      "  ram_tags = driver.find_elements_by_xpath(\"//li[@class='rgWa7D']\")\n"
     ]
    },
    {
     "data": {
      "text/plain": [
       "[<selenium.webdriver.remote.webelement.WebElement (session=\"8992ef13bac377c2136070b0efd53bda\", element=\"73412af2-7882-4268-843a-7e0f1cc0145a\")>,\n",
       " <selenium.webdriver.remote.webelement.WebElement (session=\"8992ef13bac377c2136070b0efd53bda\", element=\"6b9a1396-6b92-40b7-985b-ba0a4c8f1301\")>,\n",
       " <selenium.webdriver.remote.webelement.WebElement (session=\"8992ef13bac377c2136070b0efd53bda\", element=\"73e07a3a-7ee6-4c9a-9f17-db17f6715a2a\")>,\n",
       " <selenium.webdriver.remote.webelement.WebElement (session=\"8992ef13bac377c2136070b0efd53bda\", element=\"25941c01-5034-4d8f-b05b-e2956f6bfba0\")>,\n",
       " <selenium.webdriver.remote.webelement.WebElement (session=\"8992ef13bac377c2136070b0efd53bda\", element=\"5402ced8-2968-4df5-b1ab-1f792cee5193\")>,\n",
       " <selenium.webdriver.remote.webelement.WebElement (session=\"8992ef13bac377c2136070b0efd53bda\", element=\"79c3496a-09d3-4983-902d-d3658afd9b8c\")>,\n",
       " <selenium.webdriver.remote.webelement.WebElement (session=\"8992ef13bac377c2136070b0efd53bda\", element=\"b152daec-c2f5-4d66-bae5-dc028d6624ef\")>,\n",
       " <selenium.webdriver.remote.webelement.WebElement (session=\"8992ef13bac377c2136070b0efd53bda\", element=\"643adb57-cb53-412e-95ff-6a7d4983cdce\")>,\n",
       " <selenium.webdriver.remote.webelement.WebElement (session=\"8992ef13bac377c2136070b0efd53bda\", element=\"268ab16b-078a-4467-a972-75998ae4ac4b\")>,\n",
       " <selenium.webdriver.remote.webelement.WebElement (session=\"8992ef13bac377c2136070b0efd53bda\", element=\"75c7ad99-6442-4a6b-88dd-15ac3c7c3fc0\")>]"
      ]
     },
     "execution_count": 14,
     "metadata": {},
     "output_type": "execute_result"
    }
   ],
   "source": [
    "ram_tags = driver.find_elements_by_xpath(\"//li[@class='rgWa7D']\")\n",
    "ram_tags[0:10]"
   ]
  },
  {
   "cell_type": "code",
   "execution_count": 15,
   "id": "b4aed176",
   "metadata": {},
   "outputs": [
    {
     "data": {
      "text/plain": [
       "['4 GB RAM | 64 GB ROM | Expandable Upto 256 GB',\n",
       " '16.51 cm (6.5 inch) HD+ Display',\n",
       " '50MP + 2MP + 2MP | 8MP Front Camera',\n",
       " '5000 mAh Battery',\n",
       " 'Unisoc T610 Octa Core Processor',\n",
       " '1 Year Warranty for Mobile and 6 Months for Accessories',\n",
       " '4 GB RAM | 128 GB ROM | Expandable Upto 256 GB',\n",
       " '16.51 cm (6.5 inch) HD+ Display',\n",
       " '50MP + 2MP + 2MP | 8MP Front Camera',\n",
       " '6000 mAh Battery']"
      ]
     },
     "execution_count": 15,
     "metadata": {},
     "output_type": "execute_result"
    }
   ],
   "source": [
    "for i in ram_tags:\n",
    "    ram=i.text\n",
    "    product_ram.append(ram)\n",
    "product_ram[0:10]"
   ]
  },
  {
   "cell_type": "code",
   "execution_count": 17,
   "id": "ef9a337f",
   "metadata": {},
   "outputs": [
    {
     "name": "stderr",
     "output_type": "stream",
     "text": [
      "<ipython-input-17-665c342ec4c0>:1: DeprecationWarning: find_elements_by_* commands are deprecated. Please use find_elements() instead\n",
      "  camera_tags = driver.find_elements_by_xpath(\"//li[@class='rgWa7D']\")\n"
     ]
    },
    {
     "data": {
      "text/plain": [
       "[<selenium.webdriver.remote.webelement.WebElement (session=\"8992ef13bac377c2136070b0efd53bda\", element=\"73412af2-7882-4268-843a-7e0f1cc0145a\")>,\n",
       " <selenium.webdriver.remote.webelement.WebElement (session=\"8992ef13bac377c2136070b0efd53bda\", element=\"6b9a1396-6b92-40b7-985b-ba0a4c8f1301\")>,\n",
       " <selenium.webdriver.remote.webelement.WebElement (session=\"8992ef13bac377c2136070b0efd53bda\", element=\"73e07a3a-7ee6-4c9a-9f17-db17f6715a2a\")>,\n",
       " <selenium.webdriver.remote.webelement.WebElement (session=\"8992ef13bac377c2136070b0efd53bda\", element=\"25941c01-5034-4d8f-b05b-e2956f6bfba0\")>,\n",
       " <selenium.webdriver.remote.webelement.WebElement (session=\"8992ef13bac377c2136070b0efd53bda\", element=\"5402ced8-2968-4df5-b1ab-1f792cee5193\")>,\n",
       " <selenium.webdriver.remote.webelement.WebElement (session=\"8992ef13bac377c2136070b0efd53bda\", element=\"79c3496a-09d3-4983-902d-d3658afd9b8c\")>,\n",
       " <selenium.webdriver.remote.webelement.WebElement (session=\"8992ef13bac377c2136070b0efd53bda\", element=\"b152daec-c2f5-4d66-bae5-dc028d6624ef\")>,\n",
       " <selenium.webdriver.remote.webelement.WebElement (session=\"8992ef13bac377c2136070b0efd53bda\", element=\"643adb57-cb53-412e-95ff-6a7d4983cdce\")>,\n",
       " <selenium.webdriver.remote.webelement.WebElement (session=\"8992ef13bac377c2136070b0efd53bda\", element=\"268ab16b-078a-4467-a972-75998ae4ac4b\")>,\n",
       " <selenium.webdriver.remote.webelement.WebElement (session=\"8992ef13bac377c2136070b0efd53bda\", element=\"75c7ad99-6442-4a6b-88dd-15ac3c7c3fc0\")>]"
      ]
     },
     "execution_count": 17,
     "metadata": {},
     "output_type": "execute_result"
    }
   ],
   "source": [
    "camera_tags = driver.find_elements_by_xpath(\"//li[@class='rgWa7D']\")\n",
    "camera_tags[0:10]"
   ]
  },
  {
   "cell_type": "code",
   "execution_count": 18,
   "id": "f0c048e8",
   "metadata": {},
   "outputs": [
    {
     "data": {
      "text/plain": [
       "['4 GB RAM | 64 GB ROM | Expandable Upto 256 GB',\n",
       " '16.51 cm (6.5 inch) HD+ Display',\n",
       " '50MP + 2MP + 2MP | 8MP Front Camera',\n",
       " '5000 mAh Battery',\n",
       " 'Unisoc T610 Octa Core Processor',\n",
       " '1 Year Warranty for Mobile and 6 Months for Accessories',\n",
       " '4 GB RAM | 128 GB ROM | Expandable Upto 256 GB',\n",
       " '16.51 cm (6.5 inch) HD+ Display',\n",
       " '50MP + 2MP + 2MP | 8MP Front Camera',\n",
       " '6000 mAh Battery']"
      ]
     },
     "execution_count": 18,
     "metadata": {},
     "output_type": "execute_result"
    }
   ],
   "source": [
    "for i in camera_tags:\n",
    "    camera=i.text\n",
    "    camera_details.append(camera)\n",
    "camera_details[0:10]"
   ]
  },
  {
   "cell_type": "code",
   "execution_count": 24,
   "id": "ae9449b1",
   "metadata": {},
   "outputs": [
    {
     "name": "stdout",
     "output_type": "stream",
     "text": [
      "    Unnamed: 0                            Product_Brand    Price    Ram  \\\n",
      "0            0        realme C25Y (Glacier Blue, 64 GB)  ₹10,999  False   \n",
      "1            1   realme Narzo 50A (Oxygen Blue, 128 GB)  ₹12,499  False   \n",
      "2            2          realme C25Y (Metal Grey, 64 GB)  ₹10,999  False   \n",
      "3            3              GIONEE Max Pro (Red, 32 GB)   ₹9,999  False   \n",
      "4            4          realme 8i (Space Purple, 64 GB)  ₹13,999  False   \n",
      "5            5         realme 8i (Space Purple, 128 GB)  ₹15,999  False   \n",
      "6            6          realme 8i (Space Black, 128 GB)  ₹15,999  False   \n",
      "7            7  realme Narzo 50A (Oxygen Green, 128 GB)  ₹12,499  False   \n",
      "8            8   realme Narzo 50A (Oxygen Green, 64 GB)  ₹11,499  False   \n",
      "9            9    realme Narzo 50A (Oxygen Blue, 64 GB)  ₹11,499  False   \n",
      "10          10           realme 8i (Space Black, 64 GB)  ₹13,999  False   \n",
      "11          11         realme C21Y (Cross Black, 32 GB)   ₹9,499  False   \n",
      "12          12     REDMI 9i Sport (Carbon Black, 64 GB)   ₹8,799  False   \n",
      "13          13         realme C21Y (Cross Black, 64 GB)  ₹10,499  False   \n",
      "14          14         REDMI 9i (Midnight Black, 64 GB)   ₹8,799  False   \n",
      "15          15           REDMI 9i (Nature Green, 64 GB)   ₹8,799  False   \n",
      "16          16   realme Narzo 50i (Carbon Black, 32 GB)   ₹7,499  False   \n",
      "17          17     realme Narzo 50i (Mint Green, 32 GB)   ₹7,499  False   \n",
      "18          18   realme 8s 5G (Universe Purple, 128 GB)  ₹19,999  False   \n",
      "19          19     realme 8s 5G (Universe Blue, 128 GB)  ₹19,999  False   \n",
      "20          20         realme C25Y (Metal Grey, 128 GB)  ₹11,999  False   \n",
      "21          21       realme C25Y (Glacier Blue, 128 GB)  ₹11,999  False   \n",
      "22          22               REDMI 9i (Sea Blue, 64 GB)   ₹8,799  False   \n",
      "23          23   realme 8 5G (Supersonic Black, 128 GB)  ₹18,499  False   \n",
      "\n",
      "    Camera  \n",
      "0    False  \n",
      "1    False  \n",
      "2    False  \n",
      "3    False  \n",
      "4    False  \n",
      "5    False  \n",
      "6    False  \n",
      "7    False  \n",
      "8    False  \n",
      "9    False  \n",
      "10   False  \n",
      "11   False  \n",
      "12   False  \n",
      "13   False  \n",
      "14   False  \n",
      "15   False  \n",
      "16   False  \n",
      "17   False  \n",
      "18   False  \n",
      "19   False  \n",
      "20   False  \n",
      "21   False  \n",
      "22   False  \n",
      "23   False  \n"
     ]
    }
   ],
   "source": [
    "product_info =pd.DataFrame({})\n",
    "product_info['Product_Brand']= product_name\n",
    "product_info['Price']= product_price\n",
    "product_info['Ram']= product_ram == 10\n",
    "product_info['Camera']= camera_details == 10\n",
    "\n",
    "\n",
    "#import pandas as pd\n",
    "\n",
    "#product_info = []\n",
    "convert = pd.DataFrame(product_info)\n",
    "convert.to_csv(\"output.csv\")\n",
    "\n",
    "a = pd.read_csv(\"output.csv\")\n",
    "print(a)\n",
    "\n"
   ]
  },
  {
   "cell_type": "code",
   "execution_count": 9,
   "id": "abc67cce",
   "metadata": {},
   "outputs": [
    {
     "name": "stderr",
     "output_type": "stream",
     "text": [
      "<ipython-input-9-c63d07cf1857>:5: DeprecationWarning: executable_path has been deprecated, please pass in a Service object\n",
      "  driver = webdriver.Chrome(r\"C:\\Users\\Rutuja\\Downloads\\chromedriver_win32\\chromedriver.exe\")\n"
     ]
    }
   ],
   "source": [
    "#Q9\n",
    "import selenium\n",
    "import pandas as pd\n",
    "from selenium import webdriver\n",
    "\n",
    "driver = webdriver.Chrome(r\"C:\\Users\\Rutuja\\Downloads\\chromedriver_win32\\chromedriver.exe\")\n",
    "\n",
    "driver.get('https://www.youtube.com/')\n",
    "\n",
    "#search_item = driver.find_element_by_id('twotabsearchtextbox')\n",
    "#search_item.send_keys('')\n",
    "\n",
    "#search_btn = driver.find_element_by_id('nav-search-submit-button')\n",
    "#search_btn.click()"
   ]
  },
  {
   "cell_type": "code",
   "execution_count": 10,
   "id": "4a79fa1a",
   "metadata": {},
   "outputs": [],
   "source": [
    "url = \"https://www.youtube.com/watch?v=lTypMlVBFM4\"\n",
    "\n",
    "driver.get(url)\n",
    "\n",
    "\n",
    "comments_data = []\n",
    "votes_data = []\n",
    "posted_time = []"
   ]
  },
  {
   "cell_type": "code",
   "execution_count": 22,
   "id": "2f4ccc06",
   "metadata": {},
   "outputs": [
    {
     "name": "stderr",
     "output_type": "stream",
     "text": [
      "<ipython-input-22-739defd07ef2>:1: DeprecationWarning: find_elements_by_* commands are deprecated. Please use find_elements() instead\n",
      "  titles_tags = driver.find_elements_by_id('content-text')\n"
     ]
    },
    {
     "data": {
      "text/plain": [
       "[<selenium.webdriver.remote.webelement.WebElement (session=\"086d7fcf1328f77258ccb8f727035fb4\", element=\"00544ef2-1960-4d2c-8799-451dfaf723e1\")>,\n",
       " <selenium.webdriver.remote.webelement.WebElement (session=\"086d7fcf1328f77258ccb8f727035fb4\", element=\"66ba4725-cb79-4f0a-b6a4-149088fd06e6\")>,\n",
       " <selenium.webdriver.remote.webelement.WebElement (session=\"086d7fcf1328f77258ccb8f727035fb4\", element=\"4b713cec-56b0-4f7b-b626-943af2efd27b\")>,\n",
       " <selenium.webdriver.remote.webelement.WebElement (session=\"086d7fcf1328f77258ccb8f727035fb4\", element=\"b885851a-c8a2-4885-afdd-4d47d3d35651\")>,\n",
       " <selenium.webdriver.remote.webelement.WebElement (session=\"086d7fcf1328f77258ccb8f727035fb4\", element=\"9c04ef46-e5af-4f95-b726-23749e6f037f\")>,\n",
       " <selenium.webdriver.remote.webelement.WebElement (session=\"086d7fcf1328f77258ccb8f727035fb4\", element=\"905f7201-7b9c-4865-b7f0-95aec20f3388\")>,\n",
       " <selenium.webdriver.remote.webelement.WebElement (session=\"086d7fcf1328f77258ccb8f727035fb4\", element=\"dae0928c-ed93-4d10-867a-876ae8e9e285\")>,\n",
       " <selenium.webdriver.remote.webelement.WebElement (session=\"086d7fcf1328f77258ccb8f727035fb4\", element=\"c6fb0162-48ce-4238-9336-bb3b9127aa1e\")>,\n",
       " <selenium.webdriver.remote.webelement.WebElement (session=\"086d7fcf1328f77258ccb8f727035fb4\", element=\"6fb1e135-cbbc-4dfc-992d-bcfcdb286dd6\")>,\n",
       " <selenium.webdriver.remote.webelement.WebElement (session=\"086d7fcf1328f77258ccb8f727035fb4\", element=\"de1d9d00-52ac-4b33-bbb1-a46332f10828\")>]"
      ]
     },
     "execution_count": 22,
     "metadata": {},
     "output_type": "execute_result"
    }
   ],
   "source": [
    "titles_tags = driver.find_elements_by_id('content-text')\n",
    "titles_tags[0:10]"
   ]
  },
  {
   "cell_type": "code",
   "execution_count": 26,
   "id": "780e4c89",
   "metadata": {},
   "outputs": [
    {
     "name": "stdout",
     "output_type": "stream",
     "text": [
      "Quick sharing of my story before I say huge, enormous THANK YOU 😊 🙏 I started a new job a few months ago and I had to do web scraping and stuff which was so new and terrifying to me. thanks to your videos I managed to go for it and do tasks which used to be completely beyond my understanding. So, John,  THANK YOU MILLION TIMES for your efforts and work put into this channel\n",
      "Hello John! Thank you for all these videos. I've been working on some webscaping projects and literally been on your channel all day! I will recommend this to all my friends to subscribe! \n",
      "Quick question, for a website like glassdoor...what would you use for the XPATH for the company title and position? I can't seem to figure it out.\n",
      "Hey John, great video as usual! Do you have any tips on how to scrape a table without any class attributes?  ( I tried using this code and find by xpath as top line before the for loop but it only prints out the first element) \n",
      "Thanks a lot !\n",
      "Agreed, this is the best, clear, practical and to the point tutorial out there. Thanks so much!\n",
      "Hello, Thanks for the nice tutorials.\n",
      "In a video you showed about the \"requests_html\" library to scrape dynamic content, so how feasible is it in comparison of Selenium.( I understand the Power of Selenium), but I have few questions:\n",
      "1) can we scrape big sites like YouTube, amazon with reauests_html, and get the dynamic data ? \n",
      "Seriously, this is a fabulous video. You explained it very well. Please do full series of web scraping.😊\n",
      "Good Work.\n",
      "Perfect level for a beginner. Easy to follow and understand. Learned a lot, thanks.\n",
      "Wonderful! Thanks man!\n",
      "I especially liked how you started from each video 'catalog' and then iterated inside for each video. \n",
      "I am a total beginner in coding and I find your videos very helpful, thank you\n",
      "Thank you for your detailed video. It helped me a lot in understanding selenium. Appreciate a lot 🙏😊\n",
      "However, I have one query. I am aiming to scrape multiple dynamic pages  in parallel within only session. Can you suggest what method can be used to achieve this?\n",
      "Hey John!\n",
      "\n",
      "Good video, very comprehensible and well explained.\n",
      "\n",
      "But I have a question: How do I scrape many different dynamic Websites (10-15) with selenium in parallel?\n",
      "\n",
      "Because there is realtime-data I want to scrape, it has to be simultaneous and not one after the other.\n",
      "I've found that selenium can get terribly slow while locating elements especially when you try to locate by xpath. Finding by class_name or tag name are seemingly faster. Still though it took about 15-20 mins to process 2000 entries and write to file.\n",
      "Sir, your videos are amazing.Really helped me clearing many many doubts in scraping.Thank you so much.May God bless you.!\n",
      "thanks John for sharing this videos and managing your time to do them, these are really helpful. I'm looking for all selenium videos you created, but found just 2 of them. I wish you help us again and create some new ones about selenium in a higher level.... thanks again\n",
      "simple, effective, direct.\n",
      "\n",
      "amazing job.\n",
      "Just a suggestion, could you have your code in a text file downloadable.  This would be a great help.  Your videos are great BTW, I am a big fan!\n",
      "great explanation of each point, Sir please make a full series of web scraping including some advance stuff, thanks\n",
      "Great tutorial. Can you also make a video about following the links and extracting data from inside the link?\n",
      "Thanks for your high-quality and well_explained video!\n",
      "I found this by algorithm (Thanks algorithm) and your videos is so helpful.\n",
      "\n",
      "I have one question!\n",
      "Super helpful! Allowed me to finish my project for work! Thank you!\n"
     ]
    }
   ],
   "source": [
    "for i in titles_tags:\n",
    "    comments_data = print(i.text)\n"
   ]
  },
  {
   "cell_type": "code",
   "execution_count": 27,
   "id": "f46c326a",
   "metadata": {},
   "outputs": [
    {
     "name": "stderr",
     "output_type": "stream",
     "text": [
      "<ipython-input-27-001cffc254a4>:1: DeprecationWarning: find_elements_by_* commands are deprecated. Please use find_elements() instead\n",
      "  votes_tags = driver.find_elements_by_id('vote-count-middle')\n"
     ]
    },
    {
     "data": {
      "text/plain": [
       "[<selenium.webdriver.remote.webelement.WebElement (session=\"086d7fcf1328f77258ccb8f727035fb4\", element=\"750aefdd-e313-4b27-b309-c972f426d959\")>,\n",
       " <selenium.webdriver.remote.webelement.WebElement (session=\"086d7fcf1328f77258ccb8f727035fb4\", element=\"722975ff-2a4c-4973-aa10-f025d5e10268\")>,\n",
       " <selenium.webdriver.remote.webelement.WebElement (session=\"086d7fcf1328f77258ccb8f727035fb4\", element=\"90ac5838-bbb4-40cd-adf0-58c0a0379317\")>,\n",
       " <selenium.webdriver.remote.webelement.WebElement (session=\"086d7fcf1328f77258ccb8f727035fb4\", element=\"2152c169-37c3-4197-a57c-2e821167070c\")>,\n",
       " <selenium.webdriver.remote.webelement.WebElement (session=\"086d7fcf1328f77258ccb8f727035fb4\", element=\"e64e9090-5a75-45c6-a8ce-910a635e2ddd\")>,\n",
       " <selenium.webdriver.remote.webelement.WebElement (session=\"086d7fcf1328f77258ccb8f727035fb4\", element=\"e585404e-69bd-4b96-8b07-3b11eb378890\")>,\n",
       " <selenium.webdriver.remote.webelement.WebElement (session=\"086d7fcf1328f77258ccb8f727035fb4\", element=\"431def21-691a-424c-a4aa-9baa7de11a05\")>,\n",
       " <selenium.webdriver.remote.webelement.WebElement (session=\"086d7fcf1328f77258ccb8f727035fb4\", element=\"35413352-03df-4559-bac4-f7724c22dae2\")>,\n",
       " <selenium.webdriver.remote.webelement.WebElement (session=\"086d7fcf1328f77258ccb8f727035fb4\", element=\"44c2f106-24e7-42fe-892c-929462d5f274\")>,\n",
       " <selenium.webdriver.remote.webelement.WebElement (session=\"086d7fcf1328f77258ccb8f727035fb4\", element=\"16314dbc-a5d9-47b7-b947-273ee5d6c660\")>]"
      ]
     },
     "execution_count": 27,
     "metadata": {},
     "output_type": "execute_result"
    }
   ],
   "source": [
    "votes_tags = driver.find_elements_by_id('vote-count-middle')\n",
    "votes_tags[0:10]"
   ]
  },
  {
   "cell_type": "code",
   "execution_count": 28,
   "id": "3b38b4f5",
   "metadata": {},
   "outputs": [
    {
     "data": {
      "text/plain": [
       "['11', '2', '', '2', '3', '2', '2', '6', '3', '']"
      ]
     },
     "execution_count": 28,
     "metadata": {},
     "output_type": "execute_result"
    }
   ],
   "source": [
    "for i in votes_tags:\n",
    "    title=i.text\n",
    "    votes_data.append(title)\n",
    "votes_data[0:10]"
   ]
  },
  {
   "cell_type": "code",
   "execution_count": 29,
   "id": "b2a29ec5",
   "metadata": {},
   "outputs": [
    {
     "name": "stderr",
     "output_type": "stream",
     "text": [
      "<ipython-input-29-129b3701ed62>:1: DeprecationWarning: find_elements_by_* commands are deprecated. Please use find_elements() instead\n",
      "  time_tags = driver.find_elements_by_xpath(\"//a[@class='yt-simple-endpoint style-scope yt-formatted-string']\")\n"
     ]
    },
    {
     "data": {
      "text/plain": [
       "[<selenium.webdriver.remote.webelement.WebElement (session=\"086d7fcf1328f77258ccb8f727035fb4\", element=\"92e6adb7-6345-4098-8680-b4a3f7f7fe04\")>,\n",
       " <selenium.webdriver.remote.webelement.WebElement (session=\"086d7fcf1328f77258ccb8f727035fb4\", element=\"58929a09-51c4-45f7-9775-dbdbdbc33742\")>,\n",
       " <selenium.webdriver.remote.webelement.WebElement (session=\"086d7fcf1328f77258ccb8f727035fb4\", element=\"6f9966aa-359b-4ffa-850b-2f6fd64af4b9\")>,\n",
       " <selenium.webdriver.remote.webelement.WebElement (session=\"086d7fcf1328f77258ccb8f727035fb4\", element=\"1f01d149-f59f-4509-81c9-776f7b298ae9\")>,\n",
       " <selenium.webdriver.remote.webelement.WebElement (session=\"086d7fcf1328f77258ccb8f727035fb4\", element=\"0de9f07e-201f-49e9-9799-14d10fc26ad7\")>,\n",
       " <selenium.webdriver.remote.webelement.WebElement (session=\"086d7fcf1328f77258ccb8f727035fb4\", element=\"95bbb295-1289-4f9c-8bf2-e1ac638db836\")>,\n",
       " <selenium.webdriver.remote.webelement.WebElement (session=\"086d7fcf1328f77258ccb8f727035fb4\", element=\"c348cf9e-21e8-4e72-9dd8-d89c686a9c0f\")>,\n",
       " <selenium.webdriver.remote.webelement.WebElement (session=\"086d7fcf1328f77258ccb8f727035fb4\", element=\"d870d3c1-2e02-4397-b722-89ac01a367d5\")>,\n",
       " <selenium.webdriver.remote.webelement.WebElement (session=\"086d7fcf1328f77258ccb8f727035fb4\", element=\"e0a0194d-dd91-4763-8fd1-ee5db07af06f\")>,\n",
       " <selenium.webdriver.remote.webelement.WebElement (session=\"086d7fcf1328f77258ccb8f727035fb4\", element=\"8d7adfa6-0bbe-4d19-8a90-4246d82d1beb\")>]"
      ]
     },
     "execution_count": 29,
     "metadata": {},
     "output_type": "execute_result"
    }
   ],
   "source": [
    "time_tags = driver.find_elements_by_xpath(\"//a[@class='yt-simple-endpoint style-scope yt-formatted-string']\")\n",
    "time_tags[0:10]\n",
    "\n"
   ]
  },
  {
   "cell_type": "code",
   "execution_count": 33,
   "id": "c71fe536",
   "metadata": {},
   "outputs": [
    {
     "data": {
      "text/plain": [
       "['John Watson Rooney',\n",
       " '',\n",
       " '',\n",
       " '',\n",
       " '8 months ago',\n",
       " '',\n",
       " '10 months ago',\n",
       " '',\n",
       " '9 months ago (edited)',\n",
       " '']"
      ]
     },
     "execution_count": 33,
     "metadata": {},
     "output_type": "execute_result"
    }
   ],
   "source": [
    "for i in time_tags:\n",
    "    time=i.text\n",
    "    posted_time.append(time)\n",
    "posted_time[0:10]"
   ]
  },
  {
   "cell_type": "code",
   "execution_count": 36,
   "id": "cc251a61",
   "metadata": {},
   "outputs": [
    {
     "name": "stdout",
     "output_type": "stream",
     "text": [
      "    Unnamed: 0  comments  votes   time\n",
      "0            0       NaN   11.0  False\n",
      "1            1       NaN    2.0  False\n",
      "2            2       NaN    NaN  False\n",
      "3            3       NaN    2.0  False\n",
      "4            4       NaN    3.0  False\n",
      "5            5       NaN    2.0  False\n",
      "6            6       NaN    2.0  False\n",
      "7            7       NaN    6.0  False\n",
      "8            8       NaN    3.0  False\n",
      "9            9       NaN    NaN  False\n",
      "10          10       NaN    1.0  False\n",
      "11          11       NaN    2.0  False\n",
      "12          12       NaN    2.0  False\n",
      "13          13       NaN    NaN  False\n",
      "14          14       NaN    1.0  False\n",
      "15          15       NaN    1.0  False\n",
      "16          16       NaN    5.0  False\n",
      "17          17       NaN    3.0  False\n",
      "18          18       NaN    2.0  False\n",
      "19          19       NaN    4.0  False\n"
     ]
    }
   ],
   "source": [
    "youtube_video =pd.DataFrame({})\n",
    "youtube_video['comments']= comments_data\n",
    "youtube_video['votes']= votes_data\n",
    "youtube_video['time']= posted_time == 10\n",
    "\n",
    "\n",
    "convert = pd.DataFrame(youtube_video)\n",
    "convert.to_csv(\"out.csv\")\n",
    "\n",
    "a = pd.read_csv(\"out.csv\")\n",
    "print(a)\n",
    "\n"
   ]
  },
  {
   "cell_type": "code",
   "execution_count": 5,
   "id": "afa6273b",
   "metadata": {},
   "outputs": [
    {
     "name": "stderr",
     "output_type": "stream",
     "text": [
      "<ipython-input-5-4b2386d6176d>:5: DeprecationWarning: executable_path has been deprecated, please pass in a Service object\n",
      "  driver = webdriver.Chrome(r\"C:\\Users\\Rutuja\\Downloads\\chromedriver_win32\\chromedriver.exe\")\n",
      "<ipython-input-5-4b2386d6176d>:9: DeprecationWarning: find_element_by_* commands are deprecated. Please use find_element() instead\n",
      "  search_item = driver.find_element_by_xpath(\"//input[@class ='gLFyf gsfi']\")\n",
      "<ipython-input-5-4b2386d6176d>:15: DeprecationWarning: find_element_by_* commands are deprecated. Please use find_element() instead\n",
      "  search_btn = driver.find_element_by_xpath(\"//span[@class ='z1asCe MZy1Rb']\")\n"
     ]
    }
   ],
   "source": [
    "#Q4\n",
    "import selenium\n",
    "import pandas as pd\n",
    "from selenium import webdriver\n",
    "\n",
    "driver = webdriver.Chrome(r\"C:\\Users\\Rutuja\\Downloads\\chromedriver_win32\\chromedriver.exe\")\n",
    "\n",
    "driver.get('https://images.google.com/')\n",
    "\n",
    "search_item = driver.find_element_by_xpath(\"//input[@class ='gLFyf gsfi']\")\n",
    "search_item.send_keys(\"fruits\")\n",
    "\n",
    "#‘fruits’, ‘cars’ and ‘Machine Learning’, ‘Guitar’, ‘Cakes’\n",
    "\n",
    "\n",
    "search_btn = driver.find_element_by_xpath(\"//span[@class ='z1asCe MZy1Rb']\")\n",
    "search_btn.click()"
   ]
  },
  {
   "cell_type": "code",
   "execution_count": 6,
   "id": "80d66dce",
   "metadata": {},
   "outputs": [
    {
     "name": "stderr",
     "output_type": "stream",
     "text": [
      "<ipython-input-6-38fe7d1b7ded>:3: DeprecationWarning: find_elements_by_* commands are deprecated. Please use find_elements() instead\n",
      "  fruit_tags = driver.find_elements_by_xpath(\"//img[@class='rg_i Q4LuWd']\")\n"
     ]
    },
    {
     "data": {
      "text/plain": [
       "[<selenium.webdriver.remote.webelement.WebElement (session=\"b63467b9c3148b39a764ade6b5741861\", element=\"a461e9e9-7b3d-4e1e-b6a8-3d15faa520f4\")>,\n",
       " <selenium.webdriver.remote.webelement.WebElement (session=\"b63467b9c3148b39a764ade6b5741861\", element=\"f715666f-63a8-4745-834c-0d1c728d7981\")>,\n",
       " <selenium.webdriver.remote.webelement.WebElement (session=\"b63467b9c3148b39a764ade6b5741861\", element=\"b9957cdd-a771-44ed-8f53-ab3fe04e7f88\")>,\n",
       " <selenium.webdriver.remote.webelement.WebElement (session=\"b63467b9c3148b39a764ade6b5741861\", element=\"e8695363-baac-46a6-a73a-0e854286538e\")>,\n",
       " <selenium.webdriver.remote.webelement.WebElement (session=\"b63467b9c3148b39a764ade6b5741861\", element=\"13671088-3e14-4d7c-9386-e829c1f8b0b6\")>,\n",
       " <selenium.webdriver.remote.webelement.WebElement (session=\"b63467b9c3148b39a764ade6b5741861\", element=\"374e354c-5c30-4402-9e5b-140ae315979a\")>,\n",
       " <selenium.webdriver.remote.webelement.WebElement (session=\"b63467b9c3148b39a764ade6b5741861\", element=\"529d847b-9370-4f75-84a3-5c652330cb8a\")>,\n",
       " <selenium.webdriver.remote.webelement.WebElement (session=\"b63467b9c3148b39a764ade6b5741861\", element=\"7ad3573a-5364-4e5f-8e4f-2d61016dc83d\")>,\n",
       " <selenium.webdriver.remote.webelement.WebElement (session=\"b63467b9c3148b39a764ade6b5741861\", element=\"10ba2bd2-9942-41c8-8587-45984ee683bf\")>,\n",
       " <selenium.webdriver.remote.webelement.WebElement (session=\"b63467b9c3148b39a764ade6b5741861\", element=\"07ef1ca0-1f03-4bb3-900a-18adea8ac352\")>]"
      ]
     },
     "execution_count": 6,
     "metadata": {},
     "output_type": "execute_result"
    }
   ],
   "source": [
    "fruits_images = []\n",
    "\n",
    "fruit_tags = driver.find_elements_by_xpath(\"//img[@class='rg_i Q4LuWd']\") \n",
    "fruit_tags[0:10]\n"
   ]
  },
  {
   "cell_type": "code",
   "execution_count": 11,
   "id": "02b102e1",
   "metadata": {},
   "outputs": [
    {
     "name": "stderr",
     "output_type": "stream",
     "text": [
      "<ipython-input-11-275753714879>:1: DeprecationWarning: executable_path has been deprecated, please pass in a Service object\n",
      "  driver = webdriver.Chrome(r\"C:\\Users\\Rutuja\\Downloads\\chromedriver_win32\\chromedriver.exe\")\n",
      "<ipython-input-11-275753714879>:6: DeprecationWarning: find_element_by_* commands are deprecated. Please use find_element() instead\n",
      "  search_item = driver.find_element_by_xpath(\"//input[@class ='gLFyf gsfi']\")\n",
      "<ipython-input-11-275753714879>:12: DeprecationWarning: find_element_by_* commands are deprecated. Please use find_element() instead\n",
      "  search_btn = driver.find_element_by_xpath(\"//span[@class ='z1asCe MZy1Rb']\")\n",
      "<ipython-input-11-275753714879>:18: DeprecationWarning: find_elements_by_* commands are deprecated. Please use find_elements() instead\n",
      "  car_tags = driver.find_elements_by_xpath(\"//img[@class='rg_i Q4LuWd']\")\n"
     ]
    },
    {
     "data": {
      "text/plain": [
       "[<selenium.webdriver.remote.webelement.WebElement (session=\"5083fb7a0a625e6ffda44ea7653f3c3e\", element=\"c3c52610-ac3a-4b80-90b2-80f6c3d0b10f\")>,\n",
       " <selenium.webdriver.remote.webelement.WebElement (session=\"5083fb7a0a625e6ffda44ea7653f3c3e\", element=\"970cce44-efeb-4a74-87d3-058625e4abcf\")>,\n",
       " <selenium.webdriver.remote.webelement.WebElement (session=\"5083fb7a0a625e6ffda44ea7653f3c3e\", element=\"52bf99a8-29bf-47fa-8620-8fee093d194a\")>,\n",
       " <selenium.webdriver.remote.webelement.WebElement (session=\"5083fb7a0a625e6ffda44ea7653f3c3e\", element=\"5499e3d3-9078-4171-999c-b99dae01ac4f\")>,\n",
       " <selenium.webdriver.remote.webelement.WebElement (session=\"5083fb7a0a625e6ffda44ea7653f3c3e\", element=\"f24f6c80-7622-405b-ba37-de0e8fe490e0\")>,\n",
       " <selenium.webdriver.remote.webelement.WebElement (session=\"5083fb7a0a625e6ffda44ea7653f3c3e\", element=\"fbeed9c3-39cd-489c-8722-22f067af0616\")>,\n",
       " <selenium.webdriver.remote.webelement.WebElement (session=\"5083fb7a0a625e6ffda44ea7653f3c3e\", element=\"bc07a292-69a7-4ef5-87df-5b81e184685c\")>,\n",
       " <selenium.webdriver.remote.webelement.WebElement (session=\"5083fb7a0a625e6ffda44ea7653f3c3e\", element=\"516ea39c-ec6d-43d3-ad5d-7531bf73ed64\")>,\n",
       " <selenium.webdriver.remote.webelement.WebElement (session=\"5083fb7a0a625e6ffda44ea7653f3c3e\", element=\"9afc26d7-548d-4c80-931b-6188b5de669e\")>,\n",
       " <selenium.webdriver.remote.webelement.WebElement (session=\"5083fb7a0a625e6ffda44ea7653f3c3e\", element=\"44a6cecb-ac3e-4d2a-a840-028d1e8fc345\")>]"
      ]
     },
     "execution_count": 11,
     "metadata": {},
     "output_type": "execute_result"
    }
   ],
   "source": [
    "driver = webdriver.Chrome(r\"C:\\Users\\Rutuja\\Downloads\\chromedriver_win32\\chromedriver.exe\")\n",
    "\n",
    "driver.get('https://images.google.com/')\n",
    "\n",
    "\n",
    "search_item = driver.find_element_by_xpath(\"//input[@class ='gLFyf gsfi']\")\n",
    "search_item.send_keys(\"car\")\n",
    "\n",
    "#‘fruits’, ‘cars’ and ‘Machine Learning’, ‘Guitar’, ‘Cakes’\n",
    "\n",
    "\n",
    "search_btn = driver.find_element_by_xpath(\"//span[@class ='z1asCe MZy1Rb']\")\n",
    "search_btn.click()\n",
    "\n",
    "\n",
    "car_images = []\n",
    "\n",
    "car_tags = driver.find_elements_by_xpath(\"//img[@class='rg_i Q4LuWd']\") \n",
    "car_tags[0:10]"
   ]
  },
  {
   "cell_type": "code",
   "execution_count": 15,
   "id": "1f992d68",
   "metadata": {},
   "outputs": [
    {
     "name": "stderr",
     "output_type": "stream",
     "text": [
      "<ipython-input-15-136ae174c5c9>:1: DeprecationWarning: executable_path has been deprecated, please pass in a Service object\n",
      "  driver = webdriver.Chrome(r\"C:\\Users\\Rutuja\\Downloads\\chromedriver_win32\\chromedriver.exe\")\n",
      "<ipython-input-15-136ae174c5c9>:6: DeprecationWarning: find_element_by_* commands are deprecated. Please use find_element() instead\n",
      "  search_item = driver.find_element_by_xpath(\"//input[@class ='gLFyf gsfi']\")\n",
      "<ipython-input-15-136ae174c5c9>:10: DeprecationWarning: find_element_by_* commands are deprecated. Please use find_element() instead\n",
      "  search_btn = driver.find_element_by_xpath(\"//span[@class ='z1asCe MZy1Rb']\")\n",
      "<ipython-input-15-136ae174c5c9>:16: DeprecationWarning: find_elements_by_* commands are deprecated. Please use find_elements() instead\n",
      "  machine_learning_tags = driver.find_elements_by_xpath(\"//img[@class='rg_i Q4LuWd']\")\n"
     ]
    },
    {
     "data": {
      "text/plain": [
       "[<selenium.webdriver.remote.webelement.WebElement (session=\"80c2e48403f198ff9791e95050d3e2a4\", element=\"b83ed21d-73d8-467d-af6b-01f836672b50\")>,\n",
       " <selenium.webdriver.remote.webelement.WebElement (session=\"80c2e48403f198ff9791e95050d3e2a4\", element=\"2d8ab6c0-8752-45a9-a175-f2d1ab3ccf8a\")>,\n",
       " <selenium.webdriver.remote.webelement.WebElement (session=\"80c2e48403f198ff9791e95050d3e2a4\", element=\"501f9c92-cbd6-448b-81b6-72d073ac7ffc\")>,\n",
       " <selenium.webdriver.remote.webelement.WebElement (session=\"80c2e48403f198ff9791e95050d3e2a4\", element=\"22346eda-a129-426c-b642-308135358ed0\")>,\n",
       " <selenium.webdriver.remote.webelement.WebElement (session=\"80c2e48403f198ff9791e95050d3e2a4\", element=\"899f30d8-a944-479c-83f1-58cb20e32a1c\")>,\n",
       " <selenium.webdriver.remote.webelement.WebElement (session=\"80c2e48403f198ff9791e95050d3e2a4\", element=\"23fdb064-f66a-4ec2-b102-718c26b49902\")>,\n",
       " <selenium.webdriver.remote.webelement.WebElement (session=\"80c2e48403f198ff9791e95050d3e2a4\", element=\"97885280-23dd-4ef0-9baa-19d840e66c7b\")>,\n",
       " <selenium.webdriver.remote.webelement.WebElement (session=\"80c2e48403f198ff9791e95050d3e2a4\", element=\"0aa7fca6-38ea-4e62-9762-1e6e4fbd8678\")>,\n",
       " <selenium.webdriver.remote.webelement.WebElement (session=\"80c2e48403f198ff9791e95050d3e2a4\", element=\"4ad69574-ddc9-4a69-8e7e-84a93a796700\")>,\n",
       " <selenium.webdriver.remote.webelement.WebElement (session=\"80c2e48403f198ff9791e95050d3e2a4\", element=\"1ca0e61e-deb6-4e3d-8d0c-846058d06172\")>]"
      ]
     },
     "execution_count": 15,
     "metadata": {},
     "output_type": "execute_result"
    }
   ],
   "source": [
    "driver = webdriver.Chrome(r\"C:\\Users\\Rutuja\\Downloads\\chromedriver_win32\\chromedriver.exe\")\n",
    "\n",
    "driver.get('https://images.google.com/')\n",
    "\n",
    "\n",
    "search_item = driver.find_element_by_xpath(\"//input[@class ='gLFyf gsfi']\")\n",
    "search_item.send_keys(\"machine learning\")\n",
    "\n",
    "\n",
    "search_btn = driver.find_element_by_xpath(\"//span[@class ='z1asCe MZy1Rb']\")\n",
    "search_btn.click()\n",
    "\n",
    "\n",
    "machine_learning = []\n",
    "\n",
    "machine_learning_tags = driver.find_elements_by_xpath(\"//img[@class='rg_i Q4LuWd']\") \n",
    "machine_learning_tags[0:10]"
   ]
  },
  {
   "cell_type": "code",
   "execution_count": 16,
   "id": "b31fd6b3",
   "metadata": {},
   "outputs": [
    {
     "name": "stderr",
     "output_type": "stream",
     "text": [
      "<ipython-input-16-874e6f4ac4ef>:1: DeprecationWarning: executable_path has been deprecated, please pass in a Service object\n",
      "  driver = webdriver.Chrome(r\"C:\\Users\\Rutuja\\Downloads\\chromedriver_win32\\chromedriver.exe\")\n",
      "<ipython-input-16-874e6f4ac4ef>:6: DeprecationWarning: find_element_by_* commands are deprecated. Please use find_element() instead\n",
      "  search_item = driver.find_element_by_xpath(\"//input[@class ='gLFyf gsfi']\")\n",
      "<ipython-input-16-874e6f4ac4ef>:11: DeprecationWarning: find_element_by_* commands are deprecated. Please use find_element() instead\n",
      "  search_btn = driver.find_element_by_xpath(\"//span[@class ='z1asCe MZy1Rb']\")\n",
      "<ipython-input-16-874e6f4ac4ef>:17: DeprecationWarning: find_elements_by_* commands are deprecated. Please use find_elements() instead\n",
      "  guiter_tags = driver.find_elements_by_xpath(\"//img[@class='rg_i Q4LuWd']\")\n"
     ]
    },
    {
     "data": {
      "text/plain": [
       "[<selenium.webdriver.remote.webelement.WebElement (session=\"70673072fddc40e91a41d8ecdb4405f4\", element=\"5a7d87df-37e0-4f89-b001-4149f1b540de\")>,\n",
       " <selenium.webdriver.remote.webelement.WebElement (session=\"70673072fddc40e91a41d8ecdb4405f4\", element=\"bfac439f-e27a-49ca-9d9c-01aa4849f0a9\")>,\n",
       " <selenium.webdriver.remote.webelement.WebElement (session=\"70673072fddc40e91a41d8ecdb4405f4\", element=\"dab62571-06e6-444d-a30b-d73fd31d789b\")>,\n",
       " <selenium.webdriver.remote.webelement.WebElement (session=\"70673072fddc40e91a41d8ecdb4405f4\", element=\"108edc01-d0a6-44aa-8852-ca1a2b4e49bf\")>,\n",
       " <selenium.webdriver.remote.webelement.WebElement (session=\"70673072fddc40e91a41d8ecdb4405f4\", element=\"628e8d62-cc13-434b-8641-b3cf807e44f7\")>,\n",
       " <selenium.webdriver.remote.webelement.WebElement (session=\"70673072fddc40e91a41d8ecdb4405f4\", element=\"83ab58d5-1ca8-4181-b591-9f129d318103\")>,\n",
       " <selenium.webdriver.remote.webelement.WebElement (session=\"70673072fddc40e91a41d8ecdb4405f4\", element=\"ed3cafcc-ec4f-4f09-bdc0-8cc2e7816b11\")>,\n",
       " <selenium.webdriver.remote.webelement.WebElement (session=\"70673072fddc40e91a41d8ecdb4405f4\", element=\"ae1fa061-2e59-4d4c-9c4b-34f94b494010\")>,\n",
       " <selenium.webdriver.remote.webelement.WebElement (session=\"70673072fddc40e91a41d8ecdb4405f4\", element=\"a778a643-f535-46cb-8cf7-b9465611520b\")>,\n",
       " <selenium.webdriver.remote.webelement.WebElement (session=\"70673072fddc40e91a41d8ecdb4405f4\", element=\"3019ee93-b0cc-44e7-8cae-e0d635653ebe\")>]"
      ]
     },
     "execution_count": 16,
     "metadata": {},
     "output_type": "execute_result"
    }
   ],
   "source": [
    "driver = webdriver.Chrome(r\"C:\\Users\\Rutuja\\Downloads\\chromedriver_win32\\chromedriver.exe\")\n",
    "\n",
    "driver.get('https://images.google.com/')\n",
    "\n",
    "\n",
    "search_item = driver.find_element_by_xpath(\"//input[@class ='gLFyf gsfi']\")\n",
    "search_item.send_keys(\"Guitar\")\n",
    "\n",
    "\n",
    "\n",
    "search_btn = driver.find_element_by_xpath(\"//span[@class ='z1asCe MZy1Rb']\")\n",
    "search_btn.click()\n",
    "\n",
    "\n",
    "guiter_images = []\n",
    "\n",
    "guiter_tags = driver.find_elements_by_xpath(\"//img[@class='rg_i Q4LuWd']\") \n",
    "guiter_tags[0:10]"
   ]
  },
  {
   "cell_type": "code",
   "execution_count": 17,
   "id": "397733f0",
   "metadata": {},
   "outputs": [
    {
     "name": "stderr",
     "output_type": "stream",
     "text": [
      "<ipython-input-17-50aeaec6a6c9>:1: DeprecationWarning: executable_path has been deprecated, please pass in a Service object\n",
      "  driver = webdriver.Chrome(r\"C:\\Users\\Rutuja\\Downloads\\chromedriver_win32\\chromedriver.exe\")\n",
      "<ipython-input-17-50aeaec6a6c9>:6: DeprecationWarning: find_element_by_* commands are deprecated. Please use find_element() instead\n",
      "  search_item = driver.find_element_by_xpath(\"//input[@class ='gLFyf gsfi']\")\n",
      "<ipython-input-17-50aeaec6a6c9>:12: DeprecationWarning: find_element_by_* commands are deprecated. Please use find_element() instead\n",
      "  search_btn = driver.find_element_by_xpath(\"//span[@class ='z1asCe MZy1Rb']\")\n",
      "<ipython-input-17-50aeaec6a6c9>:18: DeprecationWarning: find_elements_by_* commands are deprecated. Please use find_elements() instead\n",
      "  cake_tags = driver.find_elements_by_xpath(\"//img[@class='rg_i Q4LuWd']\")\n"
     ]
    },
    {
     "data": {
      "text/plain": [
       "[<selenium.webdriver.remote.webelement.WebElement (session=\"0a695e053b391f9f284e2482f8576b2b\", element=\"67a29bd2-4584-4072-9bbf-d22540bd2772\")>,\n",
       " <selenium.webdriver.remote.webelement.WebElement (session=\"0a695e053b391f9f284e2482f8576b2b\", element=\"a5d26077-32a9-410d-b670-a978c56edbcd\")>,\n",
       " <selenium.webdriver.remote.webelement.WebElement (session=\"0a695e053b391f9f284e2482f8576b2b\", element=\"8b162501-4013-4836-b5f9-dd2d461f6e52\")>,\n",
       " <selenium.webdriver.remote.webelement.WebElement (session=\"0a695e053b391f9f284e2482f8576b2b\", element=\"458db2c1-8c34-4e2f-b7ff-4e723b624f5d\")>,\n",
       " <selenium.webdriver.remote.webelement.WebElement (session=\"0a695e053b391f9f284e2482f8576b2b\", element=\"f7b52b75-2eb2-42e4-a519-4deb40ecbd63\")>,\n",
       " <selenium.webdriver.remote.webelement.WebElement (session=\"0a695e053b391f9f284e2482f8576b2b\", element=\"265eaa69-8559-4bc0-8be1-6bffcdd11b2c\")>,\n",
       " <selenium.webdriver.remote.webelement.WebElement (session=\"0a695e053b391f9f284e2482f8576b2b\", element=\"d5a8c18b-afa4-4125-b6bb-ed670bc7cd61\")>,\n",
       " <selenium.webdriver.remote.webelement.WebElement (session=\"0a695e053b391f9f284e2482f8576b2b\", element=\"38463e72-afc8-4681-8325-89a4bf47de5d\")>,\n",
       " <selenium.webdriver.remote.webelement.WebElement (session=\"0a695e053b391f9f284e2482f8576b2b\", element=\"3e8b5ab9-211c-4249-b725-7d66631ee389\")>,\n",
       " <selenium.webdriver.remote.webelement.WebElement (session=\"0a695e053b391f9f284e2482f8576b2b\", element=\"58118846-a361-4441-8754-20bb3c3e7dce\")>]"
      ]
     },
     "execution_count": 17,
     "metadata": {},
     "output_type": "execute_result"
    }
   ],
   "source": [
    "driver = webdriver.Chrome(r\"C:\\Users\\Rutuja\\Downloads\\chromedriver_win32\\chromedriver.exe\")\n",
    "\n",
    "driver.get('https://images.google.com/')\n",
    "\n",
    "\n",
    "search_item = driver.find_element_by_xpath(\"//input[@class ='gLFyf gsfi']\")\n",
    "search_item.send_keys(\"Cakes\")\n",
    "\n",
    "#‘fruits’, ‘cars’ and ‘Machine Learning’, ‘Guitar’, ‘Cakes’\n",
    "\n",
    "\n",
    "search_btn = driver.find_element_by_xpath(\"//span[@class ='z1asCe MZy1Rb']\")\n",
    "search_btn.click()\n",
    "\n",
    "\n",
    "cake_images = []\n",
    "\n",
    "cake_tags = driver.find_elements_by_xpath(\"//img[@class='rg_i Q4LuWd']\") \n",
    "cake_tags[0:10]"
   ]
  },
  {
   "cell_type": "code",
   "execution_count": 22,
   "id": "ba129a59",
   "metadata": {},
   "outputs": [
    {
     "name": "stdout",
     "output_type": "stream",
     "text": [
      "    Unnamed: 0  fruits    car  machine learnings  guiter   cake\n",
      "0            0     NaN  False              False   False  False\n",
      "1            1     NaN  False              False   False  False\n",
      "2            2     NaN  False              False   False  False\n",
      "3            3     NaN  False              False   False  False\n",
      "4            4     NaN  False              False   False  False\n",
      "5            5     NaN  False              False   False  False\n",
      "6            6     NaN  False              False   False  False\n",
      "7            7     NaN  False              False   False  False\n",
      "8            8     NaN  False              False   False  False\n",
      "9            9     NaN  False              False   False  False\n",
      "10          10     NaN  False              False   False  False\n",
      "11          11     NaN  False              False   False  False\n",
      "12          12     NaN  False              False   False  False\n",
      "13          13     NaN  False              False   False  False\n",
      "14          14     NaN  False              False   False  False\n",
      "15          15     NaN  False              False   False  False\n",
      "16          16     NaN  False              False   False  False\n",
      "17          17     NaN  False              False   False  False\n",
      "18          18     NaN  False              False   False  False\n",
      "19          19     NaN  False              False   False  False\n",
      "20          20     NaN  False              False   False  False\n",
      "21          21     NaN  False              False   False  False\n",
      "22          22     NaN  False              False   False  False\n",
      "23          23     NaN  False              False   False  False\n",
      "24          24     NaN  False              False   False  False\n",
      "25          25     NaN  False              False   False  False\n",
      "26          26     NaN  False              False   False  False\n",
      "27          27     NaN  False              False   False  False\n",
      "28          28     NaN  False              False   False  False\n",
      "29          29     NaN  False              False   False  False\n",
      "30          30     NaN  False              False   False  False\n",
      "31          31     NaN  False              False   False  False\n",
      "32          32     NaN  False              False   False  False\n",
      "33          33     NaN  False              False   False  False\n",
      "34          34     NaN  False              False   False  False\n",
      "35          35     NaN  False              False   False  False\n",
      "36          36     NaN  False              False   False  False\n",
      "37          37     NaN  False              False   False  False\n",
      "38          38     NaN  False              False   False  False\n",
      "39          39     NaN  False              False   False  False\n",
      "40          40     NaN  False              False   False  False\n",
      "41          41     NaN  False              False   False  False\n",
      "42          42     NaN  False              False   False  False\n",
      "43          43     NaN  False              False   False  False\n",
      "44          44     NaN  False              False   False  False\n",
      "45          45     NaN  False              False   False  False\n",
      "46          46     NaN  False              False   False  False\n",
      "47          47     NaN  False              False   False  False\n"
     ]
    }
   ],
   "source": [
    "images_data =pd.DataFrame({})\n",
    "images_data['fruits']= fruits_images\n",
    "images_data['car']= car_images ==10\n",
    "images_data['machine learnings']= machine_learning ==10\n",
    "images_data['guiter']= guiter_images == 10\n",
    "images_data['cake']= cake_images ==10\n",
    "\n",
    "\n",
    "convert = pd.DataFrame(images_data)\n",
    "convert.to_csv(\"out1.csv\")\n",
    "\n",
    "a = pd.read_csv(\"out1.csv\")\n",
    "print(a)\n",
    "\n"
   ]
  },
  {
   "cell_type": "code",
   "execution_count": 11,
   "id": "1d00647b",
   "metadata": {},
   "outputs": [
    {
     "name": "stderr",
     "output_type": "stream",
     "text": [
      "<ipython-input-11-0eb6e9fb8771>:7: DeprecationWarning: executable_path has been deprecated, please pass in a Service object\n",
      "  driver = webdriver.Chrome(r\"C:\\Users\\Rutuja\\Downloads\\chromedriver_win32\\chromedriver.exe\")\n"
     ]
    }
   ],
   "source": [
    "#Q10\n",
    "\n",
    "import selenium\n",
    "import pandas as pd\n",
    "from selenium import webdriver\n",
    "\n",
    "driver = webdriver.Chrome(r\"C:\\Users\\Rutuja\\Downloads\\chromedriver_win32\\chromedriver.exe\")\n",
    "\n",
    "driver.get('https://www.hostelworld.com/')\n",
    "\n"
   ]
  },
  {
   "cell_type": "code",
   "execution_count": 13,
   "id": "b292c6d6",
   "metadata": {},
   "outputs": [],
   "source": [
    "url = \"https://www.hostelworld.com/s?q=London,%20England&country=England&city=London&type=city&id=3&from=2021-12-29&to=2022-01-01&guests=2&page=1\"\n",
    "\n",
    "\n",
    "driver.get(url)\n",
    "\n",
    "hostel_name = []\n",
    "distance_from_city = []\n",
    "rating = []\n",
    "total_reviews =[]\n",
    "overall_reviews= []\n",
    "privates_from_price = []\n",
    "dorms_from_price = []\n",
    "facilities = []\n",
    " "
   ]
  },
  {
   "cell_type": "code",
   "execution_count": 14,
   "id": "b7ca7b02",
   "metadata": {},
   "outputs": [
    {
     "name": "stderr",
     "output_type": "stream",
     "text": [
      "<ipython-input-14-3e9623c7faf4>:1: DeprecationWarning: find_elements_by_* commands are deprecated. Please use find_elements() instead\n",
      "  titles_tags = driver.find_elements_by_xpath(\"//h2[@class='title title-6']\")\n"
     ]
    },
    {
     "data": {
      "text/plain": [
       "[<selenium.webdriver.remote.webelement.WebElement (session=\"00e38a961c595a7c6e5058840b454b04\", element=\"01266448-86ca-47c7-a088-bc4e545ed85a\")>,\n",
       " <selenium.webdriver.remote.webelement.WebElement (session=\"00e38a961c595a7c6e5058840b454b04\", element=\"350a1073-f4e1-4287-b2d0-4d66d5796ecc\")>,\n",
       " <selenium.webdriver.remote.webelement.WebElement (session=\"00e38a961c595a7c6e5058840b454b04\", element=\"889ff5c9-1f47-409c-a945-6411a0e0a83d\")>,\n",
       " <selenium.webdriver.remote.webelement.WebElement (session=\"00e38a961c595a7c6e5058840b454b04\", element=\"8ce3c98e-af72-4064-a80d-3e4df228a21f\")>,\n",
       " <selenium.webdriver.remote.webelement.WebElement (session=\"00e38a961c595a7c6e5058840b454b04\", element=\"86afa09e-1664-45a4-9ba6-da46af897ed1\")>,\n",
       " <selenium.webdriver.remote.webelement.WebElement (session=\"00e38a961c595a7c6e5058840b454b04\", element=\"94808f1e-b2cf-4f57-a766-56740f288e04\")>,\n",
       " <selenium.webdriver.remote.webelement.WebElement (session=\"00e38a961c595a7c6e5058840b454b04\", element=\"03a5ab7c-508c-4ed6-afbd-3c9ca974fbea\")>,\n",
       " <selenium.webdriver.remote.webelement.WebElement (session=\"00e38a961c595a7c6e5058840b454b04\", element=\"f9925140-2289-4745-b7c1-6cd1d70a173e\")>,\n",
       " <selenium.webdriver.remote.webelement.WebElement (session=\"00e38a961c595a7c6e5058840b454b04\", element=\"1983a54d-0691-450a-a5e9-e17f145b8f5a\")>,\n",
       " <selenium.webdriver.remote.webelement.WebElement (session=\"00e38a961c595a7c6e5058840b454b04\", element=\"0b19614f-1692-4fd3-b189-12d574c59f98\")>]"
      ]
     },
     "execution_count": 14,
     "metadata": {},
     "output_type": "execute_result"
    }
   ],
   "source": [
    "titles_tags = driver.find_elements_by_xpath(\"//h2[@class='title title-6']\")\n",
    "titles_tags[0:10]"
   ]
  },
  {
   "cell_type": "code",
   "execution_count": 15,
   "id": "2d69ad3c",
   "metadata": {},
   "outputs": [
    {
     "data": {
      "text/plain": [
       "['Mornington Camden',\n",
       " 'Smart Russell Square Hostel',\n",
       " 'Smart Camden Inn Hostel',\n",
       " 'Selina Camden',\n",
       " 'Queen Elizabeth Chelsea',\n",
       " 'Pickwick Hall',\n",
       " 'New Cross Inn Hostel',\n",
       " 'No.8 Willesden Hostel London',\n",
       " 'Safestay London Elephant & Castle',\n",
       " 'Barmy Badger Backpackers']"
      ]
     },
     "execution_count": 15,
     "metadata": {},
     "output_type": "execute_result"
    }
   ],
   "source": [
    "for i in titles_tags:\n",
    "    title=i.text\n",
    "    hostel_name.append(title)\n",
    "hostel_name[0:10]"
   ]
  },
  {
   "cell_type": "code",
   "execution_count": 16,
   "id": "af28861a",
   "metadata": {},
   "outputs": [
    {
     "name": "stderr",
     "output_type": "stream",
     "text": [
      "<ipython-input-16-2f17547dc098>:1: DeprecationWarning: find_elements_by_* commands are deprecated. Please use find_elements() instead\n",
      "  distance_from_city_tags = driver.find_elements_by_xpath(\"//span[@class='description']\")\n"
     ]
    },
    {
     "data": {
      "text/plain": [
       "[<selenium.webdriver.remote.webelement.WebElement (session=\"00e38a961c595a7c6e5058840b454b04\", element=\"fa3744da-79a3-419a-b93b-99e7815ff300\")>,\n",
       " <selenium.webdriver.remote.webelement.WebElement (session=\"00e38a961c595a7c6e5058840b454b04\", element=\"6f875849-12c2-4a5c-bfa9-9ed3654e69ef\")>,\n",
       " <selenium.webdriver.remote.webelement.WebElement (session=\"00e38a961c595a7c6e5058840b454b04\", element=\"d60e313b-9b26-4170-8056-f1a677922d56\")>,\n",
       " <selenium.webdriver.remote.webelement.WebElement (session=\"00e38a961c595a7c6e5058840b454b04\", element=\"06243e0d-8cdd-4c10-b5c7-abe2bdfb89ef\")>,\n",
       " <selenium.webdriver.remote.webelement.WebElement (session=\"00e38a961c595a7c6e5058840b454b04\", element=\"3c687066-d8d0-41e1-ac61-b9b2212756b9\")>,\n",
       " <selenium.webdriver.remote.webelement.WebElement (session=\"00e38a961c595a7c6e5058840b454b04\", element=\"03c54a94-170c-4c25-a2a0-16199dc66549\")>,\n",
       " <selenium.webdriver.remote.webelement.WebElement (session=\"00e38a961c595a7c6e5058840b454b04\", element=\"964e18b4-acf8-4f98-82d5-4ccd28484070\")>,\n",
       " <selenium.webdriver.remote.webelement.WebElement (session=\"00e38a961c595a7c6e5058840b454b04\", element=\"c892c0e3-c61f-473c-93be-aa7575061405\")>,\n",
       " <selenium.webdriver.remote.webelement.WebElement (session=\"00e38a961c595a7c6e5058840b454b04\", element=\"72056f53-7274-45c9-9efc-345c8a1f3f3d\")>,\n",
       " <selenium.webdriver.remote.webelement.WebElement (session=\"00e38a961c595a7c6e5058840b454b04\", element=\"424807fc-f15e-4600-9304-0241ae052da5\")>]"
      ]
     },
     "execution_count": 16,
     "metadata": {},
     "output_type": "execute_result"
    }
   ],
   "source": [
    "distance_from_city_tags = driver.find_elements_by_xpath(\"//span[@class='description']\")\n",
    "distance_from_city_tags[0:10]\n"
   ]
  },
  {
   "cell_type": "code",
   "execution_count": 17,
   "id": "212359f4",
   "metadata": {},
   "outputs": [
    {
     "data": {
      "text/plain": [
       "['Hostel - 4.1km from city centre',\n",
       " 'Hostel - 2.6km from city centre',\n",
       " 'Hostel - 4.4km from city centre',\n",
       " 'Hostel - 5.5km from city centre',\n",
       " 'Hostel - 5.7km from city centre',\n",
       " 'Hostel - 2.3km from city centre',\n",
       " 'Hostel - 6.1km from city centre',\n",
       " 'Hostel - 10km from city centre',\n",
       " 'Hostel - 1.7km from city centre',\n",
       " 'Hostel - 5.5km from city centre']"
      ]
     },
     "execution_count": 17,
     "metadata": {},
     "output_type": "execute_result"
    }
   ],
   "source": [
    "for i in distance_from_city_tags:\n",
    "    distance=i.text\n",
    "    distance_from_city.append(distance)\n",
    "distance_from_city[0:10]\n",
    "\n"
   ]
  },
  {
   "cell_type": "code",
   "execution_count": 18,
   "id": "1bb94b00",
   "metadata": {},
   "outputs": [
    {
     "name": "stderr",
     "output_type": "stream",
     "text": [
      "<ipython-input-18-0396528de50f>:1: DeprecationWarning: find_elements_by_* commands are deprecated. Please use find_elements() instead\n",
      "  rating_tags = driver.find_elements_by_xpath(\"//div[@class='score orange big']\")\n"
     ]
    },
    {
     "data": {
      "text/plain": [
       "[<selenium.webdriver.remote.webelement.WebElement (session=\"00e38a961c595a7c6e5058840b454b04\", element=\"561c6a98-c208-4a2c-bd0c-1e60d08c264a\")>,\n",
       " <selenium.webdriver.remote.webelement.WebElement (session=\"00e38a961c595a7c6e5058840b454b04\", element=\"ff270150-e82c-4950-bc37-3c49278c8ce2\")>,\n",
       " <selenium.webdriver.remote.webelement.WebElement (session=\"00e38a961c595a7c6e5058840b454b04\", element=\"de8e548d-1238-4b9f-a15b-3d514539c06c\")>,\n",
       " <selenium.webdriver.remote.webelement.WebElement (session=\"00e38a961c595a7c6e5058840b454b04\", element=\"266c4ab5-b710-40a9-8625-2207f9b3c10f\")>,\n",
       " <selenium.webdriver.remote.webelement.WebElement (session=\"00e38a961c595a7c6e5058840b454b04\", element=\"7a23aff7-262e-4610-93f4-838a65f7b461\")>,\n",
       " <selenium.webdriver.remote.webelement.WebElement (session=\"00e38a961c595a7c6e5058840b454b04\", element=\"45e8ad20-ca1d-4b5b-8aaa-74384875f942\")>,\n",
       " <selenium.webdriver.remote.webelement.WebElement (session=\"00e38a961c595a7c6e5058840b454b04\", element=\"da33fdf9-f9e2-4816-8645-fe8fe88776c9\")>,\n",
       " <selenium.webdriver.remote.webelement.WebElement (session=\"00e38a961c595a7c6e5058840b454b04\", element=\"070e7fc7-d86a-4a59-af62-9076ebcef01b\")>,\n",
       " <selenium.webdriver.remote.webelement.WebElement (session=\"00e38a961c595a7c6e5058840b454b04\", element=\"c351fd25-7011-4fc9-b705-1354f093d5a3\")>,\n",
       " <selenium.webdriver.remote.webelement.WebElement (session=\"00e38a961c595a7c6e5058840b454b04\", element=\"14fc54da-0331-4ff6-b2ec-ca3af4b24005\")>]"
      ]
     },
     "execution_count": 18,
     "metadata": {},
     "output_type": "execute_result"
    }
   ],
   "source": [
    "rating_tags = driver.find_elements_by_xpath(\"//div[@class='score orange big']\")\n",
    "rating_tags[0:10]\n"
   ]
  },
  {
   "cell_type": "code",
   "execution_count": 19,
   "id": "6cdef699",
   "metadata": {},
   "outputs": [
    {
     "data": {
      "text/plain": [
       "['8.3', '6.6', '8.4', '9.1', '7.5', '9.0', '7.2', '7.5', '7.9', '9.3']"
      ]
     },
     "execution_count": 19,
     "metadata": {},
     "output_type": "execute_result"
    }
   ],
   "source": [
    "for i in rating_tags:\n",
    "    ratings=i.text\n",
    "    rating.append(ratings)\n",
    "rating[0:10]\n",
    "\n"
   ]
  },
  {
   "cell_type": "code",
   "execution_count": 20,
   "id": "faab12c0",
   "metadata": {},
   "outputs": [
    {
     "name": "stderr",
     "output_type": "stream",
     "text": [
      "<ipython-input-20-438d8dc26b4a>:1: DeprecationWarning: find_elements_by_* commands are deprecated. Please use find_elements() instead\n",
      "  total_reviews_tags = driver.find_elements_by_xpath(\"//div[@class='reviews']\")\n"
     ]
    },
    {
     "data": {
      "text/plain": [
       "[<selenium.webdriver.remote.webelement.WebElement (session=\"00e38a961c595a7c6e5058840b454b04\", element=\"124264e6-d921-4570-81bb-0f201c473fe8\")>,\n",
       " <selenium.webdriver.remote.webelement.WebElement (session=\"00e38a961c595a7c6e5058840b454b04\", element=\"84e488e2-f916-4518-bfc7-cffff32a5572\")>,\n",
       " <selenium.webdriver.remote.webelement.WebElement (session=\"00e38a961c595a7c6e5058840b454b04\", element=\"c5b7715c-d75c-4775-8639-975bd6dfa1ca\")>,\n",
       " <selenium.webdriver.remote.webelement.WebElement (session=\"00e38a961c595a7c6e5058840b454b04\", element=\"35521995-9152-4d3d-8ce8-793a6b585bd1\")>,\n",
       " <selenium.webdriver.remote.webelement.WebElement (session=\"00e38a961c595a7c6e5058840b454b04\", element=\"10ca6283-c369-48eb-a70f-1a2085ddbd1f\")>,\n",
       " <selenium.webdriver.remote.webelement.WebElement (session=\"00e38a961c595a7c6e5058840b454b04\", element=\"6c409351-e3e1-4238-8c91-b60090d6c6b3\")>,\n",
       " <selenium.webdriver.remote.webelement.WebElement (session=\"00e38a961c595a7c6e5058840b454b04\", element=\"849ec732-ad3a-43d0-ae74-ddc273e8388f\")>,\n",
       " <selenium.webdriver.remote.webelement.WebElement (session=\"00e38a961c595a7c6e5058840b454b04\", element=\"7770119d-3821-435d-b17c-0edcd14f4600\")>,\n",
       " <selenium.webdriver.remote.webelement.WebElement (session=\"00e38a961c595a7c6e5058840b454b04\", element=\"a10a0edb-4a55-4a81-a40a-4119d50a2903\")>,\n",
       " <selenium.webdriver.remote.webelement.WebElement (session=\"00e38a961c595a7c6e5058840b454b04\", element=\"8af42c8b-a64a-4ff2-888e-006e79eeba90\")>]"
      ]
     },
     "execution_count": 20,
     "metadata": {},
     "output_type": "execute_result"
    }
   ],
   "source": [
    "total_reviews_tags = driver.find_elements_by_xpath(\"//div[@class='reviews']\")\n",
    "total_reviews_tags[0:10]\n",
    "\n"
   ]
  },
  {
   "cell_type": "code",
   "execution_count": 21,
   "id": "df590aa5",
   "metadata": {},
   "outputs": [
    {
     "data": {
      "text/plain": [
       "['44 Total Reviews',\n",
       " '9559 Total Reviews',\n",
       " '2730 Total Reviews',\n",
       " '13 Total Reviews',\n",
       " '3210 Total Reviews',\n",
       " '2273 Total Reviews',\n",
       " '1045 Total Reviews',\n",
       " '4629 Total Reviews',\n",
       " '4018 Total Reviews',\n",
       " '1687 Total Reviews']"
      ]
     },
     "execution_count": 21,
     "metadata": {},
     "output_type": "execute_result"
    }
   ],
   "source": [
    "for i in total_reviews_tags:\n",
    "    total_review=i.text\n",
    "    total_reviews.append(total_review)\n",
    "total_reviews[0:10]"
   ]
  },
  {
   "cell_type": "code",
   "execution_count": 22,
   "id": "602673a8",
   "metadata": {},
   "outputs": [
    {
     "name": "stderr",
     "output_type": "stream",
     "text": [
      "<ipython-input-22-f838f4f166d1>:1: DeprecationWarning: find_elements_by_* commands are deprecated. Please use find_elements() instead\n",
      "  overall_reviews_tags = driver.find_elements_by_xpath(\"//div[@class='keyword']\")\n"
     ]
    },
    {
     "data": {
      "text/plain": [
       "[<selenium.webdriver.remote.webelement.WebElement (session=\"00e38a961c595a7c6e5058840b454b04\", element=\"714f69db-4cc3-4d0e-9c28-d3f1cf1c5ca8\")>,\n",
       " <selenium.webdriver.remote.webelement.WebElement (session=\"00e38a961c595a7c6e5058840b454b04\", element=\"e3226cdc-fe8b-4545-a0f7-201a64dee673\")>,\n",
       " <selenium.webdriver.remote.webelement.WebElement (session=\"00e38a961c595a7c6e5058840b454b04\", element=\"bb986e86-97ee-4025-aba3-0629d75ec170\")>,\n",
       " <selenium.webdriver.remote.webelement.WebElement (session=\"00e38a961c595a7c6e5058840b454b04\", element=\"7874b57a-85bc-49a7-8d45-8ac7cc0f4a67\")>,\n",
       " <selenium.webdriver.remote.webelement.WebElement (session=\"00e38a961c595a7c6e5058840b454b04\", element=\"ba2a5a0e-6aec-4b7d-88c5-9a331cdef36c\")>,\n",
       " <selenium.webdriver.remote.webelement.WebElement (session=\"00e38a961c595a7c6e5058840b454b04\", element=\"b25c0d23-c624-462c-aa1e-970b7348289f\")>,\n",
       " <selenium.webdriver.remote.webelement.WebElement (session=\"00e38a961c595a7c6e5058840b454b04\", element=\"e3b3ee43-c486-436f-bd72-cce782f35e67\")>,\n",
       " <selenium.webdriver.remote.webelement.WebElement (session=\"00e38a961c595a7c6e5058840b454b04\", element=\"45da9f70-3cf6-4489-aa37-ade9b3bb9097\")>,\n",
       " <selenium.webdriver.remote.webelement.WebElement (session=\"00e38a961c595a7c6e5058840b454b04\", element=\"6ef28176-cc01-4418-8d3c-d626a84987c3\")>,\n",
       " <selenium.webdriver.remote.webelement.WebElement (session=\"00e38a961c595a7c6e5058840b454b04\", element=\"229a0321-d6c2-45ec-aac4-7c61fcdcdf2a\")>]"
      ]
     },
     "execution_count": 22,
     "metadata": {},
     "output_type": "execute_result"
    }
   ],
   "source": [
    "overall_reviews_tags = driver.find_elements_by_xpath(\"//div[@class='keyword']\")\n",
    "overall_reviews_tags[0:10]"
   ]
  },
  {
   "cell_type": "code",
   "execution_count": 23,
   "id": "afcaed4d",
   "metadata": {},
   "outputs": [
    {
     "data": {
      "text/plain": [
       "['Superb',\n",
       " 'Fabulous',\n",
       " 'Fabulous',\n",
       " 'Fabulous',\n",
       " 'Good',\n",
       " 'Fabulous',\n",
       " 'Superb',\n",
       " 'Very Good',\n",
       " 'Superb',\n",
       " 'Very Good']"
      ]
     },
     "execution_count": 23,
     "metadata": {},
     "output_type": "execute_result"
    }
   ],
   "source": [
    "for i in overall_reviews_tags:\n",
    "    overall_review=i.text\n",
    "    overall_reviews.append(overall_review)\n",
    "overall_reviews[0:10]"
   ]
  },
  {
   "cell_type": "code",
   "execution_count": 26,
   "id": "316d73c7",
   "metadata": {},
   "outputs": [
    {
     "name": "stderr",
     "output_type": "stream",
     "text": [
      "<ipython-input-26-c830f889a6c9>:1: DeprecationWarning: find_elements_by_* commands are deprecated. Please use find_elements() instead\n",
      "  privates_from_price_tags = driver.find_elements_by_xpath(\"//div[@class='price title-5']\")\n"
     ]
    },
    {
     "data": {
      "text/plain": [
       "[<selenium.webdriver.remote.webelement.WebElement (session=\"00e38a961c595a7c6e5058840b454b04\", element=\"384f137f-5090-441b-a637-a0eb6609da7f\")>,\n",
       " <selenium.webdriver.remote.webelement.WebElement (session=\"00e38a961c595a7c6e5058840b454b04\", element=\"e2b1c8fe-6a4d-4532-b538-989fd0835916\")>,\n",
       " <selenium.webdriver.remote.webelement.WebElement (session=\"00e38a961c595a7c6e5058840b454b04\", element=\"fef5a59b-0b43-4a3f-b46b-febfd24e173a\")>,\n",
       " <selenium.webdriver.remote.webelement.WebElement (session=\"00e38a961c595a7c6e5058840b454b04\", element=\"b474218a-b7ee-4af0-b8a9-a6b6abcfff83\")>,\n",
       " <selenium.webdriver.remote.webelement.WebElement (session=\"00e38a961c595a7c6e5058840b454b04\", element=\"384535a3-4fe8-4550-9b60-7bd61551b16d\")>,\n",
       " <selenium.webdriver.remote.webelement.WebElement (session=\"00e38a961c595a7c6e5058840b454b04\", element=\"e765b6f8-26b9-4571-acd6-41d57ddcaac7\")>,\n",
       " <selenium.webdriver.remote.webelement.WebElement (session=\"00e38a961c595a7c6e5058840b454b04\", element=\"43ec31d8-1941-4c2d-b933-dc03b9526767\")>,\n",
       " <selenium.webdriver.remote.webelement.WebElement (session=\"00e38a961c595a7c6e5058840b454b04\", element=\"3fbef540-542d-4593-8aa6-dd2f19f681f4\")>,\n",
       " <selenium.webdriver.remote.webelement.WebElement (session=\"00e38a961c595a7c6e5058840b454b04\", element=\"78ffe065-c091-47c9-88de-aa85bb0d201a\")>,\n",
       " <selenium.webdriver.remote.webelement.WebElement (session=\"00e38a961c595a7c6e5058840b454b04\", element=\"be5dde4a-89cc-44f8-8286-9bb117a71421\")>]"
      ]
     },
     "execution_count": 26,
     "metadata": {},
     "output_type": "execute_result"
    }
   ],
   "source": [
    "privates_from_price_tags = driver.find_elements_by_xpath(\"//div[@class='price title-5']\")\n",
    "privates_from_price_tags[0:10]"
   ]
  },
  {
   "cell_type": "code",
   "execution_count": 27,
   "id": "dc92dd49",
   "metadata": {},
   "outputs": [
    {
     "data": {
      "text/plain": [
       "['No Privates Available',\n",
       " 'No Privates Available',\n",
       " 'No Privates Available',\n",
       " 'No Privates Available',\n",
       " 'No Privates Available',\n",
       " 'No Privates Available',\n",
       " 'Rs4464',\n",
       " 'Rs13564',\n",
       " 'Rs1703',\n",
       " 'Rs8197']"
      ]
     },
     "execution_count": 27,
     "metadata": {},
     "output_type": "execute_result"
    }
   ],
   "source": [
    "for i in privates_from_price_tags:\n",
    "    price=i.text\n",
    "    privates_from_price.append(price)\n",
    "privates_from_price[0:10]"
   ]
  },
  {
   "cell_type": "code",
   "execution_count": 28,
   "id": "24678028",
   "metadata": {},
   "outputs": [
    {
     "name": "stderr",
     "output_type": "stream",
     "text": [
      "<ipython-input-28-210e38109f24>:1: DeprecationWarning: find_elements_by_* commands are deprecated. Please use find_elements() instead\n",
      "  dorms_from_price_tags = driver.find_elements_by_xpath(\"//div[@class='price-col']\")\n"
     ]
    },
    {
     "data": {
      "text/plain": [
       "[<selenium.webdriver.remote.webelement.WebElement (session=\"00e38a961c595a7c6e5058840b454b04\", element=\"1c65f4fb-bed2-42c1-8e8d-d34b87f2f6c2\")>,\n",
       " <selenium.webdriver.remote.webelement.WebElement (session=\"00e38a961c595a7c6e5058840b454b04\", element=\"987c2bf6-5615-4e91-843f-562a35b27ef3\")>,\n",
       " <selenium.webdriver.remote.webelement.WebElement (session=\"00e38a961c595a7c6e5058840b454b04\", element=\"d1ac7f44-6460-424c-85bd-921d3bd47e7c\")>,\n",
       " <selenium.webdriver.remote.webelement.WebElement (session=\"00e38a961c595a7c6e5058840b454b04\", element=\"e9c54bf5-9bb9-4be1-b118-27276f19cbf6\")>,\n",
       " <selenium.webdriver.remote.webelement.WebElement (session=\"00e38a961c595a7c6e5058840b454b04\", element=\"24bb8fab-f23e-4a16-9db9-1073a5bc6af6\")>,\n",
       " <selenium.webdriver.remote.webelement.WebElement (session=\"00e38a961c595a7c6e5058840b454b04\", element=\"a9c77ce9-a5a7-415a-b802-3b1c9b7d4256\")>,\n",
       " <selenium.webdriver.remote.webelement.WebElement (session=\"00e38a961c595a7c6e5058840b454b04\", element=\"7d38c1d6-6aba-4ecc-b19b-227dad779738\")>,\n",
       " <selenium.webdriver.remote.webelement.WebElement (session=\"00e38a961c595a7c6e5058840b454b04\", element=\"f401a1b2-08ea-4c52-9a13-2c43830fde09\")>,\n",
       " <selenium.webdriver.remote.webelement.WebElement (session=\"00e38a961c595a7c6e5058840b454b04\", element=\"a3208ef2-8f1b-456b-b2f6-a7cf5491417d\")>,\n",
       " <selenium.webdriver.remote.webelement.WebElement (session=\"00e38a961c595a7c6e5058840b454b04\", element=\"a4b249ec-8aa6-443e-8385-d88161f13db0\")>]"
      ]
     },
     "execution_count": 28,
     "metadata": {},
     "output_type": "execute_result"
    }
   ],
   "source": [
    "dorms_from_price_tags = driver.find_elements_by_xpath(\"//div[@class='price-col']\")\n",
    "dorms_from_price_tags[0:10]"
   ]
  },
  {
   "cell_type": "code",
   "execution_count": 29,
   "id": "b9ea541d",
   "metadata": {},
   "outputs": [
    {
     "data": {
      "text/plain": [
       "['No Privates Available',\n",
       " 'Dorms From\\nRs4464',\n",
       " 'Privates From\\nRs13564',\n",
       " 'Dorms From\\nRs1703',\n",
       " 'Privates From\\nRs8197',\n",
       " 'Dorms From\\nRs1944',\n",
       " 'Privates From\\nRs16614',\n",
       " 'Dorms From\\nRs6419.65 Rs5457',\n",
       " 'Privates From\\nRs3641',\n",
       " 'Dorms From\\nRs2115']"
      ]
     },
     "execution_count": 29,
     "metadata": {},
     "output_type": "execute_result"
    }
   ],
   "source": [
    "for i in dorms_from_price_tags:\n",
    "    dorm_price=i.text\n",
    "    dorms_from_price.append(dorm_price)\n",
    "dorms_from_price[0:10]\n"
   ]
  },
  {
   "cell_type": "code",
   "execution_count": 30,
   "id": "ced89925",
   "metadata": {},
   "outputs": [
    {
     "name": "stderr",
     "output_type": "stream",
     "text": [
      "<ipython-input-30-ccbc79feb84c>:1: DeprecationWarning: find_elements_by_* commands are deprecated. Please use find_elements() instead\n",
      "  facilities_tags = driver.find_elements_by_xpath(\"//div[@class='rating-factors prop-card-tablet rating-factors small']\")\n"
     ]
    },
    {
     "data": {
      "text/plain": [
       "[<selenium.webdriver.remote.webelement.WebElement (session=\"00e38a961c595a7c6e5058840b454b04\", element=\"50e48c65-4637-4b70-8cab-27785de8c58c\")>,\n",
       " <selenium.webdriver.remote.webelement.WebElement (session=\"00e38a961c595a7c6e5058840b454b04\", element=\"36dd67dc-e9d0-4a3d-802f-80f71ca082b0\")>,\n",
       " <selenium.webdriver.remote.webelement.WebElement (session=\"00e38a961c595a7c6e5058840b454b04\", element=\"48b44917-d69c-4935-bfb6-cf0c7200b9e9\")>,\n",
       " <selenium.webdriver.remote.webelement.WebElement (session=\"00e38a961c595a7c6e5058840b454b04\", element=\"ef13a75f-4099-4961-9729-a03398eb54aa\")>,\n",
       " <selenium.webdriver.remote.webelement.WebElement (session=\"00e38a961c595a7c6e5058840b454b04\", element=\"04be2cb8-fc9e-482b-ade6-eaf5a37cdc70\")>,\n",
       " <selenium.webdriver.remote.webelement.WebElement (session=\"00e38a961c595a7c6e5058840b454b04\", element=\"f7af197b-bf40-45cb-8618-0837a0bff899\")>,\n",
       " <selenium.webdriver.remote.webelement.WebElement (session=\"00e38a961c595a7c6e5058840b454b04\", element=\"e23509e2-7fc2-42ea-a095-afd226158efb\")>,\n",
       " <selenium.webdriver.remote.webelement.WebElement (session=\"00e38a961c595a7c6e5058840b454b04\", element=\"bb376c9d-9696-43a1-b939-bed2dba2d674\")>,\n",
       " <selenium.webdriver.remote.webelement.WebElement (session=\"00e38a961c595a7c6e5058840b454b04\", element=\"6c44c7b2-c52b-48b8-9f7a-77843213eed5\")>,\n",
       " <selenium.webdriver.remote.webelement.WebElement (session=\"00e38a961c595a7c6e5058840b454b04\", element=\"e025761e-0a4a-4769-9a89-a16d0618e203\")>]"
      ]
     },
     "execution_count": 30,
     "metadata": {},
     "output_type": "execute_result"
    }
   ],
   "source": [
    "facilities_tags = driver.find_elements_by_xpath(\"//div[@class='rating-factors prop-card-tablet rating-factors small']\")\n",
    "facilities_tags[0:10]\n"
   ]
  },
  {
   "cell_type": "code",
   "execution_count": 31,
   "id": "5956f318",
   "metadata": {},
   "outputs": [
    {
     "data": {
      "text/plain": [
       "['Perfect Location\\nSuperb Staff\\nFantastic Cleanliness',\n",
       " 'Perfect Location\\nBrilliant Staff\\nAwesome Cleanliness',\n",
       " 'Perfect Location\\nSuperb Staff\\nExcellent Cleanliness',\n",
       " 'Perfect Location\\nSuperb Staff\\nFantastic Cleanliness',\n",
       " 'Perfect Location\\nSuperb Staff\\nAwesome Cleanliness',\n",
       " 'Perfect Location\\nSuperb Staff\\nFantastic Cleanliness',\n",
       " 'Wonderful Location\\nMarvellous Staff\\nAwesome Cleanliness',\n",
       " 'Wonderful Location\\nSuperb Staff\\nAwesome Cleanliness',\n",
       " 'Perfect Location\\nMarvellous Staff\\nExcellent Cleanliness',\n",
       " 'Perfect Location\\nSuperb Staff\\nFantastic Cleanliness']"
      ]
     },
     "execution_count": 31,
     "metadata": {},
     "output_type": "execute_result"
    }
   ],
   "source": [
    "for i in facilities_tags:\n",
    "    facility=i.text\n",
    "    facilities.append(facility)\n",
    "facilities[0:10]\n"
   ]
  },
  {
   "cell_type": "code",
   "execution_count": 36,
   "id": "6c2c1050",
   "metadata": {},
   "outputs": [
    {
     "name": "stdout",
     "output_type": "stream",
     "text": [
      "    Unnamed: 0                                   Hostel  \\\n",
      "0            0                        Mornington Camden   \n",
      "1            1              Smart Russell Square Hostel   \n",
      "2            2                  Smart Camden Inn Hostel   \n",
      "3            3                            Selina Camden   \n",
      "4            4                  Queen Elizabeth Chelsea   \n",
      "5            5                            Pickwick Hall   \n",
      "6            6                     New Cross Inn Hostel   \n",
      "7            7             No.8 Willesden Hostel London   \n",
      "8            8        Safestay London Elephant & Castle   \n",
      "9            9                 Barmy Badger Backpackers   \n",
      "10          10                   The London Home Hostel   \n",
      "11          11                       No.8 Seven Sisters   \n",
      "12          12                               Park Villa   \n",
      "13          13                          Astor Hyde Park   \n",
      "14          14          Wombat's The City Hostel London   \n",
      "15          15                        Hootananny Hostel   \n",
      "16          16               St Christopher's Greenwich   \n",
      "17          17       St Christopher's Oasis-Female Only   \n",
      "18          18                  St Christopher's Camden   \n",
      "19          19          St Christopher's Shepherds Bush   \n",
      "20          20             St Christopher's Hammersmith   \n",
      "21          21  St Christopher's Inn - Liverpool Street   \n",
      "22          22     St Christopher's Inn - London Bridge   \n",
      "23          23               Smart Hyde Park Inn Hostel   \n",
      "24          24              Smart Hyde Park View Hostel   \n",
      "25          25  Safestay London Kensington Holland Park   \n",
      "26          26                     Urbany Hostel London   \n",
      "27          27                         Astor Kensington   \n",
      "28          28                           Phoenix Hostel   \n",
      "29          29                  Prime Backpackers Angel   \n",
      "\n",
      "                           Distance  Rating         Total_Review  \\\n",
      "0   Hostel - 4.1km from city centre   False     44 Total Reviews   \n",
      "1   Hostel - 2.6km from city centre   False   9559 Total Reviews   \n",
      "2   Hostel - 4.4km from city centre   False   2730 Total Reviews   \n",
      "3   Hostel - 5.5km from city centre   False     13 Total Reviews   \n",
      "4   Hostel - 5.7km from city centre   False   3210 Total Reviews   \n",
      "5   Hostel - 2.3km from city centre   False   2273 Total Reviews   \n",
      "6   Hostel - 6.1km from city centre   False   1045 Total Reviews   \n",
      "7    Hostel - 10km from city centre   False   4629 Total Reviews   \n",
      "8   Hostel - 1.7km from city centre   False   4018 Total Reviews   \n",
      "9   Hostel - 5.5km from city centre   False   1687 Total Reviews   \n",
      "10  Hostel - 8.2km from city centre   False    253 Total Reviews   \n",
      "11    Hostel - 9km from city centre   False   3681 Total Reviews   \n",
      "12  Hostel - 6.3km from city centre   False    854 Total Reviews   \n",
      "13  Hostel - 4.3km from city centre   False  11380 Total Reviews   \n",
      "14  Hostel - 3.6km from city centre   False  13351 Total Reviews   \n",
      "15    Hostel - 5km from city centre   False   1422 Total Reviews   \n",
      "16  Hostel - 7.6km from city centre   False   3152 Total Reviews   \n",
      "17  Hostel - 1.8km from city centre   False    617 Total Reviews   \n",
      "18  Hostel - 4.3km from city centre   False   3729 Total Reviews   \n",
      "19    Hostel - 7km from city centre   False    639 Total Reviews   \n",
      "20  Hostel - 7.5km from city centre   False   3966 Total Reviews   \n",
      "21  Hostel - 3.2km from city centre   False    374 Total Reviews   \n",
      "22  Hostel - 1.8km from city centre   False   3251 Total Reviews   \n",
      "23    Hostel - 5km from city centre   False   6258 Total Reviews   \n",
      "24    Hostel - 5km from city centre   False   4514 Total Reviews   \n",
      "25  Hostel - 5.9km from city centre   False   1105 Total Reviews   \n",
      "26  Hostel - 5.4km from city centre   False    183 Total Reviews   \n",
      "27  Hostel - 4.9km from city centre   False   6341 Total Reviews   \n",
      "28  Hostel - 4.2km from city centre   False   3472 Total Reviews   \n",
      "29  Hostel - 3.6km from city centre   False    529 Total Reviews   \n",
      "\n",
      "    Overall_Review  Privates_from_price  dorms_from_price  \\\n",
      "0            False                False             False   \n",
      "1            False                False             False   \n",
      "2            False                False             False   \n",
      "3            False                False             False   \n",
      "4            False                False             False   \n",
      "5            False                False             False   \n",
      "6            False                False             False   \n",
      "7            False                False             False   \n",
      "8            False                False             False   \n",
      "9            False                False             False   \n",
      "10           False                False             False   \n",
      "11           False                False             False   \n",
      "12           False                False             False   \n",
      "13           False                False             False   \n",
      "14           False                False             False   \n",
      "15           False                False             False   \n",
      "16           False                False             False   \n",
      "17           False                False             False   \n",
      "18           False                False             False   \n",
      "19           False                False             False   \n",
      "20           False                False             False   \n",
      "21           False                False             False   \n",
      "22           False                False             False   \n",
      "23           False                False             False   \n",
      "24           False                False             False   \n",
      "25           False                False             False   \n",
      "26           False                False             False   \n",
      "27           False                False             False   \n",
      "28           False                False             False   \n",
      "29           False                False             False   \n",
      "\n",
      "                                           Facilities  \n",
      "0   Perfect Location\\nSuperb Staff\\nFantastic Clea...  \n",
      "1   Perfect Location\\nBrilliant Staff\\nAwesome Cle...  \n",
      "2   Perfect Location\\nSuperb Staff\\nExcellent Clea...  \n",
      "3   Perfect Location\\nSuperb Staff\\nFantastic Clea...  \n",
      "4   Perfect Location\\nSuperb Staff\\nAwesome Cleanl...  \n",
      "5   Perfect Location\\nSuperb Staff\\nFantastic Clea...  \n",
      "6   Wonderful Location\\nMarvellous Staff\\nAwesome ...  \n",
      "7   Wonderful Location\\nSuperb Staff\\nAwesome Clea...  \n",
      "8   Perfect Location\\nMarvellous Staff\\nExcellent ...  \n",
      "9   Perfect Location\\nSuperb Staff\\nFantastic Clea...  \n",
      "10                                                NaN  \n",
      "11               Wonderful Location\\nMarvellous Staff  \n",
      "12  Perfect Location\\nSuperb Staff\\nExcellent Clea...  \n",
      "13  Perfect Location\\nSuperb Staff\\nExcellent Clea...  \n",
      "14  Perfect Location\\nSuperb Staff\\nFantastic Clea...  \n",
      "15  Perfect Location\\nSuperb Staff\\nExcellent Clea...  \n",
      "16  Wonderful Location\\nMarvellous Staff\\nAwesome ...  \n",
      "17  Perfect Location\\nSuperb Staff\\nExcellent Clea...  \n",
      "18  Perfect Location\\nMarvellous Staff\\nAwesome Cl...  \n",
      "19  Perfect Location\\nSuperb Staff\\nExcellent Clea...  \n",
      "20  Perfect Location\\nMarvellous Staff\\nExcellent ...  \n",
      "21  Perfect Location\\nSuperb Staff\\nExcellent Clea...  \n",
      "22  Perfect Location\\nSuperb Staff\\nExcellent Clea...  \n",
      "23                  Perfect Location\\nBrilliant Staff  \n",
      "24  Perfect Location\\nSuperb Staff\\nExcellent Clea...  \n",
      "25  Perfect Location\\nMarvellous Staff\\nExcellent ...  \n",
      "26  Perfect Location\\nSuperb Staff\\nFantastic Clea...  \n",
      "27                     Perfect Location\\nSuperb Staff  \n",
      "28  Perfect Location\\nSuperb Staff\\nExcellent Clea...  \n",
      "29  Perfect Location\\nSuperb Staff\\nFantastic Clea...  \n"
     ]
    }
   ],
   "source": [
    "hostel_data =pd.DataFrame({})\n",
    "hostel_data['Hostel']= hostel_name\n",
    "hostel_data['Distance']= distance_from_city \n",
    "hostel_data['Rating']= rating ==10\n",
    "hostel_data['Total_Review']= total_reviews\n",
    "hostel_data['Overall_Review']= overall_reviews ==10\n",
    "hostel_data['Privates_from_price']= privates_from_price ==10\n",
    "hostel_data['dorms_from_price']= dorms_from_price ==10\n",
    "hostel_data['Facilities']= facilities\n",
    "\n",
    "\n",
    "convert = pd.DataFrame(hostel_data)\n",
    "convert.to_csv(\"out2.csv\")\n",
    "\n",
    "a = pd.read_csv(\"out2.csv\")\n",
    "print(a)\n"
   ]
  },
  {
   "cell_type": "code",
   "execution_count": 1,
   "id": "fdecb326",
   "metadata": {},
   "outputs": [
    {
     "name": "stderr",
     "output_type": "stream",
     "text": [
      "<ipython-input-1-88df606b8c59>:7: DeprecationWarning: executable_path has been deprecated, please pass in a Service object\n",
      "  driver = webdriver.Chrome(r\"C:\\Users\\Rutuja\\Downloads\\chromedriver_win32\\chromedriver.exe\")\n",
      "<ipython-input-1-88df606b8c59>:11: DeprecationWarning: find_element_by_* commands are deprecated. Please use find_element() instead\n",
      "  search_btn = driver.find_element_by_xpath(\"//div[@class='search']\")\n",
      "<ipython-input-1-88df606b8c59>:15: DeprecationWarning: find_element_by_* commands are deprecated. Please use find_element() instead\n",
      "  search_item = driver.find_element_by_id('globalPageSearchText')\n"
     ]
    }
   ],
   "source": [
    "#Q7\n",
    "\n",
    "import selenium\n",
    "import pandas as pd\n",
    "from selenium import webdriver\n",
    "\n",
    "driver = webdriver.Chrome(r\"C:\\Users\\Rutuja\\Downloads\\chromedriver_win32\\chromedriver.exe\")\n",
    "\n",
    "driver.get('https://www.digit.in/')\n",
    "\n",
    "search_btn = driver.find_element_by_xpath(\"//div[@class='search']\")\n",
    "search_btn.click()\n",
    "#search_item.send_keys(\"smartphones\")\n",
    "\n",
    "search_item = driver.find_element_by_id('globalPageSearchText')\n",
    "search_item.send_keys(\"best gaming laptops\")\n",
    "search_item.click()\n"
   ]
  },
  {
   "cell_type": "code",
   "execution_count": 2,
   "id": "615c71c3",
   "metadata": {},
   "outputs": [],
   "source": [
    "url = \"https://www.digit.in/top-products/best-gaming-laptops-40.html\"\n",
    "\n",
    "driver.get(url)\n",
    "\n",
    "product_name = []\n",
    "OS = []\n",
    "Display = []\n",
    "Processor = []"
   ]
  },
  {
   "cell_type": "code",
   "execution_count": 12,
   "id": "e14b07c2",
   "metadata": {},
   "outputs": [
    {
     "name": "stderr",
     "output_type": "stream",
     "text": [
      "<ipython-input-12-485340f4cad5>:1: DeprecationWarning: find_elements_by_* commands are deprecated. Please use find_elements() instead\n",
      "  product_name_tags = driver.find_elements_by_xpath(\"//div[@class='TopNumbeHeading active sticky-footer']\")\n"
     ]
    },
    {
     "data": {
      "text/plain": [
       "[<selenium.webdriver.remote.webelement.WebElement (session=\"cb30eefa3314cafbcf7c3d3d15d7a501\", element=\"bea4367c-f9f5-4ebb-a2ca-0f152ce33546\")>,\n",
       " <selenium.webdriver.remote.webelement.WebElement (session=\"cb30eefa3314cafbcf7c3d3d15d7a501\", element=\"733a12ea-9811-4060-a2be-8b6dd4d49790\")>,\n",
       " <selenium.webdriver.remote.webelement.WebElement (session=\"cb30eefa3314cafbcf7c3d3d15d7a501\", element=\"b0d53994-728a-45b2-b3c2-1c081615be60\")>,\n",
       " <selenium.webdriver.remote.webelement.WebElement (session=\"cb30eefa3314cafbcf7c3d3d15d7a501\", element=\"0c5c39f3-46ac-4b6d-a623-e48c85624db4\")>,\n",
       " <selenium.webdriver.remote.webelement.WebElement (session=\"cb30eefa3314cafbcf7c3d3d15d7a501\", element=\"b825c472-91df-4dc0-ae8e-d565ac382e41\")>,\n",
       " <selenium.webdriver.remote.webelement.WebElement (session=\"cb30eefa3314cafbcf7c3d3d15d7a501\", element=\"e37eba07-1456-43d2-8a35-5d04d5a498d8\")>,\n",
       " <selenium.webdriver.remote.webelement.WebElement (session=\"cb30eefa3314cafbcf7c3d3d15d7a501\", element=\"1dd4d284-ef2a-4bc8-b521-6d52b479f865\")>,\n",
       " <selenium.webdriver.remote.webelement.WebElement (session=\"cb30eefa3314cafbcf7c3d3d15d7a501\", element=\"b71db22b-88af-44b0-a08d-3e7a126984d7\")>,\n",
       " <selenium.webdriver.remote.webelement.WebElement (session=\"cb30eefa3314cafbcf7c3d3d15d7a501\", element=\"1baa2423-77be-4475-b3a4-d8461a7919c7\")>,\n",
       " <selenium.webdriver.remote.webelement.WebElement (session=\"cb30eefa3314cafbcf7c3d3d15d7a501\", element=\"d481bf4f-f36e-4679-950c-00e6ebada1fb\")>]"
      ]
     },
     "execution_count": 12,
     "metadata": {},
     "output_type": "execute_result"
    }
   ],
   "source": [
    "product_name_tags = driver.find_elements_by_xpath(\"//div[@class='TopNumbeHeading active sticky-footer']\")\n",
    "product_name_tags[0:10]"
   ]
  },
  {
   "cell_type": "code",
   "execution_count": 13,
   "id": "d9ccc7b2",
   "metadata": {},
   "outputs": [
    {
     "data": {
      "text/plain": [
       "['1.\\nACER NITRO 5 RYZEN 9 (2021)',\n",
       " '2.\\nMSI STEALTH 15M 11TH GEN CORE I7-11375H (2021',\n",
       " '3.\\nASUS ROG STRIX SCAR 15 RYZEN 9-5900HX (2021)',\n",
       " '4.\\nALIENWARE AREA 51M R2',\n",
       " '5.\\nALIENWARE M15 R3',\n",
       " '6.\\nASUS ROG STRIX SCAR 15',\n",
       " '7.\\nASUS ROG ZEPHYRUS G14',\n",
       " '8.\\nLENOVO LEGION 5I',\n",
       " '9.\\nASUS ROG ZEPHYRUS DUO 15',\n",
       " '10.\\nACER ASPIRE 7 GAMING']"
      ]
     },
     "execution_count": 13,
     "metadata": {},
     "output_type": "execute_result"
    }
   ],
   "source": [
    "for i in product_name_tags:\n",
    "    products=i.text\n",
    "    product_name.append(products)\n",
    "product_name[0:10]"
   ]
  },
  {
   "cell_type": "code",
   "execution_count": 3,
   "id": "d92b7643",
   "metadata": {},
   "outputs": [
    {
     "name": "stderr",
     "output_type": "stream",
     "text": [
      "<ipython-input-3-eb09dfdb979c>:1: DeprecationWarning: find_elements_by_* commands are deprecated. Please use find_elements() instead\n",
      "  titles_tags = driver.find_elements_by_xpath(\"//div[@class='value']\")\n"
     ]
    },
    {
     "data": {
      "text/plain": [
       "[<selenium.webdriver.remote.webelement.WebElement (session=\"cb30eefa3314cafbcf7c3d3d15d7a501\", element=\"e5f71b58-ff15-4c1d-89f3-7a0b76a428f4\")>,\n",
       " <selenium.webdriver.remote.webelement.WebElement (session=\"cb30eefa3314cafbcf7c3d3d15d7a501\", element=\"1dd30732-233f-4eee-932e-ed06f9826938\")>,\n",
       " <selenium.webdriver.remote.webelement.WebElement (session=\"cb30eefa3314cafbcf7c3d3d15d7a501\", element=\"a5bf3fe9-b3c1-4d33-a947-75223b471f2d\")>,\n",
       " <selenium.webdriver.remote.webelement.WebElement (session=\"cb30eefa3314cafbcf7c3d3d15d7a501\", element=\"c87c58de-7ab4-49f1-a4fd-acbcfd3f8478\")>,\n",
       " <selenium.webdriver.remote.webelement.WebElement (session=\"cb30eefa3314cafbcf7c3d3d15d7a501\", element=\"6308515c-5680-497b-8efe-941e9aa04d40\")>,\n",
       " <selenium.webdriver.remote.webelement.WebElement (session=\"cb30eefa3314cafbcf7c3d3d15d7a501\", element=\"d40003e1-87c6-4eb0-9495-c0b968f9eb0d\")>,\n",
       " <selenium.webdriver.remote.webelement.WebElement (session=\"cb30eefa3314cafbcf7c3d3d15d7a501\", element=\"b7ebe15b-a585-47b4-9f0a-784a98759048\")>,\n",
       " <selenium.webdriver.remote.webelement.WebElement (session=\"cb30eefa3314cafbcf7c3d3d15d7a501\", element=\"07b00f14-8ebe-4834-ade9-0ad7e0f7dabc\")>,\n",
       " <selenium.webdriver.remote.webelement.WebElement (session=\"cb30eefa3314cafbcf7c3d3d15d7a501\", element=\"8134e356-c27d-4ffa-adb0-e1f039cafe7a\")>,\n",
       " <selenium.webdriver.remote.webelement.WebElement (session=\"cb30eefa3314cafbcf7c3d3d15d7a501\", element=\"86f6708a-1bdd-4af1-958b-498ca936ad69\")>]"
      ]
     },
     "execution_count": 3,
     "metadata": {},
     "output_type": "execute_result"
    }
   ],
   "source": [
    "titles_tags = driver.find_elements_by_xpath(\"//div[@class='value']\")\n",
    "titles_tags[0:10]"
   ]
  },
  {
   "cell_type": "code",
   "execution_count": 4,
   "id": "00d6fac4",
   "metadata": {},
   "outputs": [
    {
     "data": {
      "text/plain": [
       "['WINDOWS 10',\n",
       " '15.6\" (1920 X 1080)',\n",
       " 'AMD RYZEN 9 OCTA CORE | 2.4 GHZ',\n",
       " '1 TB HDD/16 GBGB DDR4',\n",
       " 'WINDOWS 10',\n",
       " '15.6\" (1920 X 1080)',\n",
       " 'INTEL CORE I7 11TH GEN - 11375H | NA',\n",
       " '1 TB SSD/16 GBGB DDR4',\n",
       " 'WINDOWS 10',\n",
       " '15.6\" (2560 X 1440)']"
      ]
     },
     "execution_count": 4,
     "metadata": {},
     "output_type": "execute_result"
    }
   ],
   "source": [
    "for i in titles_tags:\n",
    "    title=i.text\n",
    "    OS.append(title)\n",
    "OS[0:10]"
   ]
  },
  {
   "cell_type": "code",
   "execution_count": 8,
   "id": "718be5ca",
   "metadata": {},
   "outputs": [
    {
     "name": "stderr",
     "output_type": "stream",
     "text": [
      "<ipython-input-8-0d6c6625fdde>:1: DeprecationWarning: find_elements_by_* commands are deprecated. Please use find_elements() instead\n",
      "  display_tags = driver.find_elements_by_xpath(\"//div[@class='Wrap-pop']\")\n"
     ]
    },
    {
     "data": {
      "text/plain": [
       "[<selenium.webdriver.remote.webelement.WebElement (session=\"cb30eefa3314cafbcf7c3d3d15d7a501\", element=\"9ba52f59-4b35-43eb-95a6-d2dcbbf6fb44\")>,\n",
       " <selenium.webdriver.remote.webelement.WebElement (session=\"cb30eefa3314cafbcf7c3d3d15d7a501\", element=\"7375fab4-f248-4282-b91b-dbf14d8bdad0\")>,\n",
       " <selenium.webdriver.remote.webelement.WebElement (session=\"cb30eefa3314cafbcf7c3d3d15d7a501\", element=\"bc0d0b9b-75c1-4d96-ba83-1f7644a1a158\")>,\n",
       " <selenium.webdriver.remote.webelement.WebElement (session=\"cb30eefa3314cafbcf7c3d3d15d7a501\", element=\"e50d59a0-4e96-484e-aebf-43bfa53cf496\")>,\n",
       " <selenium.webdriver.remote.webelement.WebElement (session=\"cb30eefa3314cafbcf7c3d3d15d7a501\", element=\"7a41445b-cb8d-4427-bc0a-9014e1c9a184\")>,\n",
       " <selenium.webdriver.remote.webelement.WebElement (session=\"cb30eefa3314cafbcf7c3d3d15d7a501\", element=\"25ad7195-e978-4c13-bbef-d00bb1ddbf74\")>,\n",
       " <selenium.webdriver.remote.webelement.WebElement (session=\"cb30eefa3314cafbcf7c3d3d15d7a501\", element=\"59dc5a49-abca-4ae1-bfe2-327653a94256\")>,\n",
       " <selenium.webdriver.remote.webelement.WebElement (session=\"cb30eefa3314cafbcf7c3d3d15d7a501\", element=\"c52dcb0b-afbe-4f68-a078-3df1e034fbf7\")>,\n",
       " <selenium.webdriver.remote.webelement.WebElement (session=\"cb30eefa3314cafbcf7c3d3d15d7a501\", element=\"4ae01c5b-6e87-46da-9a3b-86a72143046b\")>,\n",
       " <selenium.webdriver.remote.webelement.WebElement (session=\"cb30eefa3314cafbcf7c3d3d15d7a501\", element=\"24297307-0f84-459d-9b8f-97705258a4c6\")>]"
      ]
     },
     "execution_count": 8,
     "metadata": {},
     "output_type": "execute_result"
    }
   ],
   "source": [
    "display_tags = driver.find_elements_by_xpath(\"//div[@class='Wrap-pop']\")\n",
    "display_tags[0:10]"
   ]
  },
  {
   "cell_type": "code",
   "execution_count": 9,
   "id": "8183e877",
   "metadata": {},
   "outputs": [
    {
     "data": {
      "text/plain": [
       "['OS\\nWINDOWS 10',\n",
       " 'DISPLAY\\n15.6\" (1920 X 1080)',\n",
       " 'PROCESSOR\\nAMD RYZEN 9 OCTA CORE | 2.4 GHZ',\n",
       " 'MEMORY\\n1 TB HDD/16 GBGB DDR4',\n",
       " 'OS\\nWINDOWS 10',\n",
       " 'DISPLAY\\n15.6\" (1920 X 1080)',\n",
       " 'PROCESSOR\\nINTEL CORE I7 11TH GEN - 11375H | NA',\n",
       " 'MEMORY\\n1 TB SSD/16 GBGB DDR4',\n",
       " 'OS\\nWINDOWS 10',\n",
       " 'DISPLAY\\n15.6\" (2560 X 1440)']"
      ]
     },
     "execution_count": 9,
     "metadata": {},
     "output_type": "execute_result"
    }
   ],
   "source": [
    "for i in display_tags:\n",
    "    displays=i.text\n",
    "    Display.append(displays)\n",
    "Display[0:10]"
   ]
  },
  {
   "cell_type": "code",
   "execution_count": 10,
   "id": "6af3ae58",
   "metadata": {},
   "outputs": [
    {
     "name": "stderr",
     "output_type": "stream",
     "text": [
      "<ipython-input-10-376e8d76a70f>:1: DeprecationWarning: find_elements_by_* commands are deprecated. Please use find_elements() instead\n",
      "  Processor_tags = driver.find_elements_by_xpath(\"//div[@class='value']\")\n"
     ]
    },
    {
     "data": {
      "text/plain": [
       "[<selenium.webdriver.remote.webelement.WebElement (session=\"cb30eefa3314cafbcf7c3d3d15d7a501\", element=\"e5f71b58-ff15-4c1d-89f3-7a0b76a428f4\")>,\n",
       " <selenium.webdriver.remote.webelement.WebElement (session=\"cb30eefa3314cafbcf7c3d3d15d7a501\", element=\"1dd30732-233f-4eee-932e-ed06f9826938\")>,\n",
       " <selenium.webdriver.remote.webelement.WebElement (session=\"cb30eefa3314cafbcf7c3d3d15d7a501\", element=\"a5bf3fe9-b3c1-4d33-a947-75223b471f2d\")>,\n",
       " <selenium.webdriver.remote.webelement.WebElement (session=\"cb30eefa3314cafbcf7c3d3d15d7a501\", element=\"c87c58de-7ab4-49f1-a4fd-acbcfd3f8478\")>,\n",
       " <selenium.webdriver.remote.webelement.WebElement (session=\"cb30eefa3314cafbcf7c3d3d15d7a501\", element=\"6308515c-5680-497b-8efe-941e9aa04d40\")>,\n",
       " <selenium.webdriver.remote.webelement.WebElement (session=\"cb30eefa3314cafbcf7c3d3d15d7a501\", element=\"d40003e1-87c6-4eb0-9495-c0b968f9eb0d\")>,\n",
       " <selenium.webdriver.remote.webelement.WebElement (session=\"cb30eefa3314cafbcf7c3d3d15d7a501\", element=\"b7ebe15b-a585-47b4-9f0a-784a98759048\")>,\n",
       " <selenium.webdriver.remote.webelement.WebElement (session=\"cb30eefa3314cafbcf7c3d3d15d7a501\", element=\"07b00f14-8ebe-4834-ade9-0ad7e0f7dabc\")>,\n",
       " <selenium.webdriver.remote.webelement.WebElement (session=\"cb30eefa3314cafbcf7c3d3d15d7a501\", element=\"8134e356-c27d-4ffa-adb0-e1f039cafe7a\")>,\n",
       " <selenium.webdriver.remote.webelement.WebElement (session=\"cb30eefa3314cafbcf7c3d3d15d7a501\", element=\"86f6708a-1bdd-4af1-958b-498ca936ad69\")>]"
      ]
     },
     "execution_count": 10,
     "metadata": {},
     "output_type": "execute_result"
    }
   ],
   "source": [
    "Processor_tags = driver.find_elements_by_xpath(\"//div[@class='value']\")\n",
    "Processor_tags[0:10]"
   ]
  },
  {
   "cell_type": "code",
   "execution_count": 11,
   "id": "879c719f",
   "metadata": {},
   "outputs": [
    {
     "data": {
      "text/plain": [
       "['WINDOWS 10',\n",
       " '15.6\" (1920 X 1080)',\n",
       " 'AMD RYZEN 9 OCTA CORE | 2.4 GHZ',\n",
       " '1 TB HDD/16 GBGB DDR4',\n",
       " 'WINDOWS 10',\n",
       " '15.6\" (1920 X 1080)',\n",
       " 'INTEL CORE I7 11TH GEN - 11375H | NA',\n",
       " '1 TB SSD/16 GBGB DDR4',\n",
       " 'WINDOWS 10',\n",
       " '15.6\" (2560 X 1440)']"
      ]
     },
     "execution_count": 11,
     "metadata": {},
     "output_type": "execute_result"
    }
   ],
   "source": [
    "for i in Processor_tags:\n",
    "    processor=i.text\n",
    "    Processor.append(processor)\n",
    "Processor[0:10]"
   ]
  },
  {
   "cell_type": "code",
   "execution_count": 17,
   "id": "7c4eb1bb",
   "metadata": {},
   "outputs": [
    {
     "name": "stdout",
     "output_type": "stream",
     "text": [
      "   Unnamed: 0                                            Product     Os  \\\n",
      "0           0                    1.\\nACER NITRO 5 RYZEN 9 (2021)  False   \n",
      "1           1  2.\\nMSI STEALTH 15M 11TH GEN CORE I7-11375H (2021  False   \n",
      "2           2   3.\\nASUS ROG STRIX SCAR 15 RYZEN 9-5900HX (2021)  False   \n",
      "3           3                          4.\\nALIENWARE AREA 51M R2  False   \n",
      "4           4                               5.\\nALIENWARE M15 R3  False   \n",
      "5           5                         6.\\nASUS ROG STRIX SCAR 15  False   \n",
      "6           6                          7.\\nASUS ROG ZEPHYRUS G14  False   \n",
      "7           7                               8.\\nLENOVO LEGION 5I  False   \n",
      "8           8                       9.\\nASUS ROG ZEPHYRUS DUO 15  False   \n",
      "9           9                          10.\\nACER ASPIRE 7 GAMING  False   \n",
      "\n",
      "   display  processor  \n",
      "0    False      False  \n",
      "1    False      False  \n",
      "2    False      False  \n",
      "3    False      False  \n",
      "4    False      False  \n",
      "5    False      False  \n",
      "6    False      False  \n",
      "7    False      False  \n",
      "8    False      False  \n",
      "9    False      False  \n"
     ]
    }
   ],
   "source": [
    "Product_data =pd.DataFrame({})\n",
    "Product_data['Product']= product_name\n",
    "Product_data['Os']= OS == 10\n",
    "Product_data['display']= Display ==10\n",
    "Product_data['processor']= Processor ==10\n",
    "\n",
    "convert = pd.DataFrame(Product_data)\n",
    "convert.to_csv(\"out3.csv\")\n",
    "\n",
    "a = pd.read_csv(\"out3.csv\")\n",
    "print(a)\n"
   ]
  },
  {
   "cell_type": "code",
   "execution_count": 23,
   "id": "506ba738",
   "metadata": {},
   "outputs": [
    {
     "name": "stderr",
     "output_type": "stream",
     "text": [
      "<ipython-input-23-46ccce32a823>:7: DeprecationWarning: executable_path has been deprecated, please pass in a Service object\n",
      "  driver = webdriver.Chrome(r\"C:\\Users\\Rutuja\\Downloads\\chromedriver_win32\\chromedriver.exe\")\n",
      "<ipython-input-23-46ccce32a823>:11: DeprecationWarning: find_element_by_* commands are deprecated. Please use find_element() instead\n",
      "  search_btn = driver.find_element_by_xpath(\"//button[@class='icon--hamburger']\")\n",
      "<ipython-input-23-46ccce32a823>:14: DeprecationWarning: find_element_by_* commands are deprecated. Please use find_element() instead\n",
      "  search_billionaires = driver.find_element_by_xpath(\"//li[@class='header__channel header__color--centennial-silver header__hoverable']\")\n",
      "<ipython-input-23-46ccce32a823>:17: DeprecationWarning: find_element_by_* commands are deprecated. Please use find_element() instead\n",
      "  search_billionaires1 = driver.find_element_by_xpath(\"//a[@class='section__link']\")\n"
     ]
    }
   ],
   "source": [
    "#Q8\n",
    "\n",
    "import selenium\n",
    "import pandas as pd\n",
    "from selenium import webdriver\n",
    "\n",
    "driver = webdriver.Chrome(r\"C:\\Users\\Rutuja\\Downloads\\chromedriver_win32\\chromedriver.exe\")\n",
    "\n",
    "driver.get('http://www.forbes.com/')\n",
    "\n",
    "search_btn = driver.find_element_by_xpath(\"//button[@class='icon--hamburger']\")\n",
    "search_btn.click()\n",
    "\n",
    "search_billionaires = driver.find_element_by_xpath(\"//li[@class='header__channel header__color--centennial-silver header__hoverable']\")\n",
    "search_billionaires.click()\n",
    "\n",
    "search_billionaires1 = driver.find_element_by_xpath(\"//a[@class='section__link']\")\n",
    "search_billionaires1.click()"
   ]
  },
  {
   "cell_type": "code",
   "execution_count": 28,
   "id": "7a7a0aef",
   "metadata": {},
   "outputs": [],
   "source": [
    "url = \"https://www.forbes.com/billionaires/\"\n",
    "\n",
    "driver.get(url)\n",
    "\n",
    "Ranks = []\n",
    "person_Name = []\n",
    "B_Networth = []\n",
    "b_age = []\n",
    "citizenship = []\n",
    "source = []\n",
    "industry = []\n"
   ]
  },
  {
   "cell_type": "code",
   "execution_count": 29,
   "id": "29d6df7f",
   "metadata": {},
   "outputs": [
    {
     "name": "stderr",
     "output_type": "stream",
     "text": [
      "<ipython-input-29-0ff44fff8cd9>:1: DeprecationWarning: find_elements_by_* commands are deprecated. Please use find_elements() instead\n",
      "  person_Name_tags = driver.find_elements_by_xpath(\"//div[@class='personName']\")\n"
     ]
    },
    {
     "data": {
      "text/plain": [
       "[<selenium.webdriver.remote.webelement.WebElement (session=\"386379ab9d26739f36c4826f0f38498d\", element=\"6d67397c-30f1-4f47-89a5-4fd36defc2fd\")>,\n",
       " <selenium.webdriver.remote.webelement.WebElement (session=\"386379ab9d26739f36c4826f0f38498d\", element=\"2806239d-3233-4fb3-9778-399a24941e98\")>,\n",
       " <selenium.webdriver.remote.webelement.WebElement (session=\"386379ab9d26739f36c4826f0f38498d\", element=\"158c0806-e0c8-49a7-bc49-998c9da466de\")>,\n",
       " <selenium.webdriver.remote.webelement.WebElement (session=\"386379ab9d26739f36c4826f0f38498d\", element=\"1df0da4c-8600-4fe0-b6df-52fd6508fcec\")>,\n",
       " <selenium.webdriver.remote.webelement.WebElement (session=\"386379ab9d26739f36c4826f0f38498d\", element=\"3c63bd05-33b7-4ce6-a163-98a67d6da7be\")>,\n",
       " <selenium.webdriver.remote.webelement.WebElement (session=\"386379ab9d26739f36c4826f0f38498d\", element=\"1273ac92-ebbe-4973-9512-51b472718d64\")>,\n",
       " <selenium.webdriver.remote.webelement.WebElement (session=\"386379ab9d26739f36c4826f0f38498d\", element=\"b0ca107f-d09d-4bb6-afa4-9c8ab0daefbc\")>,\n",
       " <selenium.webdriver.remote.webelement.WebElement (session=\"386379ab9d26739f36c4826f0f38498d\", element=\"65f9d893-e85a-45d6-a791-dfd276f63d01\")>,\n",
       " <selenium.webdriver.remote.webelement.WebElement (session=\"386379ab9d26739f36c4826f0f38498d\", element=\"7a8a4b9d-1420-4a9a-8132-835a11c1770e\")>,\n",
       " <selenium.webdriver.remote.webelement.WebElement (session=\"386379ab9d26739f36c4826f0f38498d\", element=\"46c35972-6c9e-4fc1-81f6-6704a2f16932\")>]"
      ]
     },
     "execution_count": 29,
     "metadata": {},
     "output_type": "execute_result"
    }
   ],
   "source": [
    "person_Name_tags = driver.find_elements_by_xpath(\"//div[@class='personName']\")\n",
    "person_Name_tags[0:10]"
   ]
  },
  {
   "cell_type": "code",
   "execution_count": 30,
   "id": "d4b2e8ab",
   "metadata": {},
   "outputs": [
    {
     "data": {
      "text/plain": [
       "['Jeff Bezos',\n",
       " 'Elon Musk',\n",
       " 'Bernard Arnault & family',\n",
       " 'Bill Gates',\n",
       " 'Mark Zuckerberg',\n",
       " 'Warren Buffett',\n",
       " 'Larry Ellison',\n",
       " 'Larry Page',\n",
       " 'Sergey Brin',\n",
       " 'Mukesh Ambani']"
      ]
     },
     "execution_count": 30,
     "metadata": {},
     "output_type": "execute_result"
    }
   ],
   "source": [
    "for i in person_Name_tags:\n",
    "    p_name=i.text\n",
    "    person_Name.append(p_name)\n",
    "person_Name[0:10]"
   ]
  },
  {
   "cell_type": "code",
   "execution_count": 31,
   "id": "e51f7e33",
   "metadata": {},
   "outputs": [
    {
     "name": "stderr",
     "output_type": "stream",
     "text": [
      "<ipython-input-31-314a8166b705>:1: DeprecationWarning: find_elements_by_* commands are deprecated. Please use find_elements() instead\n",
      "  rank_tags = driver.find_elements_by_xpath(\"//div[@class='rank']\")\n"
     ]
    },
    {
     "data": {
      "text/plain": [
       "[<selenium.webdriver.remote.webelement.WebElement (session=\"386379ab9d26739f36c4826f0f38498d\", element=\"ed70ebb6-c507-4188-a3cf-8840746169be\")>,\n",
       " <selenium.webdriver.remote.webelement.WebElement (session=\"386379ab9d26739f36c4826f0f38498d\", element=\"d519efa5-1ac5-488f-957b-94e3cd33dd70\")>,\n",
       " <selenium.webdriver.remote.webelement.WebElement (session=\"386379ab9d26739f36c4826f0f38498d\", element=\"dde00abc-fa08-4f9c-af23-e5767a6d26b2\")>,\n",
       " <selenium.webdriver.remote.webelement.WebElement (session=\"386379ab9d26739f36c4826f0f38498d\", element=\"573a2ac4-6073-428f-b5a0-ea152deac7ff\")>,\n",
       " <selenium.webdriver.remote.webelement.WebElement (session=\"386379ab9d26739f36c4826f0f38498d\", element=\"3afbf8b8-06a7-4184-8d55-e9af78a937fa\")>,\n",
       " <selenium.webdriver.remote.webelement.WebElement (session=\"386379ab9d26739f36c4826f0f38498d\", element=\"3a95815c-7ba7-48bd-ac86-4ed0389ffcd1\")>,\n",
       " <selenium.webdriver.remote.webelement.WebElement (session=\"386379ab9d26739f36c4826f0f38498d\", element=\"53f20eb2-8ac3-4fe5-af89-a866081eb728\")>,\n",
       " <selenium.webdriver.remote.webelement.WebElement (session=\"386379ab9d26739f36c4826f0f38498d\", element=\"5424c202-e220-4e4f-9c52-e3671213581e\")>,\n",
       " <selenium.webdriver.remote.webelement.WebElement (session=\"386379ab9d26739f36c4826f0f38498d\", element=\"e57cbeb5-47c5-4589-bae6-b0a2b1f77e69\")>,\n",
       " <selenium.webdriver.remote.webelement.WebElement (session=\"386379ab9d26739f36c4826f0f38498d\", element=\"eaeea6d5-8e0e-4681-877b-4deff55fa60f\")>]"
      ]
     },
     "execution_count": 31,
     "metadata": {},
     "output_type": "execute_result"
    }
   ],
   "source": [
    "rank_tags = driver.find_elements_by_xpath(\"//div[@class='rank']\")\n",
    "rank_tags[0:10]"
   ]
  },
  {
   "cell_type": "code",
   "execution_count": 32,
   "id": "a5da9ca2",
   "metadata": {},
   "outputs": [
    {
     "data": {
      "text/plain": [
       "['1.', '2.', '3.', '4.', '5.', '6.', '7.', '8.', '9.', '10.']"
      ]
     },
     "execution_count": 32,
     "metadata": {},
     "output_type": "execute_result"
    }
   ],
   "source": [
    "for i in rank_tags:\n",
    "    b_rank=i.text\n",
    "    Ranks.append(b_rank)\n",
    "Ranks[0:10]"
   ]
  },
  {
   "cell_type": "code",
   "execution_count": 33,
   "id": "65b25a2c",
   "metadata": {},
   "outputs": [
    {
     "name": "stderr",
     "output_type": "stream",
     "text": [
      "<ipython-input-33-e6ab4f0822ee>:1: DeprecationWarning: find_elements_by_* commands are deprecated. Please use find_elements() instead\n",
      "  Net_worth_tags = driver.find_elements_by_xpath(\"//div[@class='netWorth']\")\n"
     ]
    },
    {
     "data": {
      "text/plain": [
       "[<selenium.webdriver.remote.webelement.WebElement (session=\"386379ab9d26739f36c4826f0f38498d\", element=\"89e6f6e4-9265-412b-a98d-e68126ac523e\")>,\n",
       " <selenium.webdriver.remote.webelement.WebElement (session=\"386379ab9d26739f36c4826f0f38498d\", element=\"957ef77e-5900-42d1-97c9-3021d38c0c6f\")>,\n",
       " <selenium.webdriver.remote.webelement.WebElement (session=\"386379ab9d26739f36c4826f0f38498d\", element=\"405433b0-c32b-44bf-bab4-f570d5aeee3a\")>,\n",
       " <selenium.webdriver.remote.webelement.WebElement (session=\"386379ab9d26739f36c4826f0f38498d\", element=\"29a397dd-9019-41fe-81df-4d60e8906025\")>,\n",
       " <selenium.webdriver.remote.webelement.WebElement (session=\"386379ab9d26739f36c4826f0f38498d\", element=\"d7e89c66-10dc-400c-9f67-6d305bddd398\")>,\n",
       " <selenium.webdriver.remote.webelement.WebElement (session=\"386379ab9d26739f36c4826f0f38498d\", element=\"dae8cb70-a197-45b4-9b2a-c056837a646c\")>,\n",
       " <selenium.webdriver.remote.webelement.WebElement (session=\"386379ab9d26739f36c4826f0f38498d\", element=\"fd6842ca-5358-467d-869f-3c6bc04888b7\")>,\n",
       " <selenium.webdriver.remote.webelement.WebElement (session=\"386379ab9d26739f36c4826f0f38498d\", element=\"35c4a863-e990-48d9-ab52-77ae8332b2a7\")>,\n",
       " <selenium.webdriver.remote.webelement.WebElement (session=\"386379ab9d26739f36c4826f0f38498d\", element=\"f8447fe1-4dfe-4fe1-9734-4fc0e20ab38a\")>,\n",
       " <selenium.webdriver.remote.webelement.WebElement (session=\"386379ab9d26739f36c4826f0f38498d\", element=\"7495213e-cb12-4d7a-89d8-ba79325727fe\")>]"
      ]
     },
     "execution_count": 33,
     "metadata": {},
     "output_type": "execute_result"
    }
   ],
   "source": [
    "Net_worth_tags = driver.find_elements_by_xpath(\"//div[@class='netWorth']\")\n",
    "Net_worth_tags[0:10]"
   ]
  },
  {
   "cell_type": "code",
   "execution_count": 34,
   "id": "f61630f4",
   "metadata": {},
   "outputs": [
    {
     "data": {
      "text/plain": [
       "['$177 B',\n",
       " '$151 B',\n",
       " '$150 B',\n",
       " '$124 B',\n",
       " '$97 B',\n",
       " '$96 B',\n",
       " '$93 B',\n",
       " '$91.5 B',\n",
       " '$89 B',\n",
       " '$84.5 B']"
      ]
     },
     "execution_count": 34,
     "metadata": {},
     "output_type": "execute_result"
    }
   ],
   "source": [
    "for i in Net_worth_tags:\n",
    "    n_worth=i.text\n",
    "    B_Networth.append(n_worth)\n",
    "B_Networth[0:10]"
   ]
  },
  {
   "cell_type": "code",
   "execution_count": 35,
   "id": "d8e31739",
   "metadata": {},
   "outputs": [
    {
     "name": "stderr",
     "output_type": "stream",
     "text": [
      "<ipython-input-35-8405fc13e395>:1: DeprecationWarning: find_elements_by_* commands are deprecated. Please use find_elements() instead\n",
      "  age_tags = driver.find_elements_by_xpath(\"//div[@class='age']\")\n"
     ]
    },
    {
     "data": {
      "text/plain": [
       "[<selenium.webdriver.remote.webelement.WebElement (session=\"386379ab9d26739f36c4826f0f38498d\", element=\"d1ad9238-2f1d-43e0-9414-348a779d16c2\")>,\n",
       " <selenium.webdriver.remote.webelement.WebElement (session=\"386379ab9d26739f36c4826f0f38498d\", element=\"4b76ed53-8586-4bb7-8ff3-39913f59ec7d\")>,\n",
       " <selenium.webdriver.remote.webelement.WebElement (session=\"386379ab9d26739f36c4826f0f38498d\", element=\"fcb8f360-a405-4f88-8d72-9f4ca390ee80\")>,\n",
       " <selenium.webdriver.remote.webelement.WebElement (session=\"386379ab9d26739f36c4826f0f38498d\", element=\"6c7d4a79-0f29-4bf9-8759-e2badc675333\")>,\n",
       " <selenium.webdriver.remote.webelement.WebElement (session=\"386379ab9d26739f36c4826f0f38498d\", element=\"f1f44379-c8f5-4a3a-8360-f3f8d01b00ff\")>,\n",
       " <selenium.webdriver.remote.webelement.WebElement (session=\"386379ab9d26739f36c4826f0f38498d\", element=\"e20818bb-f4aa-4895-ac96-96923b815d85\")>,\n",
       " <selenium.webdriver.remote.webelement.WebElement (session=\"386379ab9d26739f36c4826f0f38498d\", element=\"1affddb5-e8a2-4ce5-ac6f-43a90a1da4fc\")>,\n",
       " <selenium.webdriver.remote.webelement.WebElement (session=\"386379ab9d26739f36c4826f0f38498d\", element=\"26e641c0-e2d6-484c-9e9e-212b0047f027\")>,\n",
       " <selenium.webdriver.remote.webelement.WebElement (session=\"386379ab9d26739f36c4826f0f38498d\", element=\"fd9003dd-2cc8-4ef0-8e7f-e7a1375aa0b8\")>,\n",
       " <selenium.webdriver.remote.webelement.WebElement (session=\"386379ab9d26739f36c4826f0f38498d\", element=\"e8211c65-9d74-4aac-8642-840b9ad5b189\")>]"
      ]
     },
     "execution_count": 35,
     "metadata": {},
     "output_type": "execute_result"
    }
   ],
   "source": [
    "age_tags = driver.find_elements_by_xpath(\"//div[@class='age']\")\n",
    "age_tags[0:10]"
   ]
  },
  {
   "cell_type": "code",
   "execution_count": 37,
   "id": "84755e45",
   "metadata": {},
   "outputs": [
    {
     "data": {
      "text/plain": [
       "['57', '49', '72', '65', '36', '90', '76', '48', '47', '63']"
      ]
     },
     "execution_count": 37,
     "metadata": {},
     "output_type": "execute_result"
    }
   ],
   "source": [
    "for i in age_tags:\n",
    "    age=i.text\n",
    "    b_age.append(age)\n",
    "b_age[0:10]"
   ]
  },
  {
   "cell_type": "code",
   "execution_count": 38,
   "id": "ef832799",
   "metadata": {},
   "outputs": [
    {
     "name": "stderr",
     "output_type": "stream",
     "text": [
      "<ipython-input-38-cda2c5c49a03>:1: DeprecationWarning: find_elements_by_* commands are deprecated. Please use find_elements() instead\n",
      "  citizenship_tags = driver.find_elements_by_xpath(\"//div[@class='countryOfCitizenship']\")\n"
     ]
    },
    {
     "data": {
      "text/plain": [
       "[<selenium.webdriver.remote.webelement.WebElement (session=\"386379ab9d26739f36c4826f0f38498d\", element=\"699d19b8-ffe0-4396-bf51-10cdc880de67\")>,\n",
       " <selenium.webdriver.remote.webelement.WebElement (session=\"386379ab9d26739f36c4826f0f38498d\", element=\"a1a7e5b3-a679-401f-a96a-0a628e085f82\")>,\n",
       " <selenium.webdriver.remote.webelement.WebElement (session=\"386379ab9d26739f36c4826f0f38498d\", element=\"a12110d2-34b1-419c-972e-81b66fe490b3\")>,\n",
       " <selenium.webdriver.remote.webelement.WebElement (session=\"386379ab9d26739f36c4826f0f38498d\", element=\"182380a6-81c0-499b-a167-453a5ad69d6d\")>,\n",
       " <selenium.webdriver.remote.webelement.WebElement (session=\"386379ab9d26739f36c4826f0f38498d\", element=\"4c0e7d76-e669-421d-b80c-d1faf11a7ea0\")>,\n",
       " <selenium.webdriver.remote.webelement.WebElement (session=\"386379ab9d26739f36c4826f0f38498d\", element=\"dc117724-d1e6-4510-b4f3-c207b0029b45\")>,\n",
       " <selenium.webdriver.remote.webelement.WebElement (session=\"386379ab9d26739f36c4826f0f38498d\", element=\"b6cea0a3-0616-4108-b288-afb20f426388\")>,\n",
       " <selenium.webdriver.remote.webelement.WebElement (session=\"386379ab9d26739f36c4826f0f38498d\", element=\"70d14d8e-385f-41e1-ba9c-4ee8e567dc83\")>,\n",
       " <selenium.webdriver.remote.webelement.WebElement (session=\"386379ab9d26739f36c4826f0f38498d\", element=\"24f0d1bb-f551-47e8-a239-65c6ddf9ae86\")>,\n",
       " <selenium.webdriver.remote.webelement.WebElement (session=\"386379ab9d26739f36c4826f0f38498d\", element=\"039b5f23-34d3-4640-a331-2522dd4ee8ec\")>]"
      ]
     },
     "execution_count": 38,
     "metadata": {},
     "output_type": "execute_result"
    }
   ],
   "source": [
    "citizenship_tags = driver.find_elements_by_xpath(\"//div[@class='countryOfCitizenship']\")\n",
    "citizenship_tags[0:10]"
   ]
  },
  {
   "cell_type": "code",
   "execution_count": 39,
   "id": "4fc593f8",
   "metadata": {},
   "outputs": [
    {
     "data": {
      "text/plain": [
       "['United States',\n",
       " 'United States',\n",
       " 'France',\n",
       " 'United States',\n",
       " 'United States',\n",
       " 'United States',\n",
       " 'United States',\n",
       " 'United States',\n",
       " 'United States',\n",
       " 'India']"
      ]
     },
     "execution_count": 39,
     "metadata": {},
     "output_type": "execute_result"
    }
   ],
   "source": [
    "for i in citizenship_tags:\n",
    "    Citizenship=i.text\n",
    "    citizenship.append(Citizenship)\n",
    "citizenship[0:10]"
   ]
  },
  {
   "cell_type": "code",
   "execution_count": 40,
   "id": "7c9be07b",
   "metadata": {},
   "outputs": [
    {
     "name": "stderr",
     "output_type": "stream",
     "text": [
      "<ipython-input-40-f525c8d2e0da>:1: DeprecationWarning: find_elements_by_* commands are deprecated. Please use find_elements() instead\n",
      "  source_tags = driver.find_elements_by_xpath(\"//div[@class='source-column']\")\n"
     ]
    },
    {
     "data": {
      "text/plain": [
       "[<selenium.webdriver.remote.webelement.WebElement (session=\"386379ab9d26739f36c4826f0f38498d\", element=\"011a30db-2226-4d8a-af7c-d1d5b9be59a7\")>,\n",
       " <selenium.webdriver.remote.webelement.WebElement (session=\"386379ab9d26739f36c4826f0f38498d\", element=\"9eaa02ff-5e35-4c0a-9a4e-ceb651a4cfd5\")>,\n",
       " <selenium.webdriver.remote.webelement.WebElement (session=\"386379ab9d26739f36c4826f0f38498d\", element=\"e68faaf6-7f0d-4786-92f8-93ffcb46bf9e\")>,\n",
       " <selenium.webdriver.remote.webelement.WebElement (session=\"386379ab9d26739f36c4826f0f38498d\", element=\"ad5cc299-e0a1-40da-8e00-cee96caafed4\")>,\n",
       " <selenium.webdriver.remote.webelement.WebElement (session=\"386379ab9d26739f36c4826f0f38498d\", element=\"6c16edcf-4950-4f05-bf6f-8ee6df1bd25e\")>,\n",
       " <selenium.webdriver.remote.webelement.WebElement (session=\"386379ab9d26739f36c4826f0f38498d\", element=\"603d8a3b-da1b-4e72-9a65-3b65918088a2\")>,\n",
       " <selenium.webdriver.remote.webelement.WebElement (session=\"386379ab9d26739f36c4826f0f38498d\", element=\"b4af13eb-150e-44f2-9de0-028bb2fa3b99\")>,\n",
       " <selenium.webdriver.remote.webelement.WebElement (session=\"386379ab9d26739f36c4826f0f38498d\", element=\"ce611687-0306-4a84-9ed6-78a65c166fde\")>,\n",
       " <selenium.webdriver.remote.webelement.WebElement (session=\"386379ab9d26739f36c4826f0f38498d\", element=\"49cd86d3-499b-48ce-9e4b-862b74afd7dd\")>,\n",
       " <selenium.webdriver.remote.webelement.WebElement (session=\"386379ab9d26739f36c4826f0f38498d\", element=\"368d3104-670d-4f1d-b8fb-52566b8de660\")>]"
      ]
     },
     "execution_count": 40,
     "metadata": {},
     "output_type": "execute_result"
    }
   ],
   "source": [
    "source_tags = driver.find_elements_by_xpath(\"//div[@class='source-column']\")\n",
    "source_tags[0:10]"
   ]
  },
  {
   "cell_type": "code",
   "execution_count": 41,
   "id": "20c3fb49",
   "metadata": {},
   "outputs": [
    {
     "data": {
      "text/plain": [
       "['Amazon',\n",
       " 'Tesla, SpaceX',\n",
       " 'LVMH',\n",
       " 'Microsoft',\n",
       " 'Facebook',\n",
       " 'Berkshire Hathaway',\n",
       " 'software',\n",
       " 'Google',\n",
       " 'Google',\n",
       " 'diversified']"
      ]
     },
     "execution_count": 41,
     "metadata": {},
     "output_type": "execute_result"
    }
   ],
   "source": [
    "for i in source_tags:\n",
    "    sources=i.text\n",
    "    source.append(sources)\n",
    "source[0:10]"
   ]
  },
  {
   "cell_type": "code",
   "execution_count": 42,
   "id": "72caf88a",
   "metadata": {},
   "outputs": [
    {
     "name": "stderr",
     "output_type": "stream",
     "text": [
      "<ipython-input-42-2935514ee8ec>:1: DeprecationWarning: find_elements_by_* commands are deprecated. Please use find_elements() instead\n",
      "  industry_tags = driver.find_elements_by_xpath(\"//div[@class='category']\")\n"
     ]
    },
    {
     "data": {
      "text/plain": [
       "[<selenium.webdriver.remote.webelement.WebElement (session=\"386379ab9d26739f36c4826f0f38498d\", element=\"e3333e54-2ac1-4e75-84e5-90a5aa0eb58e\")>,\n",
       " <selenium.webdriver.remote.webelement.WebElement (session=\"386379ab9d26739f36c4826f0f38498d\", element=\"245a0602-5a5a-4e31-8267-c6f9dd9c3a7c\")>,\n",
       " <selenium.webdriver.remote.webelement.WebElement (session=\"386379ab9d26739f36c4826f0f38498d\", element=\"808c23a9-db30-4d6c-83f7-8ccd4c0890d6\")>,\n",
       " <selenium.webdriver.remote.webelement.WebElement (session=\"386379ab9d26739f36c4826f0f38498d\", element=\"8d247539-5240-4364-b81c-6041713adedc\")>,\n",
       " <selenium.webdriver.remote.webelement.WebElement (session=\"386379ab9d26739f36c4826f0f38498d\", element=\"932c32f7-41a5-4c14-a4c7-d6be2320b9c7\")>,\n",
       " <selenium.webdriver.remote.webelement.WebElement (session=\"386379ab9d26739f36c4826f0f38498d\", element=\"23ac59bc-8470-43d2-8bf0-a775310b9bc4\")>,\n",
       " <selenium.webdriver.remote.webelement.WebElement (session=\"386379ab9d26739f36c4826f0f38498d\", element=\"f15b5c7a-c930-451a-9282-435c231beb14\")>,\n",
       " <selenium.webdriver.remote.webelement.WebElement (session=\"386379ab9d26739f36c4826f0f38498d\", element=\"14f0794e-b893-4b38-abdf-256c297b7627\")>,\n",
       " <selenium.webdriver.remote.webelement.WebElement (session=\"386379ab9d26739f36c4826f0f38498d\", element=\"c29e9fb8-d4e9-4853-b183-30adaa624783\")>,\n",
       " <selenium.webdriver.remote.webelement.WebElement (session=\"386379ab9d26739f36c4826f0f38498d\", element=\"e36564ea-5f84-483e-8ba2-211195d768cf\")>]"
      ]
     },
     "execution_count": 42,
     "metadata": {},
     "output_type": "execute_result"
    }
   ],
   "source": [
    "industry_tags = driver.find_elements_by_xpath(\"//div[@class='category']\")\n",
    "industry_tags[0:10]"
   ]
  },
  {
   "cell_type": "code",
   "execution_count": 43,
   "id": "c9ec37da",
   "metadata": {},
   "outputs": [
    {
     "data": {
      "text/plain": [
       "['Technology',\n",
       " 'Automotive',\n",
       " 'Fashion & Retail',\n",
       " 'Technology',\n",
       " 'Technology',\n",
       " 'Finance & Investments',\n",
       " 'Technology',\n",
       " 'Technology',\n",
       " 'Technology',\n",
       " 'Diversified']"
      ]
     },
     "execution_count": 43,
     "metadata": {},
     "output_type": "execute_result"
    }
   ],
   "source": [
    "for i in industry_tags:\n",
    "    industries=i.text\n",
    "    industry.append(industries)\n",
    "industry[0:10]"
   ]
  },
  {
   "cell_type": "code",
   "execution_count": 45,
   "id": "43ff5189",
   "metadata": {},
   "outputs": [
    {
     "name": "stdout",
     "output_type": "stream",
     "text": [
      "     Unnamed: 0   rank                      name networth   age  \\\n",
      "0             0    1.0                Jeff Bezos   $177 B  57.0   \n",
      "1             1    2.0                 Elon Musk   $151 B  49.0   \n",
      "2             2    3.0  Bernard Arnault & family   $150 B  72.0   \n",
      "3             3    4.0                Bill Gates   $124 B  65.0   \n",
      "4             4    5.0           Mark Zuckerberg    $97 B  36.0   \n",
      "..          ...    ...                       ...      ...   ...   \n",
      "195         195  195.0           Harry Triguboff  $11.2 B  88.0   \n",
      "196         196  197.0     Leonid Fedun & family  $11.1 B  65.0   \n",
      "197         197  197.0                 Eyal Ofer  $11.1 B  70.0   \n",
      "198         198  197.0              Evan Spiegel  $11.1 B  30.0   \n",
      "199         199  200.0     Luis Carlos Sarmiento    $11 B  88.0   \n",
      "\n",
      "       Citizenship                sources             industries  \n",
      "0    United States                 Amazon             Technology  \n",
      "1    United States          Tesla, SpaceX             Automotive  \n",
      "2           France                   LVMH       Fashion & Retail  \n",
      "3    United States              Microsoft             Technology  \n",
      "4    United States               Facebook             Technology  \n",
      "..             ...                    ...                    ...  \n",
      "195      Australia            real estate            Real Estate  \n",
      "196         Russia                    oil                 Energy  \n",
      "197         Israel  real estate, shipping            Diversified  \n",
      "198  United States               Snapchat             Technology  \n",
      "199       Colombia                banking  Finance & Investments  \n",
      "\n",
      "[200 rows x 8 columns]\n"
     ]
    }
   ],
   "source": [
    "billionaires_data =pd.DataFrame({})\n",
    "billionaires_data['rank']= Ranks\n",
    "billionaires_data['name']= person_Name\n",
    "billionaires_data['networth']= B_Networth\n",
    "billionaires_data['age']= b_age\n",
    "billionaires_data['Citizenship']= citizenship\n",
    "billionaires_data['sources']= source\n",
    "billionaires_data['industries']= industry\n",
    "\n",
    "\n",
    "convert = pd.DataFrame(billionaires_data)\n",
    "convert.to_csv(\"out4.csv\")\n",
    "\n",
    "a = pd.read_csv(\"out4.csv\")\n",
    "print(a)\n",
    "\n"
   ]
  },
  {
   "cell_type": "code",
   "execution_count": 1,
   "id": "7447d8d2",
   "metadata": {},
   "outputs": [
    {
     "name": "stderr",
     "output_type": "stream",
     "text": [
      "<ipython-input-1-9cad5b46fcf5>:7: DeprecationWarning: executable_path has been deprecated, please pass in a Service object\n",
      "  driver = webdriver.Chrome(r\"C:\\Users\\Rutuja\\Downloads\\chromedriver_win32\\chromedriver.exe\")\n",
      "<ipython-input-1-9cad5b46fcf5>:11: DeprecationWarning: find_element_by_* commands are deprecated. Please use find_element() instead\n",
      "  search_item = driver.find_element_by_xpath(\"//input[@class='nav-input nav-progressive-attribute']\")\n"
     ]
    },
    {
     "name": "stdout",
     "output_type": "stream",
     "text": [
      "Enter your value: guitar\n",
      "guitar\n"
     ]
    },
    {
     "name": "stderr",
     "output_type": "stream",
     "text": [
      "<ipython-input-1-9cad5b46fcf5>:17: DeprecationWarning: find_element_by_* commands are deprecated. Please use find_element() instead\n",
      "  search_btn = driver.find_element_by_id('nav-search-submit-button')\n"
     ]
    }
   ],
   "source": [
    "#Q1 & Q2\n",
    "\n",
    "import selenium\n",
    "import pandas as pd\n",
    "from selenium import webdriver\n",
    "\n",
    "driver = webdriver.Chrome(r\"C:\\Users\\Rutuja\\Downloads\\chromedriver_win32\\chromedriver.exe\")\n",
    "\n",
    "driver.get('https://www.amazon.in/')\n",
    "\n",
    "search_item = driver.find_element_by_xpath(\"//input[@class='nav-input nav-progressive-attribute']\")\n",
    "\n",
    "val = input(\"Enter your value: \")\n",
    "print(val)\n",
    "search_item.send_keys(val)\n",
    "\n",
    "search_btn = driver.find_element_by_id('nav-search-submit-button')\n",
    "search_btn.click()\n",
    "\n"
   ]
  },
  {
   "cell_type": "code",
   "execution_count": 7,
   "id": "a4ae2856",
   "metadata": {},
   "outputs": [],
   "source": [
    "product_name = []\n",
    "product_price = []\n",
    "Expected_Delivery= []\n"
   ]
  },
  {
   "cell_type": "code",
   "execution_count": 8,
   "id": "610d9535",
   "metadata": {},
   "outputs": [
    {
     "name": "stderr",
     "output_type": "stream",
     "text": [
      "<ipython-input-8-0a25d1b9ac82>:1: DeprecationWarning: find_elements_by_* commands are deprecated. Please use find_elements() instead\n",
      "  titles_tags = driver.find_elements_by_xpath(\"//a[@class='a-link-normal s-underline-text s-underline-link-text s-link-style a-text-normal']\")\n"
     ]
    },
    {
     "data": {
      "text/plain": [
       "[<selenium.webdriver.remote.webelement.WebElement (session=\"783e6178503d30ae7c92c980e03ed961\", element=\"15f5d5a6-da51-4eb2-8913-cc25b52119e0\")>,\n",
       " <selenium.webdriver.remote.webelement.WebElement (session=\"783e6178503d30ae7c92c980e03ed961\", element=\"808659a7-4efa-4f02-bb32-24986433d053\")>,\n",
       " <selenium.webdriver.remote.webelement.WebElement (session=\"783e6178503d30ae7c92c980e03ed961\", element=\"a040ba2b-5059-45db-b698-14563651812d\")>,\n",
       " <selenium.webdriver.remote.webelement.WebElement (session=\"783e6178503d30ae7c92c980e03ed961\", element=\"35b6c20a-36e4-4f75-a14c-d85d14544e5b\")>,\n",
       " <selenium.webdriver.remote.webelement.WebElement (session=\"783e6178503d30ae7c92c980e03ed961\", element=\"3ceca03a-d3db-406f-94a1-183b74019e05\")>,\n",
       " <selenium.webdriver.remote.webelement.WebElement (session=\"783e6178503d30ae7c92c980e03ed961\", element=\"8ce35b1d-29fe-4589-b96c-853f14624e68\")>,\n",
       " <selenium.webdriver.remote.webelement.WebElement (session=\"783e6178503d30ae7c92c980e03ed961\", element=\"91f8f574-df55-423d-8a60-4473f1f2fd26\")>,\n",
       " <selenium.webdriver.remote.webelement.WebElement (session=\"783e6178503d30ae7c92c980e03ed961\", element=\"d5f1a24f-7cc5-4aae-8ca3-c40e3f9d145a\")>,\n",
       " <selenium.webdriver.remote.webelement.WebElement (session=\"783e6178503d30ae7c92c980e03ed961\", element=\"3a7c24f4-cae8-48f8-9b7c-249310a0b6b1\")>,\n",
       " <selenium.webdriver.remote.webelement.WebElement (session=\"783e6178503d30ae7c92c980e03ed961\", element=\"d8865b58-5de3-4ba1-a263-9719726da365\")>]"
      ]
     },
     "execution_count": 8,
     "metadata": {},
     "output_type": "execute_result"
    }
   ],
   "source": [
    "titles_tags = driver.find_elements_by_xpath(\"//a[@class='a-link-normal s-underline-text s-underline-link-text s-link-style a-text-normal']\")\n",
    "titles_tags[0:10]"
   ]
  },
  {
   "cell_type": "code",
   "execution_count": 9,
   "id": "a8040c1f",
   "metadata": {},
   "outputs": [
    {
     "data": {
      "text/plain": [
       "['Juarez Acoustic Guitar, 38 Inch Curved Body Cutaway, 38CUR with Bag, Strings, Pick and Strap, Black',\n",
       " 'Kadence Slowhand Premium Jumbo Semi Acoustic Guitar with Heavy Padded Bag, guitar cable, Pro Capo and Guitar stand (Black Spruce Wood)',\n",
       " 'Kadence Guitar Acoustica Series, Electric Acoustic Guitar, Ash Wood with Pickup and Inbuilt tuner (Ash Wood, Electro Acoustic)',\n",
       " 'fender acoustic guitar Fender FA-125 Dreadnought Acoustic Guitar With Sponge Bag, Belt, String Set, String Winder & Plectrums Combo Pack (Natural)',\n",
       " 'Juârez Acoustic Guitar, 38 Inch Cutaway, 038C with Bag, Strings, Pick and Strap, Black',\n",
       " 'Intern INT-38C Acoustic Guitar Kit, With Bag, Strings, Pick And Strap, Black',\n",
       " 'Juarez Acoustic Guitar, 38 Inch Curved Body Cutaway, 38CUR with Bag, Strings, Pick and Strap, Black',\n",
       " 'Epiphone PRO-1 6 Strings Right handed Acoustic Guitar Vintage Sunburst',\n",
       " 'Kadence Slowhand Premium Jumbo Semi Acoustic Guitar with Heavy Padded Bag, guitar cable, Pro Capo and Guitar stand (Black Spruce Wood)',\n",
       " '']"
      ]
     },
     "execution_count": 9,
     "metadata": {},
     "output_type": "execute_result"
    }
   ],
   "source": [
    "for i in titles_tags:\n",
    "    title=i.text\n",
    "    product_name.append(title)\n",
    "product_name[0:10]"
   ]
  },
  {
   "cell_type": "code",
   "execution_count": 10,
   "id": "be5250d6",
   "metadata": {},
   "outputs": [
    {
     "name": "stderr",
     "output_type": "stream",
     "text": [
      "<ipython-input-10-3d1d8be655ab>:1: DeprecationWarning: find_elements_by_* commands are deprecated. Please use find_elements() instead\n",
      "  product_price_tags = driver.find_elements_by_xpath(\"//span[@class='a-price-whole']\")\n"
     ]
    },
    {
     "data": {
      "text/plain": [
       "[<selenium.webdriver.remote.webelement.WebElement (session=\"783e6178503d30ae7c92c980e03ed961\", element=\"1db55868-8459-4ad7-bc31-d5d709be63bd\")>,\n",
       " <selenium.webdriver.remote.webelement.WebElement (session=\"783e6178503d30ae7c92c980e03ed961\", element=\"d183e943-04a4-41dd-a3bc-08facd2c6953\")>,\n",
       " <selenium.webdriver.remote.webelement.WebElement (session=\"783e6178503d30ae7c92c980e03ed961\", element=\"cec72497-fe86-404a-a361-e2b98506ed2b\")>,\n",
       " <selenium.webdriver.remote.webelement.WebElement (session=\"783e6178503d30ae7c92c980e03ed961\", element=\"a8c2f1d9-77de-4322-b447-14f5403bc990\")>,\n",
       " <selenium.webdriver.remote.webelement.WebElement (session=\"783e6178503d30ae7c92c980e03ed961\", element=\"ee98f08b-8d41-4e2b-af15-d476942adaed\")>,\n",
       " <selenium.webdriver.remote.webelement.WebElement (session=\"783e6178503d30ae7c92c980e03ed961\", element=\"ddd1866d-694f-4a95-ab7f-54364f88f5c2\")>,\n",
       " <selenium.webdriver.remote.webelement.WebElement (session=\"783e6178503d30ae7c92c980e03ed961\", element=\"6bb4282b-56bf-46df-ae2e-61e8bafe1b51\")>,\n",
       " <selenium.webdriver.remote.webelement.WebElement (session=\"783e6178503d30ae7c92c980e03ed961\", element=\"6783680a-10e5-4fc0-b69e-6c2e36a82c95\")>,\n",
       " <selenium.webdriver.remote.webelement.WebElement (session=\"783e6178503d30ae7c92c980e03ed961\", element=\"f6c8a01c-ebbf-4922-b005-d8de583254f4\")>,\n",
       " <selenium.webdriver.remote.webelement.WebElement (session=\"783e6178503d30ae7c92c980e03ed961\", element=\"bf58b960-a255-400c-95de-6cac5547c2df\")>]"
      ]
     },
     "execution_count": 10,
     "metadata": {},
     "output_type": "execute_result"
    }
   ],
   "source": [
    "product_price_tags = driver.find_elements_by_xpath(\"//span[@class='a-price-whole']\")\n",
    "product_price_tags[0:10]"
   ]
  },
  {
   "cell_type": "code",
   "execution_count": 11,
   "id": "563ba5af",
   "metadata": {},
   "outputs": [
    {
     "data": {
      "text/plain": [
       "['2,190',\n",
       " '10,499',\n",
       " '6,999',\n",
       " '13,999',\n",
       " '2,649',\n",
       " '2,350',\n",
       " '2,190',\n",
       " '6,999',\n",
       " '12,663',\n",
       " '10,499']"
      ]
     },
     "execution_count": 11,
     "metadata": {},
     "output_type": "execute_result"
    }
   ],
   "source": [
    "for i in product_price_tags:\n",
    "    prices=i.text\n",
    "    product_price.append(prices)\n",
    "product_price[0:10]"
   ]
  },
  {
   "cell_type": "code",
   "execution_count": 13,
   "id": "272dd2e2",
   "metadata": {},
   "outputs": [
    {
     "name": "stderr",
     "output_type": "stream",
     "text": [
      "<ipython-input-13-37f9c7712b15>:1: DeprecationWarning: find_elements_by_* commands are deprecated. Please use find_elements() instead\n",
      "  Expected_Delivery_tags = driver.find_elements_by_xpath(\"//span[@class='a-color-base a-text-bold']\")\n"
     ]
    },
    {
     "data": {
      "text/plain": [
       "[<selenium.webdriver.remote.webelement.WebElement (session=\"783e6178503d30ae7c92c980e03ed961\", element=\"ebf92e4c-ba46-4012-8ee1-88cb79cb609c\")>,\n",
       " <selenium.webdriver.remote.webelement.WebElement (session=\"783e6178503d30ae7c92c980e03ed961\", element=\"12a3bbd5-97b0-4e29-a514-53a80be62b98\")>,\n",
       " <selenium.webdriver.remote.webelement.WebElement (session=\"783e6178503d30ae7c92c980e03ed961\", element=\"cecf5e19-7898-4c65-9776-f52b30b9fbc9\")>,\n",
       " <selenium.webdriver.remote.webelement.WebElement (session=\"783e6178503d30ae7c92c980e03ed961\", element=\"9bdec5bf-7ee1-44f2-8e29-5a47b79dd494\")>,\n",
       " <selenium.webdriver.remote.webelement.WebElement (session=\"783e6178503d30ae7c92c980e03ed961\", element=\"d1f84d18-000b-4060-9b60-f9c19e1a4a1d\")>,\n",
       " <selenium.webdriver.remote.webelement.WebElement (session=\"783e6178503d30ae7c92c980e03ed961\", element=\"654cb40b-a67d-4272-bfe2-2fe83267e707\")>,\n",
       " <selenium.webdriver.remote.webelement.WebElement (session=\"783e6178503d30ae7c92c980e03ed961\", element=\"74711e62-2f1f-4457-8b34-d3ddd50c2b10\")>,\n",
       " <selenium.webdriver.remote.webelement.WebElement (session=\"783e6178503d30ae7c92c980e03ed961\", element=\"b6b9060c-18ba-4621-b0ca-8bd15913a8fd\")>,\n",
       " <selenium.webdriver.remote.webelement.WebElement (session=\"783e6178503d30ae7c92c980e03ed961\", element=\"d96a869b-3070-4b4d-bb7a-77fffda3a266\")>,\n",
       " <selenium.webdriver.remote.webelement.WebElement (session=\"783e6178503d30ae7c92c980e03ed961\", element=\"433f239c-47fc-4e4a-b042-25b6aaf6b0f7\")>]"
      ]
     },
     "execution_count": 13,
     "metadata": {},
     "output_type": "execute_result"
    }
   ],
   "source": [
    "Expected_Delivery_tags = driver.find_elements_by_xpath(\"//span[@class='a-color-base a-text-bold']\")\n",
    "Expected_Delivery_tags[0:10]"
   ]
  },
  {
   "cell_type": "code",
   "execution_count": 14,
   "id": "0d9478f4",
   "metadata": {},
   "outputs": [
    {
     "data": {
      "text/plain": [
       "['Sunday, January 2',\n",
       " 'Sunday, January 2',\n",
       " 'Sunday, January 2',\n",
       " 'Sunday, January 2',\n",
       " 'Tomorrow, January 1',\n",
       " 'Sunday, January 2',\n",
       " 'Sunday, January 2',\n",
       " 'Sunday, January 2',\n",
       " 'Sunday, January 2',\n",
       " 'Tomorrow, January 1']"
      ]
     },
     "execution_count": 14,
     "metadata": {},
     "output_type": "execute_result"
    }
   ],
   "source": [
    "for i in Expected_Delivery_tags:\n",
    "    delivery=i.text\n",
    "    Expected_Delivery.append(delivery)\n",
    "Expected_Delivery[0:10]"
   ]
  },
  {
   "cell_type": "code",
   "execution_count": 17,
   "id": "4bdc3443",
   "metadata": {},
   "outputs": [
    {
     "name": "stdout",
     "output_type": "stream",
     "text": [
      "    Unnamed: 0                                            product  price  \\\n",
      "0            0  Juarez Acoustic Guitar, 38 Inch Curved Body Cu...  False   \n",
      "1            1  Kadence Slowhand Premium Jumbo Semi Acoustic G...  False   \n",
      "2            2  Kadence Guitar Acoustica Series, Electric Acou...  False   \n",
      "3            3  fender acoustic guitar Fender FA-125 Dreadnoug...  False   \n",
      "4            4  Juârez Acoustic Guitar, 38 Inch Cutaway, 038C ...  False   \n",
      "..         ...                                                ...    ...   \n",
      "66          66  Fender Squier Bullet Stratocaster with Tremolo...  False   \n",
      "67          67  Fender Acoustic Guitar FA125 Right Handed Drea...  False   \n",
      "68          68  Cort Acoustic Guitar AD810 Right Handed Guitar...  False   \n",
      "69          69  Fender Acoustic Guitar SA135C Cutaway Right Ha...  False   \n",
      "70          70  Fender FA125CE Electric Acoustic Guitar With S...  False   \n",
      "\n",
      "    delivery_date  \n",
      "0           False  \n",
      "1           False  \n",
      "2           False  \n",
      "3           False  \n",
      "4           False  \n",
      "..            ...  \n",
      "66          False  \n",
      "67          False  \n",
      "68          False  \n",
      "69          False  \n",
      "70          False  \n",
      "\n",
      "[71 rows x 4 columns]\n"
     ]
    }
   ],
   "source": [
    "product_data =pd.DataFrame({})\n",
    "product_data['product']= product_name\n",
    "product_data['price']= product_price ==10\n",
    "product_data['delivery_date']= Expected_Delivery ==10\n",
    "\n",
    "\n",
    "convert = pd.DataFrame(product_data)\n",
    "convert.to_csv(\"out5.csv\")\n",
    "\n",
    "a = pd.read_csv(\"out5.csv\")\n",
    "print(a)\n",
    "\n"
   ]
  },
  {
   "cell_type": "code",
   "execution_count": 24,
   "id": "6a2ea75f",
   "metadata": {},
   "outputs": [
    {
     "name": "stderr",
     "output_type": "stream",
     "text": [
      "<ipython-input-24-7cd188995cea>:5: DeprecationWarning: executable_path has been deprecated, please pass in a Service object\n",
      "  driver = webdriver.Chrome(r\"C:\\Users\\Rutuja\\Downloads\\chromedriver_win32\\chromedriver.exe\")\n",
      "<ipython-input-24-7cd188995cea>:9: DeprecationWarning: find_element_by_* commands are deprecated. Please use find_element() instead\n",
      "  search_btn = driver.find_element_by_id('menu-item-51510')\n"
     ]
    }
   ],
   "source": [
    "@Q6\n",
    "\n",
    "import selenium\n",
    "import pandas as pd\n",
    "from selenium import webdriver\n",
    "\n",
    "driver = webdriver.Chrome(r\"C:\\Users\\Rutuja\\Downloads\\chromedriver_win32\\chromedriver.exe\")\n",
    "\n",
    "driver.get('https://trak.in/')\n",
    "\n",
    "search_btn = driver.find_element_by_id('menu-item-51510')\n",
    "search_btn.click()\n",
    "\n"
   ]
  },
  {
   "cell_type": "code",
   "execution_count": 40,
   "id": "18d3ff23",
   "metadata": {},
   "outputs": [],
   "source": [
    "url= \"https://trak.in/india-startup-funding-investment-2015/\"\n",
    "driver.get(url)\n",
    "\n",
    "date = []\n",
    "startup_name = []\n",
    "industry_vertical = []\n",
    "sub_vertical = []\n",
    "city = []\n",
    "investers_name = []\n",
    "investment_type = []\n",
    "amount = []\n"
   ]
  },
  {
   "cell_type": "code",
   "execution_count": 27,
   "id": "392043f9",
   "metadata": {},
   "outputs": [
    {
     "name": "stderr",
     "output_type": "stream",
     "text": [
      "<ipython-input-27-f75a83a9795d>:1: DeprecationWarning: find_elements_by_* commands are deprecated. Please use find_elements() instead\n",
      "  date_tags = driver.find_elements_by_xpath(\"//td[@class='column-2']\")\n"
     ]
    },
    {
     "data": {
      "text/plain": [
       "[<selenium.webdriver.remote.webelement.WebElement (session=\"49eebefe4b887ffe18bb5bd9da8b911a\", element=\"391cbb31-4c18-4f80-88ff-be647a9bba57\")>,\n",
       " <selenium.webdriver.remote.webelement.WebElement (session=\"49eebefe4b887ffe18bb5bd9da8b911a\", element=\"7029a60a-e195-474b-b644-e39dfba9b858\")>,\n",
       " <selenium.webdriver.remote.webelement.WebElement (session=\"49eebefe4b887ffe18bb5bd9da8b911a\", element=\"c71c5938-762b-4362-80c4-a1646c96a068\")>,\n",
       " <selenium.webdriver.remote.webelement.WebElement (session=\"49eebefe4b887ffe18bb5bd9da8b911a\", element=\"9d7e4056-2cde-4d25-8718-34b9fe383fc2\")>,\n",
       " <selenium.webdriver.remote.webelement.WebElement (session=\"49eebefe4b887ffe18bb5bd9da8b911a\", element=\"8e75f2c8-f0b7-41f9-a3ed-2eeea9c476ee\")>,\n",
       " <selenium.webdriver.remote.webelement.WebElement (session=\"49eebefe4b887ffe18bb5bd9da8b911a\", element=\"751a5c71-d007-4e69-be16-e012d884e176\")>,\n",
       " <selenium.webdriver.remote.webelement.WebElement (session=\"49eebefe4b887ffe18bb5bd9da8b911a\", element=\"54db61d5-51a6-479e-bc91-799a32fef221\")>,\n",
       " <selenium.webdriver.remote.webelement.WebElement (session=\"49eebefe4b887ffe18bb5bd9da8b911a\", element=\"b880e4f2-9b6c-4d2c-9b43-bbe735deafb5\")>,\n",
       " <selenium.webdriver.remote.webelement.WebElement (session=\"49eebefe4b887ffe18bb5bd9da8b911a\", element=\"c263dc8a-4760-43cf-b701-240fa967f6fe\")>,\n",
       " <selenium.webdriver.remote.webelement.WebElement (session=\"49eebefe4b887ffe18bb5bd9da8b911a\", element=\"d78a7412-ffe0-4702-a8fb-594bba1d5805\")>]"
      ]
     },
     "execution_count": 27,
     "metadata": {},
     "output_type": "execute_result"
    }
   ],
   "source": [
    "date_tags = driver.find_elements_by_xpath(\"//td[@class='column-2']\")\n",
    "date_tags[0:10]"
   ]
  },
  {
   "cell_type": "code",
   "execution_count": 28,
   "id": "c47af26c",
   "metadata": {},
   "outputs": [
    {
     "data": {
      "text/plain": [
       "['01/04/2021',\n",
       " '05/04/2021',\n",
       " '14/04/2021',\n",
       " '07/04/2021',\n",
       " '14/04/2021',\n",
       " '04/03/2021',\n",
       " '31/03/2021',\n",
       " '30/03/2021',\n",
       " '30/03/2021',\n",
       " '23/03/2021']"
      ]
     },
     "execution_count": 28,
     "metadata": {},
     "output_type": "execute_result"
    }
   ],
   "source": [
    "for i in date_tags:\n",
    "    dates=i.text\n",
    "    date.append(dates)\n",
    "date[0:10]"
   ]
  },
  {
   "cell_type": "code",
   "execution_count": 29,
   "id": "2d2b3a5b",
   "metadata": {},
   "outputs": [
    {
     "name": "stderr",
     "output_type": "stream",
     "text": [
      "<ipython-input-29-ed31b5fdde6a>:1: DeprecationWarning: find_elements_by_* commands are deprecated. Please use find_elements() instead\n",
      "  startup_tag = driver.find_elements_by_xpath(\"//td[@class='column-3']\")\n"
     ]
    },
    {
     "data": {
      "text/plain": [
       "[<selenium.webdriver.remote.webelement.WebElement (session=\"49eebefe4b887ffe18bb5bd9da8b911a\", element=\"7161d7de-5374-4802-a08d-281d47c45afb\")>,\n",
       " <selenium.webdriver.remote.webelement.WebElement (session=\"49eebefe4b887ffe18bb5bd9da8b911a\", element=\"f65a7096-3668-4bf9-97bc-dd260f0f0c98\")>,\n",
       " <selenium.webdriver.remote.webelement.WebElement (session=\"49eebefe4b887ffe18bb5bd9da8b911a\", element=\"4970e016-fd3a-480b-a303-4c2b477f1733\")>,\n",
       " <selenium.webdriver.remote.webelement.WebElement (session=\"49eebefe4b887ffe18bb5bd9da8b911a\", element=\"ecd8e22d-bb81-4e4e-897b-978d43f49543\")>,\n",
       " <selenium.webdriver.remote.webelement.WebElement (session=\"49eebefe4b887ffe18bb5bd9da8b911a\", element=\"7ef6e483-4157-4081-a1c3-bf3eb6d0bed1\")>,\n",
       " <selenium.webdriver.remote.webelement.WebElement (session=\"49eebefe4b887ffe18bb5bd9da8b911a\", element=\"5f04cf61-119e-4630-9fab-65ac43d8c67c\")>,\n",
       " <selenium.webdriver.remote.webelement.WebElement (session=\"49eebefe4b887ffe18bb5bd9da8b911a\", element=\"5ab98e62-bd43-4ccc-bed5-660e70a75cec\")>,\n",
       " <selenium.webdriver.remote.webelement.WebElement (session=\"49eebefe4b887ffe18bb5bd9da8b911a\", element=\"7969ae99-8b4b-4c82-b78b-8d70568ad76c\")>,\n",
       " <selenium.webdriver.remote.webelement.WebElement (session=\"49eebefe4b887ffe18bb5bd9da8b911a\", element=\"0e2c45f3-d953-444f-a18c-b7ad3f1df34d\")>,\n",
       " <selenium.webdriver.remote.webelement.WebElement (session=\"49eebefe4b887ffe18bb5bd9da8b911a\", element=\"9dfa3adb-61b5-4122-919a-9689a2f2e661\")>]"
      ]
     },
     "execution_count": 29,
     "metadata": {},
     "output_type": "execute_result"
    }
   ],
   "source": [
    "startup_tag = driver.find_elements_by_xpath(\"//td[@class='column-3']\")\n",
    "startup_tag[0:10]"
   ]
  },
  {
   "cell_type": "code",
   "execution_count": 30,
   "id": "f4980aac",
   "metadata": {},
   "outputs": [
    {
     "data": {
      "text/plain": [
       "['BYJU’S',\n",
       " 'Meesho',\n",
       " 'Swiggy',\n",
       " 'Groww',\n",
       " 'Beldara',\n",
       " 'DealShare',\n",
       " 'Uniphore',\n",
       " 'Dunzo',\n",
       " 'BYJU’S',\n",
       " 'SkilloVilla']"
      ]
     },
     "execution_count": 30,
     "metadata": {},
     "output_type": "execute_result"
    }
   ],
   "source": [
    "for i in startup_tag:\n",
    "    start=i.text\n",
    "    startup_name.append(start)\n",
    "startup_name[0:10]"
   ]
  },
  {
   "cell_type": "code",
   "execution_count": 31,
   "id": "3e9385bb",
   "metadata": {},
   "outputs": [
    {
     "name": "stderr",
     "output_type": "stream",
     "text": [
      "<ipython-input-31-01cb6b56c267>:1: DeprecationWarning: find_elements_by_* commands are deprecated. Please use find_elements() instead\n",
      "  industry_vertical_tag = driver.find_elements_by_xpath(\"//td[@class='column-4']\")\n"
     ]
    },
    {
     "data": {
      "text/plain": [
       "[<selenium.webdriver.remote.webelement.WebElement (session=\"49eebefe4b887ffe18bb5bd9da8b911a\", element=\"4995d947-d07b-4be7-a946-b5e0feef541c\")>,\n",
       " <selenium.webdriver.remote.webelement.WebElement (session=\"49eebefe4b887ffe18bb5bd9da8b911a\", element=\"09460733-cb64-4d83-8093-b3e53e75c0e3\")>,\n",
       " <selenium.webdriver.remote.webelement.WebElement (session=\"49eebefe4b887ffe18bb5bd9da8b911a\", element=\"262b7c2a-dbd4-471d-a67c-201852e6f1ef\")>,\n",
       " <selenium.webdriver.remote.webelement.WebElement (session=\"49eebefe4b887ffe18bb5bd9da8b911a\", element=\"0fc33fc8-ae39-4bb1-8591-28f5d60ca2e8\")>,\n",
       " <selenium.webdriver.remote.webelement.WebElement (session=\"49eebefe4b887ffe18bb5bd9da8b911a\", element=\"4de894f1-d200-466e-b31b-5d0c3a4564ab\")>,\n",
       " <selenium.webdriver.remote.webelement.WebElement (session=\"49eebefe4b887ffe18bb5bd9da8b911a\", element=\"51490782-7c62-43e4-9253-23c94a9187d7\")>,\n",
       " <selenium.webdriver.remote.webelement.WebElement (session=\"49eebefe4b887ffe18bb5bd9da8b911a\", element=\"55a553df-4365-4a65-91ab-70edf9ad601f\")>,\n",
       " <selenium.webdriver.remote.webelement.WebElement (session=\"49eebefe4b887ffe18bb5bd9da8b911a\", element=\"a87e4de4-36de-4f5e-a55a-293d43f0e3d5\")>,\n",
       " <selenium.webdriver.remote.webelement.WebElement (session=\"49eebefe4b887ffe18bb5bd9da8b911a\", element=\"aaad2fef-0ee0-4442-9d54-7e926b2d349a\")>,\n",
       " <selenium.webdriver.remote.webelement.WebElement (session=\"49eebefe4b887ffe18bb5bd9da8b911a\", element=\"62853f7a-813a-4673-a1ab-e9bdcf799231\")>]"
      ]
     },
     "execution_count": 31,
     "metadata": {},
     "output_type": "execute_result"
    }
   ],
   "source": [
    "industry_vertical_tag = driver.find_elements_by_xpath(\"//td[@class='column-4']\")\n",
    "industry_vertical_tag[0:10]"
   ]
  },
  {
   "cell_type": "code",
   "execution_count": 32,
   "id": "dd79bd11",
   "metadata": {},
   "outputs": [
    {
     "data": {
      "text/plain": [
       "['Edu-tech',\n",
       " 'E-commerce',\n",
       " 'Online Food Delivery',\n",
       " 'FinTech',\n",
       " 'E-commerce',\n",
       " 'E-commerce',\n",
       " 'Technology',\n",
       " 'E-commerce',\n",
       " 'Edu-tech',\n",
       " 'Edu-tech']"
      ]
     },
     "execution_count": 32,
     "metadata": {},
     "output_type": "execute_result"
    }
   ],
   "source": [
    "for i in industry_vertical_tag:\n",
    "    industry=i.text\n",
    "    industry_vertical.append(industry)\n",
    "industry_vertical[0:10]"
   ]
  },
  {
   "cell_type": "code",
   "execution_count": 33,
   "id": "b8c4318e",
   "metadata": {},
   "outputs": [
    {
     "name": "stderr",
     "output_type": "stream",
     "text": [
      "<ipython-input-33-a3f2465b8347>:1: DeprecationWarning: find_elements_by_* commands are deprecated. Please use find_elements() instead\n",
      "  sub_vertical_tags = driver.find_elements_by_xpath(\"//td[@class='column-5']\")\n"
     ]
    },
    {
     "data": {
      "text/plain": [
       "[<selenium.webdriver.remote.webelement.WebElement (session=\"49eebefe4b887ffe18bb5bd9da8b911a\", element=\"222c3703-368d-4390-a55c-f735d675e92b\")>,\n",
       " <selenium.webdriver.remote.webelement.WebElement (session=\"49eebefe4b887ffe18bb5bd9da8b911a\", element=\"b03df4d2-6e20-41f8-bdca-b8c1506f0f67\")>,\n",
       " <selenium.webdriver.remote.webelement.WebElement (session=\"49eebefe4b887ffe18bb5bd9da8b911a\", element=\"2da8cf68-1b15-465c-b600-e7da43a7703c\")>,\n",
       " <selenium.webdriver.remote.webelement.WebElement (session=\"49eebefe4b887ffe18bb5bd9da8b911a\", element=\"deb4d3d6-d179-45f3-a7ec-7cc94e8df87d\")>,\n",
       " <selenium.webdriver.remote.webelement.WebElement (session=\"49eebefe4b887ffe18bb5bd9da8b911a\", element=\"da04374e-1f24-44dd-9b3e-1f4326f6c4c6\")>,\n",
       " <selenium.webdriver.remote.webelement.WebElement (session=\"49eebefe4b887ffe18bb5bd9da8b911a\", element=\"4f9f3ce4-929b-4f35-b862-ca7943b691a4\")>,\n",
       " <selenium.webdriver.remote.webelement.WebElement (session=\"49eebefe4b887ffe18bb5bd9da8b911a\", element=\"d5f160d2-6b1e-4f9a-9087-06de783ff8fe\")>,\n",
       " <selenium.webdriver.remote.webelement.WebElement (session=\"49eebefe4b887ffe18bb5bd9da8b911a\", element=\"f199ca81-ff22-4c80-8384-9eb92b0a688d\")>,\n",
       " <selenium.webdriver.remote.webelement.WebElement (session=\"49eebefe4b887ffe18bb5bd9da8b911a\", element=\"08047b6e-8da4-4fa1-8079-25d29de40815\")>,\n",
       " <selenium.webdriver.remote.webelement.WebElement (session=\"49eebefe4b887ffe18bb5bd9da8b911a\", element=\"6076c26d-0103-4973-9fc7-f284b482d051\")>]"
      ]
     },
     "execution_count": 33,
     "metadata": {},
     "output_type": "execute_result"
    }
   ],
   "source": [
    "sub_vertical_tags = driver.find_elements_by_xpath(\"//td[@class='column-5']\")\n",
    "sub_vertical_tags[0:10]"
   ]
  },
  {
   "cell_type": "code",
   "execution_count": 34,
   "id": "c063b399",
   "metadata": {},
   "outputs": [
    {
     "data": {
      "text/plain": [
       "['Online tutoring',\n",
       " 'Online reselling platform',\n",
       " 'Online Food Delivery',\n",
       " 'Investment platform',\n",
       " 'Global B2B marketplace',\n",
       " 'Online shopping platform',\n",
       " 'Conversational Service Automation (CSA)',\n",
       " 'Hyper-local delivery app',\n",
       " 'Online tutoring',\n",
       " 'Career and job-oriented upskilling.']"
      ]
     },
     "execution_count": 34,
     "metadata": {},
     "output_type": "execute_result"
    }
   ],
   "source": [
    "for i in sub_vertical_tags:\n",
    "    sub=i.text\n",
    "    sub_vertical.append(sub)\n",
    "sub_vertical[0:10]"
   ]
  },
  {
   "cell_type": "code",
   "execution_count": 35,
   "id": "2e82c8e5",
   "metadata": {},
   "outputs": [
    {
     "name": "stderr",
     "output_type": "stream",
     "text": [
      "<ipython-input-35-872e34fe2f94>:1: DeprecationWarning: find_elements_by_* commands are deprecated. Please use find_elements() instead\n",
      "  city_tags = driver.find_elements_by_xpath(\"//td[@class='column-6']\")\n"
     ]
    },
    {
     "data": {
      "text/plain": [
       "[<selenium.webdriver.remote.webelement.WebElement (session=\"49eebefe4b887ffe18bb5bd9da8b911a\", element=\"7d1a2e7b-3aaa-4f8b-aed7-dd1e8de66241\")>,\n",
       " <selenium.webdriver.remote.webelement.WebElement (session=\"49eebefe4b887ffe18bb5bd9da8b911a\", element=\"88a78e76-9974-4bf6-89fb-6152f5267986\")>,\n",
       " <selenium.webdriver.remote.webelement.WebElement (session=\"49eebefe4b887ffe18bb5bd9da8b911a\", element=\"d92ddaab-1971-425a-a7c7-03f5fd87dda7\")>,\n",
       " <selenium.webdriver.remote.webelement.WebElement (session=\"49eebefe4b887ffe18bb5bd9da8b911a\", element=\"d0f938c0-d15d-4c97-91f8-0cf2bdd998b2\")>,\n",
       " <selenium.webdriver.remote.webelement.WebElement (session=\"49eebefe4b887ffe18bb5bd9da8b911a\", element=\"b29d270e-12d7-4c8f-8ef7-4df2b3a52432\")>,\n",
       " <selenium.webdriver.remote.webelement.WebElement (session=\"49eebefe4b887ffe18bb5bd9da8b911a\", element=\"10331980-48b6-43db-86af-bb58c5525aa9\")>,\n",
       " <selenium.webdriver.remote.webelement.WebElement (session=\"49eebefe4b887ffe18bb5bd9da8b911a\", element=\"3ee73150-64ab-4763-b600-78775870fcf0\")>,\n",
       " <selenium.webdriver.remote.webelement.WebElement (session=\"49eebefe4b887ffe18bb5bd9da8b911a\", element=\"5f093335-074b-4df4-a18c-fd4d8ced661a\")>,\n",
       " <selenium.webdriver.remote.webelement.WebElement (session=\"49eebefe4b887ffe18bb5bd9da8b911a\", element=\"5d158b5e-15e1-4863-b463-bf9e58e69261\")>,\n",
       " <selenium.webdriver.remote.webelement.WebElement (session=\"49eebefe4b887ffe18bb5bd9da8b911a\", element=\"7046da4f-5746-460a-8006-4f61ab4369c6\")>]"
      ]
     },
     "execution_count": 35,
     "metadata": {},
     "output_type": "execute_result"
    }
   ],
   "source": [
    "city_tags = driver.find_elements_by_xpath(\"//td[@class='column-6']\")\n",
    "city_tags[0:10]"
   ]
  },
  {
   "cell_type": "code",
   "execution_count": 36,
   "id": "2fa9e5ed",
   "metadata": {},
   "outputs": [
    {
     "data": {
      "text/plain": [
       "['Bengaluru',\n",
       " 'Bengaluru',\n",
       " 'Bengaluru',\n",
       " 'Bengaluru',\n",
       " 'Mumbai',\n",
       " 'Jaipur, Rajasthan',\n",
       " 'Palo Alto',\n",
       " 'Bengaluru',\n",
       " 'Bengaluru',\n",
       " 'Bengaluru']"
      ]
     },
     "execution_count": 36,
     "metadata": {},
     "output_type": "execute_result"
    }
   ],
   "source": [
    "for i in city_tags:\n",
    "    loc=i.text\n",
    "    city.append(loc)\n",
    "city[0:10]"
   ]
  },
  {
   "cell_type": "code",
   "execution_count": 37,
   "id": "45f48573",
   "metadata": {},
   "outputs": [
    {
     "name": "stderr",
     "output_type": "stream",
     "text": [
      "<ipython-input-37-5d4cf3b44027>:1: DeprecationWarning: find_elements_by_* commands are deprecated. Please use find_elements() instead\n",
      "  name_tag = driver.find_elements_by_xpath(\"//td[@class='column-7']\")\n"
     ]
    },
    {
     "data": {
      "text/plain": [
       "[<selenium.webdriver.remote.webelement.WebElement (session=\"49eebefe4b887ffe18bb5bd9da8b911a\", element=\"037a11d5-6094-4901-81f9-6e903008345b\")>,\n",
       " <selenium.webdriver.remote.webelement.WebElement (session=\"49eebefe4b887ffe18bb5bd9da8b911a\", element=\"abe56119-8422-4027-ad7f-9e86e94f15f3\")>,\n",
       " <selenium.webdriver.remote.webelement.WebElement (session=\"49eebefe4b887ffe18bb5bd9da8b911a\", element=\"aec65a33-f0fe-4398-bd6c-91f832bdff29\")>,\n",
       " <selenium.webdriver.remote.webelement.WebElement (session=\"49eebefe4b887ffe18bb5bd9da8b911a\", element=\"091ccdae-b12e-4552-832f-95d0f940094b\")>,\n",
       " <selenium.webdriver.remote.webelement.WebElement (session=\"49eebefe4b887ffe18bb5bd9da8b911a\", element=\"e50bec2f-e604-4064-81eb-5185a0b7f229\")>,\n",
       " <selenium.webdriver.remote.webelement.WebElement (session=\"49eebefe4b887ffe18bb5bd9da8b911a\", element=\"45a96e06-d9ac-471a-a4de-50e3605bc6b3\")>,\n",
       " <selenium.webdriver.remote.webelement.WebElement (session=\"49eebefe4b887ffe18bb5bd9da8b911a\", element=\"856237e4-e604-4fd9-8488-65249fab537d\")>,\n",
       " <selenium.webdriver.remote.webelement.WebElement (session=\"49eebefe4b887ffe18bb5bd9da8b911a\", element=\"2a4f3be9-9b27-453a-813e-d2222b29502a\")>,\n",
       " <selenium.webdriver.remote.webelement.WebElement (session=\"49eebefe4b887ffe18bb5bd9da8b911a\", element=\"abbc1e6d-f3f1-4a1f-937b-c3c167f46053\")>,\n",
       " <selenium.webdriver.remote.webelement.WebElement (session=\"49eebefe4b887ffe18bb5bd9da8b911a\", element=\"a68ac18b-9056-402e-9477-9591ad3cf35b\")>]"
      ]
     },
     "execution_count": 37,
     "metadata": {},
     "output_type": "execute_result"
    }
   ],
   "source": [
    "name_tag = driver.find_elements_by_xpath(\"//td[@class='column-7']\")\n",
    "name_tag[0:10]"
   ]
  },
  {
   "cell_type": "code",
   "execution_count": 38,
   "id": "619a64d6",
   "metadata": {},
   "outputs": [
    {
     "data": {
      "text/plain": [
       "['Innoven Capital',\n",
       " 'SoftBank Vision Fund 2',\n",
       " 'Amansa Holdings, Carmignac, Falcon Edge Capital, Goldman Sachs, Think Investments',\n",
       " 'MC Global Edtech, B Capital, Baron, others',\n",
       " 'Hindustan Media Ventures',\n",
       " 'Innoven Capital',\n",
       " 'Sorenson Capital Partners',\n",
       " 'Krishtal Advisors Pte Ltd',\n",
       " 'MC Global Edtech, B Capital, Baron, others',\n",
       " 'Titan Capital, others']"
      ]
     },
     "execution_count": 38,
     "metadata": {},
     "output_type": "execute_result"
    }
   ],
   "source": [
    "for i in name_tag:\n",
    "    names=i.text\n",
    "    investers_name.append(names)\n",
    "investers_name[0:10]"
   ]
  },
  {
   "cell_type": "code",
   "execution_count": 43,
   "id": "02e3d8b1",
   "metadata": {},
   "outputs": [
    {
     "name": "stderr",
     "output_type": "stream",
     "text": [
      "<ipython-input-43-91235c510194>:1: DeprecationWarning: find_elements_by_* commands are deprecated. Please use find_elements() instead\n",
      "  investment_tag = driver.find_elements_by_xpath(\"//td[@class='column-8']\")\n"
     ]
    },
    {
     "data": {
      "text/plain": [
       "[<selenium.webdriver.remote.webelement.WebElement (session=\"49eebefe4b887ffe18bb5bd9da8b911a\", element=\"1d34f7c8-c77a-405c-a241-7f67a18eec74\")>,\n",
       " <selenium.webdriver.remote.webelement.WebElement (session=\"49eebefe4b887ffe18bb5bd9da8b911a\", element=\"df6d871a-3f63-4430-b121-c48ef2898cf6\")>,\n",
       " <selenium.webdriver.remote.webelement.WebElement (session=\"49eebefe4b887ffe18bb5bd9da8b911a\", element=\"593d6fc0-4a11-4b9f-9384-cdbc8f7debca\")>,\n",
       " <selenium.webdriver.remote.webelement.WebElement (session=\"49eebefe4b887ffe18bb5bd9da8b911a\", element=\"3b9813d2-48e9-41ce-a602-045b98d94c34\")>,\n",
       " <selenium.webdriver.remote.webelement.WebElement (session=\"49eebefe4b887ffe18bb5bd9da8b911a\", element=\"34703a37-1bbc-401a-b062-5a5a88a54384\")>,\n",
       " <selenium.webdriver.remote.webelement.WebElement (session=\"49eebefe4b887ffe18bb5bd9da8b911a\", element=\"f95679fb-ab91-4395-9d44-4bb7b4149fd3\")>,\n",
       " <selenium.webdriver.remote.webelement.WebElement (session=\"49eebefe4b887ffe18bb5bd9da8b911a\", element=\"1908b1eb-4bca-44ea-92ff-545523df7694\")>,\n",
       " <selenium.webdriver.remote.webelement.WebElement (session=\"49eebefe4b887ffe18bb5bd9da8b911a\", element=\"0dde1237-92a1-4c51-b16c-4a9f2e446d7e\")>,\n",
       " <selenium.webdriver.remote.webelement.WebElement (session=\"49eebefe4b887ffe18bb5bd9da8b911a\", element=\"1ed4b9d2-90af-4170-b26a-e1f51c6824be\")>,\n",
       " <selenium.webdriver.remote.webelement.WebElement (session=\"49eebefe4b887ffe18bb5bd9da8b911a\", element=\"691758ac-fa91-4eb6-b55e-c0d4e0448cc7\")>]"
      ]
     },
     "execution_count": 43,
     "metadata": {},
     "output_type": "execute_result"
    }
   ],
   "source": [
    "investment_tag = driver.find_elements_by_xpath(\"//td[@class='column-8']\")\n",
    "investment_tag[0:10]"
   ]
  },
  {
   "cell_type": "code",
   "execution_count": 44,
   "id": "51ba6eed",
   "metadata": {},
   "outputs": [
    {
     "data": {
      "text/plain": [
       "['Series F',\n",
       " 'Series E',\n",
       " 'Series J',\n",
       " 'Series D',\n",
       " 'Venture',\n",
       " 'Debt Financing',\n",
       " 'Series D',\n",
       " 'Series E',\n",
       " 'Series F',\n",
       " 'Seed']"
      ]
     },
     "execution_count": 44,
     "metadata": {},
     "output_type": "execute_result"
    }
   ],
   "source": [
    "for i in investment_tag:\n",
    "    invest =i.text\n",
    "    investment_type.append(invest)\n",
    "investment_type[0:10]\n",
    "\n"
   ]
  },
  {
   "cell_type": "code",
   "execution_count": 45,
   "id": "6fc2b18b",
   "metadata": {},
   "outputs": [
    {
     "name": "stderr",
     "output_type": "stream",
     "text": [
      "<ipython-input-45-0e9013a7632b>:1: DeprecationWarning: find_elements_by_* commands are deprecated. Please use find_elements() instead\n",
      "  amount_tag = driver.find_elements_by_xpath(\"//td[@class='column-9']\")\n"
     ]
    },
    {
     "data": {
      "text/plain": [
       "[<selenium.webdriver.remote.webelement.WebElement (session=\"49eebefe4b887ffe18bb5bd9da8b911a\", element=\"5338fc47-95e0-4f04-b383-bcb5868f3b13\")>,\n",
       " <selenium.webdriver.remote.webelement.WebElement (session=\"49eebefe4b887ffe18bb5bd9da8b911a\", element=\"cd05abd0-aa76-4c65-b2c0-10c4af264d5c\")>,\n",
       " <selenium.webdriver.remote.webelement.WebElement (session=\"49eebefe4b887ffe18bb5bd9da8b911a\", element=\"f2be72a0-5f4d-4f26-9db4-6ff2224be270\")>,\n",
       " <selenium.webdriver.remote.webelement.WebElement (session=\"49eebefe4b887ffe18bb5bd9da8b911a\", element=\"5b844d05-81f8-4714-bacd-c390e1f205ea\")>,\n",
       " <selenium.webdriver.remote.webelement.WebElement (session=\"49eebefe4b887ffe18bb5bd9da8b911a\", element=\"ed1dbe7d-3b0b-4c5c-b740-bb3e3678f055\")>,\n",
       " <selenium.webdriver.remote.webelement.WebElement (session=\"49eebefe4b887ffe18bb5bd9da8b911a\", element=\"41a3f07a-d126-42a0-be1e-4e01af7a9ee6\")>,\n",
       " <selenium.webdriver.remote.webelement.WebElement (session=\"49eebefe4b887ffe18bb5bd9da8b911a\", element=\"f56ec82d-32c0-44b2-86f5-f12d881f1069\")>,\n",
       " <selenium.webdriver.remote.webelement.WebElement (session=\"49eebefe4b887ffe18bb5bd9da8b911a\", element=\"92723f24-cb0e-47df-bafc-aafe59cbf8e3\")>,\n",
       " <selenium.webdriver.remote.webelement.WebElement (session=\"49eebefe4b887ffe18bb5bd9da8b911a\", element=\"60e93f2f-a3e6-472e-ae16-4f260b98b2d5\")>,\n",
       " <selenium.webdriver.remote.webelement.WebElement (session=\"49eebefe4b887ffe18bb5bd9da8b911a\", element=\"828f9b20-50ef-4c2a-acff-5fba571d6883\")>]"
      ]
     },
     "execution_count": 45,
     "metadata": {},
     "output_type": "execute_result"
    }
   ],
   "source": [
    "amount_tag = driver.find_elements_by_xpath(\"//td[@class='column-9']\")\n",
    "amount_tag[0:10]"
   ]
  },
  {
   "cell_type": "code",
   "execution_count": 46,
   "id": "1b432184",
   "metadata": {},
   "outputs": [
    {
     "data": {
      "text/plain": [
       "['460,000,000',\n",
       " '300,000,000',\n",
       " '343,000,000',\n",
       " '83,000,000',\n",
       " '7,400,000',\n",
       " '250,000,000',\n",
       " '140,000,000',\n",
       " '8,000,000',\n",
       " '460,000,000',\n",
       " '300,000,000']"
      ]
     },
     "execution_count": 46,
     "metadata": {},
     "output_type": "execute_result"
    }
   ],
   "source": [
    "for i in amount_tag:\n",
    "    amt =i.text\n",
    "    amount.append(amt)\n",
    "amount[0:10]\n",
    "\n"
   ]
  },
  {
   "cell_type": "code",
   "execution_count": 47,
   "id": "356242bb",
   "metadata": {},
   "outputs": [
    {
     "name": "stdout",
     "output_type": "stream",
     "text": [
      "     Unnamed: 0  Date  Startup  Industry_vertical  Sub_ver  Invester  \\\n",
      "0             0   NaN      NaN                NaN      NaN       NaN   \n",
      "1             1   NaN      NaN                NaN      NaN       NaN   \n",
      "2             2   NaN      NaN                NaN      NaN       NaN   \n",
      "3             3   NaN      NaN                NaN      NaN       NaN   \n",
      "4             4   NaN      NaN                NaN      NaN       NaN   \n",
      "..          ...   ...      ...                ...      ...       ...   \n",
      "387         387   NaN      NaN                NaN      NaN       NaN   \n",
      "388         388   NaN      NaN                NaN      NaN       NaN   \n",
      "389         389   NaN      NaN                NaN      NaN       NaN   \n",
      "390         390   NaN      NaN                NaN      NaN       NaN   \n",
      "391         391   NaN      NaN                NaN      NaN       NaN   \n",
      "\n",
      "             invest_type       Amount  \n",
      "0               Series F  460,000,000  \n",
      "1               Series E  300,000,000  \n",
      "2               Series J  343,000,000  \n",
      "3               Series D   83,000,000  \n",
      "4                Venture    7,400,000  \n",
      "..                   ...          ...  \n",
      "387  Seed/ Angel Funding      440,000  \n",
      "388  Seed/ Angel Funding    1,100,000  \n",
      "389  Seed/ Angel Funding      437,000  \n",
      "390  Seed/ Angel Funding          NaN  \n",
      "391       Private Equity    5,000,000  \n",
      "\n",
      "[392 rows x 8 columns]\n"
     ]
    }
   ],
   "source": [
    "funding_data =pd.DataFrame({})\n",
    "funding_data['Date']= date\n",
    "funding_data['Startup']= startup_name\n",
    "funding_data['Industry_vertical']= industry_vertical\n",
    "funding_data['Sub_ver']= sub_vertical\n",
    "funding_data['Invester']= investers_name\n",
    "funding_data['invest_type']= investment_type\n",
    "funding_data['Amount']= amount\n",
    "\n",
    "\n",
    "\n",
    "convert = pd.DataFrame(funding_data)\n",
    "convert.to_csv(\"out6.csv\")\n",
    "\n",
    "a = pd.read_csv(\"out6.csv\")\n",
    "print(a)\n",
    "\n"
   ]
  },
  {
   "cell_type": "code",
   "execution_count": 28,
   "id": "5262fda9",
   "metadata": {},
   "outputs": [
    {
     "name": "stdout",
     "output_type": "stream",
     "text": [
      "Collecting geopy\n",
      "  Downloading geopy-2.2.0-py3-none-any.whl (118 kB)\n",
      "Collecting geographiclib<2,>=1.49\n",
      "  Downloading geographiclib-1.52-py3-none-any.whl (38 kB)\n",
      "Installing collected packages: geographiclib, geopy\n",
      "Successfully installed geographiclib-1.52 geopy-2.2.0\n"
     ]
    }
   ],
   "source": [
    "#Q5\n",
    "!pip install geopy"
   ]
  },
  {
   "cell_type": "code",
   "execution_count": 51,
   "id": "2dbc117a",
   "metadata": {},
   "outputs": [
    {
     "data": {
      "text/plain": [
       "('-80.2216979', '26.6069719')"
      ]
     },
     "execution_count": 51,
     "metadata": {},
     "output_type": "execute_result"
    }
   ],
   "source": [
    "import requests\n",
    "\n",
    "from geopy.geocoders import Nominatim\n",
    "\n",
    "geolocator = Nominatim(user_agent='myapplication')\n",
    "\n",
    "def get_nominatim_geocode(address):\n",
    "    try:\n",
    "      location = geolocator.geocode(address)\n",
    "      return location.raw['lon'], location.raw['lat']\n",
    "    except Exception as e:\n",
    "        # print(e)\n",
    "        return None, None\n",
    "\n",
    "def get_positionstack_geocode(address):\n",
    "  BASE_URL = \"http://api.positionstack.com/v1/forward?access_key=\"\n",
    "  API_KEY = \"YOUR_API_KEY\"\n",
    "  \n",
    "  url = BASE_URL +API_KEY+'&query='+urllib.parse.quote(address)\n",
    "  try:\n",
    "      response = requests.get(url).json()\n",
    "      # print( response[\"data\"][0])\n",
    "      return response[\"data\"][0][\"longitude\"], response[\"data\"][0][\"latitude\"]\n",
    "  except Exception as e:\n",
    "      # print(e)\n",
    "      return None,None\n",
    "\n",
    "def get_geocode(address):\n",
    "  long,lat = get_nominatim_geocode(address)\n",
    "  if long == None:\n",
    "    return get_positionstack_geocode(address)\n",
    "  else:\n",
    "    return long,lat\n",
    "\n",
    "address = \"50TH ST S\"\n",
    "\n",
    "get_geocode(address)"
   ]
  },
  {
   "cell_type": "code",
   "execution_count": null,
   "id": "010782fc",
   "metadata": {},
   "outputs": [],
   "source": []
  },
  {
   "cell_type": "code",
   "execution_count": null,
   "id": "7b443e62",
   "metadata": {},
   "outputs": [],
   "source": []
  }
 ],
 "metadata": {
  "kernelspec": {
   "display_name": "Python 3",
   "language": "python",
   "name": "python3"
  },
  "language_info": {
   "codemirror_mode": {
    "name": "ipython",
    "version": 3
   },
   "file_extension": ".py",
   "mimetype": "text/x-python",
   "name": "python",
   "nbconvert_exporter": "python",
   "pygments_lexer": "ipython3",
   "version": "3.8.8"
  }
 },
 "nbformat": 4,
 "nbformat_minor": 5
}
